{
 "cells": [
  {
   "cell_type": "markdown",
   "metadata": {},
   "source": [
    "**Context**\n",
    "\n",
    "Can an automated system recommend a funny joke? Jester is an online joke recommender system developed by Ken Goldberg and the team at UC Berkeley. Users are presented jokes through an HTML client interface and allowed to rate jokes. Once a user rates all jokes in the gauge set, the system recommends new jokes to the user."
   ]
  },
  {
   "cell_type": "code",
   "execution_count": 22,
   "metadata": {},
   "outputs": [],
   "source": [
    "import pandas as pd\n",
    "import matplotlib.pyplot as plt\n",
    "import numpy as np\n",
    "import seaborn as sns"
   ]
  },
  {
   "cell_type": "markdown",
   "metadata": {},
   "source": [
    "**THE DATA**\n",
    "\n",
    "jester_items.csv - jokeid, joke text.\n",
    "\n",
    "jester_ratings.csv - userId, jokeid, rating"
   ]
  },
  {
   "cell_type": "code",
   "execution_count": 2,
   "metadata": {},
   "outputs": [
    {
     "data": {
      "text/html": [
       "<div>\n",
       "<style scoped>\n",
       "    .dataframe tbody tr th:only-of-type {\n",
       "        vertical-align: middle;\n",
       "    }\n",
       "\n",
       "    .dataframe tbody tr th {\n",
       "        vertical-align: top;\n",
       "    }\n",
       "\n",
       "    .dataframe thead th {\n",
       "        text-align: right;\n",
       "    }\n",
       "</style>\n",
       "<table border=\"1\" class=\"dataframe\">\n",
       "  <thead>\n",
       "    <tr style=\"text-align: right;\">\n",
       "      <th></th>\n",
       "      <th>jokeId</th>\n",
       "      <th>jokeText</th>\n",
       "    </tr>\n",
       "  </thead>\n",
       "  <tbody>\n",
       "    <tr>\n",
       "      <th>0</th>\n",
       "      <td>1</td>\n",
       "      <td>A man visits the doctor. The doctor says \"I ha...</td>\n",
       "    </tr>\n",
       "    <tr>\n",
       "      <th>1</th>\n",
       "      <td>2</td>\n",
       "      <td>This couple had an excellent relationship goin...</td>\n",
       "    </tr>\n",
       "    <tr>\n",
       "      <th>2</th>\n",
       "      <td>3</td>\n",
       "      <td>Q. What's 200 feet long and has 4 teeth? \\n\\nA...</td>\n",
       "    </tr>\n",
       "    <tr>\n",
       "      <th>3</th>\n",
       "      <td>4</td>\n",
       "      <td>Q. What's the difference between a man and a t...</td>\n",
       "    </tr>\n",
       "    <tr>\n",
       "      <th>4</th>\n",
       "      <td>5</td>\n",
       "      <td>Q.\\tWhat's O. J. Simpson's Internet address? \\...</td>\n",
       "    </tr>\n",
       "  </tbody>\n",
       "</table>\n",
       "</div>"
      ],
      "text/plain": [
       "   jokeId                                           jokeText\n",
       "0       1  A man visits the doctor. The doctor says \"I ha...\n",
       "1       2  This couple had an excellent relationship goin...\n",
       "2       3  Q. What's 200 feet long and has 4 teeth? \\n\\nA...\n",
       "3       4  Q. What's the difference between a man and a t...\n",
       "4       5  Q.\\tWhat's O. J. Simpson's Internet address? \\..."
      ]
     },
     "execution_count": 2,
     "metadata": {},
     "output_type": "execute_result"
    }
   ],
   "source": [
    "df_jokes = pd.read_csv('/storage/archive/jokes/jester_items.csv')\n",
    "df_jokes.head()"
   ]
  },
  {
   "cell_type": "code",
   "execution_count": 3,
   "metadata": {},
   "outputs": [
    {
     "name": "stdout",
     "output_type": "stream",
     "text": [
      "(1761439, 3)\n"
     ]
    },
    {
     "data": {
      "text/html": [
       "<div>\n",
       "<style scoped>\n",
       "    .dataframe tbody tr th:only-of-type {\n",
       "        vertical-align: middle;\n",
       "    }\n",
       "\n",
       "    .dataframe tbody tr th {\n",
       "        vertical-align: top;\n",
       "    }\n",
       "\n",
       "    .dataframe thead th {\n",
       "        text-align: right;\n",
       "    }\n",
       "</style>\n",
       "<table border=\"1\" class=\"dataframe\">\n",
       "  <thead>\n",
       "    <tr style=\"text-align: right;\">\n",
       "      <th></th>\n",
       "      <th>userId</th>\n",
       "      <th>jokeId</th>\n",
       "      <th>rating</th>\n",
       "    </tr>\n",
       "  </thead>\n",
       "  <tbody>\n",
       "    <tr>\n",
       "      <th>0</th>\n",
       "      <td>1</td>\n",
       "      <td>5</td>\n",
       "      <td>0.219</td>\n",
       "    </tr>\n",
       "    <tr>\n",
       "      <th>1</th>\n",
       "      <td>1</td>\n",
       "      <td>7</td>\n",
       "      <td>-9.281</td>\n",
       "    </tr>\n",
       "    <tr>\n",
       "      <th>2</th>\n",
       "      <td>1</td>\n",
       "      <td>8</td>\n",
       "      <td>-9.281</td>\n",
       "    </tr>\n",
       "    <tr>\n",
       "      <th>3</th>\n",
       "      <td>1</td>\n",
       "      <td>13</td>\n",
       "      <td>-6.781</td>\n",
       "    </tr>\n",
       "    <tr>\n",
       "      <th>4</th>\n",
       "      <td>1</td>\n",
       "      <td>15</td>\n",
       "      <td>0.875</td>\n",
       "    </tr>\n",
       "  </tbody>\n",
       "</table>\n",
       "</div>"
      ],
      "text/plain": [
       "   userId  jokeId  rating\n",
       "0       1       5   0.219\n",
       "1       1       7  -9.281\n",
       "2       1       8  -9.281\n",
       "3       1      13  -6.781\n",
       "4       1      15   0.875"
      ]
     },
     "execution_count": 3,
     "metadata": {},
     "output_type": "execute_result"
    }
   ],
   "source": [
    "df_rating = pd.read_csv('/storage/archive/jokes/jester_ratings.csv')\n",
    "print(df_rating.shape)\n",
    "df_rating.head()"
   ]
  },
  {
   "cell_type": "code",
   "execution_count": 44,
   "metadata": {},
   "outputs": [
    {
     "data": {
      "text/plain": [
       "(59132, 140, -10.0, 10.0)"
      ]
     },
     "execution_count": 44,
     "metadata": {},
     "output_type": "execute_result"
    }
   ],
   "source": [
    "# how many users/jokes in ds, the range of ratings\n",
    "df_rating['userId'].nunique() , df_rating['jokeId'].nunique(), df_rating['rating'].min(), df_rating['rating'].max()"
   ]
  },
  {
   "cell_type": "markdown",
   "metadata": {},
   "source": [
    "**how many votes each joke has?**"
   ]
  },
  {
   "cell_type": "code",
   "execution_count": 45,
   "metadata": {},
   "outputs": [
    {
     "data": {
      "text/plain": [
       "7      59122\n",
       "8      57720\n",
       "13     56333\n",
       "15     54932\n",
       "16     54150\n",
       "       ...  \n",
       "73       167\n",
       "80       167\n",
       "43       166\n",
       "51       166\n",
       "116      166\n",
       "Name: jokeId, Length: 140, dtype: int64"
      ]
     },
     "execution_count": 45,
     "metadata": {},
     "output_type": "execute_result"
    }
   ],
   "source": [
    "df_rating['jokeId'].value_counts()"
   ]
  },
  {
   "cell_type": "code",
   "execution_count": 47,
   "metadata": {},
   "outputs": [
    {
     "data": {
      "text/plain": [
       "(array([12, 63, 49,  8,  0,  0,  8]),\n",
       " array([    0,  1000, 10000, 20000, 30000, 40000, 50000, 60000]))"
      ]
     },
     "execution_count": 47,
     "metadata": {},
     "output_type": "execute_result"
    }
   ],
   "source": [
    "x = df_rating['jokeId'].value_counts().to_list()\n",
    "hist_res = np.histogram(x,bins=[0,1000,10000,20000,30000,40000,50000,60000])\n",
    "hist_res"
   ]
  },
  {
   "cell_type": "code",
   "execution_count": 49,
   "metadata": {},
   "outputs": [
    {
     "data": {
      "text/plain": [
       "Text(0.5, 1.0, 'How many votes do jokes have?')"
      ]
     },
     "execution_count": 49,
     "metadata": {},
     "output_type": "execute_result"
    },
    {
     "data": {
      "image/png": "[encoded data removed]",
      "text/plain": [
       "<Figure size 432x288 with 1 Axes>"
      ]
     },
     "metadata": {
      "needs_background": "light"
     },
     "output_type": "display_data"
    }
   ],
   "source": [
    "bar = plt.bar(list(range(len(hist_res[0]))),hist_res[0],width=0.8)\n",
    "plt.xticks(np.arange(7), ['0-1000', '1000-10000', '10000-20000','20000-30000', '30000-40000', '40000-50000','50000-']\n",
    "          , rotation=35)\n",
    "for rect in bar:\n",
    "    height = rect.get_height()\n",
    "    plt.text(rect.get_x() + rect.get_width()/2.0, height, '%d' % int(height), ha='center', va='bottom')\n",
    "plt.xlabel('Number of votes')\n",
    "plt.ylabel('Number of jokes')\n",
    "plt.title('How many votes do jokes have?')"
   ]
  },
  {
   "cell_type": "markdown",
   "metadata": {},
   "source": [
    "**How many votes each user gave?**"
   ]
  },
  {
   "cell_type": "code",
   "execution_count": 50,
   "metadata": {},
   "outputs": [
    {
     "data": {
      "text/plain": [
       "Text(0.5, 1.0, 'How many votes each user gave?')"
      ]
     },
     "execution_count": 50,
     "metadata": {},
     "output_type": "execute_result"
    },
    {
     "data": {
      "image/png": "[encoded data removed]",
      "text/plain": [
       "<Figure size 432x288 with 1 Axes>"
      ]
     },
     "metadata": {
      "needs_background": "light"
     },
     "output_type": "display_data"
    }
   ],
   "source": [
    "# How many ratings each joke has\n",
    "x = df_rating['userId'].value_counts().to_list()\n",
    "hist_res = np.histogram(x,bins=[0,20,40,60,80,100,120,141])\n",
    "hist_res\n",
    "bar = plt.bar(list(range(len(hist_res[0]))),hist_res[0],width=0.8)\n",
    "plt.xticks(np.arange(7), ['0-20', '20-40', '40-60','60-80', '80-100', '100-120','120-']\n",
    "          , rotation=35)\n",
    "for rect in bar:\n",
    "    height = rect.get_height()\n",
    "    plt.text(rect.get_x() + rect.get_width()/2.0, height, '%d' % int(height), ha='center', va='bottom')\n",
    "plt.xlabel('Number of votes')\n",
    "plt.ylabel('Number of users')\n",
    "plt.title('How many votes each user gave?')"
   ]
  },
  {
   "cell_type": "markdown",
   "metadata": {},
   "source": [
    "**what's the best joke??** "
   ]
  },
  {
   "cell_type": "code",
   "execution_count": 9,
   "metadata": {},
   "outputs": [
    {
     "data": {
      "text/html": [
       "<div>\n",
       "<style scoped>\n",
       "    .dataframe tbody tr th:only-of-type {\n",
       "        vertical-align: middle;\n",
       "    }\n",
       "\n",
       "    .dataframe tbody tr th {\n",
       "        vertical-align: top;\n",
       "    }\n",
       "\n",
       "    .dataframe thead th {\n",
       "        text-align: right;\n",
       "    }\n",
       "</style>\n",
       "<table border=\"1\" class=\"dataframe\">\n",
       "  <thead>\n",
       "    <tr style=\"text-align: right;\">\n",
       "      <th></th>\n",
       "      <th>userId</th>\n",
       "      <th>jokeId</th>\n",
       "      <th>rating</th>\n",
       "    </tr>\n",
       "  </thead>\n",
       "  <tbody>\n",
       "    <tr>\n",
       "      <th>0</th>\n",
       "      <td>1</td>\n",
       "      <td>5</td>\n",
       "      <td>0.219</td>\n",
       "    </tr>\n",
       "    <tr>\n",
       "      <th>1</th>\n",
       "      <td>1</td>\n",
       "      <td>7</td>\n",
       "      <td>-9.281</td>\n",
       "    </tr>\n",
       "    <tr>\n",
       "      <th>2</th>\n",
       "      <td>1</td>\n",
       "      <td>8</td>\n",
       "      <td>-9.281</td>\n",
       "    </tr>\n",
       "    <tr>\n",
       "      <th>3</th>\n",
       "      <td>1</td>\n",
       "      <td>13</td>\n",
       "      <td>-6.781</td>\n",
       "    </tr>\n",
       "    <tr>\n",
       "      <th>4</th>\n",
       "      <td>1</td>\n",
       "      <td>15</td>\n",
       "      <td>0.875</td>\n",
       "    </tr>\n",
       "  </tbody>\n",
       "</table>\n",
       "</div>"
      ],
      "text/plain": [
       "   userId  jokeId  rating\n",
       "0       1       5   0.219\n",
       "1       1       7  -9.281\n",
       "2       1       8  -9.281\n",
       "3       1      13  -6.781\n",
       "4       1      15   0.875"
      ]
     },
     "execution_count": 9,
     "metadata": {},
     "output_type": "execute_result"
    }
   ],
   "source": [
    "df_rating.head()"
   ]
  },
  {
   "cell_type": "code",
   "execution_count": 10,
   "metadata": {},
   "outputs": [
    {
     "data": {
      "text/html": [
       "<div>\n",
       "<style scoped>\n",
       "    .dataframe tbody tr th:only-of-type {\n",
       "        vertical-align: middle;\n",
       "    }\n",
       "\n",
       "    .dataframe tbody tr th {\n",
       "        vertical-align: top;\n",
       "    }\n",
       "\n",
       "    .dataframe thead th {\n",
       "        text-align: right;\n",
       "    }\n",
       "</style>\n",
       "<table border=\"1\" class=\"dataframe\">\n",
       "  <thead>\n",
       "    <tr style=\"text-align: right;\">\n",
       "      <th></th>\n",
       "      <th>mean</th>\n",
       "      <th>median</th>\n",
       "      <th>count</th>\n",
       "      <th>max</th>\n",
       "      <th>min</th>\n",
       "    </tr>\n",
       "    <tr>\n",
       "      <th>jokeId</th>\n",
       "      <th></th>\n",
       "      <th></th>\n",
       "      <th></th>\n",
       "      <th></th>\n",
       "      <th></th>\n",
       "    </tr>\n",
       "  </thead>\n",
       "  <tbody>\n",
       "    <tr>\n",
       "      <th>53</th>\n",
       "      <td>3.714381</td>\n",
       "      <td>4.344</td>\n",
       "      <td>23102</td>\n",
       "      <td>10.000</td>\n",
       "      <td>-10.0</td>\n",
       "    </tr>\n",
       "    <tr>\n",
       "      <th>105</th>\n",
       "      <td>3.711223</td>\n",
       "      <td>4.250</td>\n",
       "      <td>21822</td>\n",
       "      <td>10.000</td>\n",
       "      <td>-10.0</td>\n",
       "    </tr>\n",
       "    <tr>\n",
       "      <th>89</th>\n",
       "      <td>3.606506</td>\n",
       "      <td>4.344</td>\n",
       "      <td>25996</td>\n",
       "      <td>10.000</td>\n",
       "      <td>-10.0</td>\n",
       "    </tr>\n",
       "    <tr>\n",
       "      <th>129</th>\n",
       "      <td>3.583496</td>\n",
       "      <td>4.281</td>\n",
       "      <td>19509</td>\n",
       "      <td>10.000</td>\n",
       "      <td>-10.0</td>\n",
       "    </tr>\n",
       "    <tr>\n",
       "      <th>35</th>\n",
       "      <td>3.560305</td>\n",
       "      <td>4.188</td>\n",
       "      <td>20524</td>\n",
       "      <td>10.000</td>\n",
       "      <td>-10.0</td>\n",
       "    </tr>\n",
       "    <tr>\n",
       "      <th>...</th>\n",
       "      <td>...</td>\n",
       "      <td>...</td>\n",
       "      <td>...</td>\n",
       "      <td>...</td>\n",
       "      <td>...</td>\n",
       "    </tr>\n",
       "    <tr>\n",
       "      <th>16</th>\n",
       "      <td>-1.587044</td>\n",
       "      <td>-2.031</td>\n",
       "      <td>54150</td>\n",
       "      <td>10.000</td>\n",
       "      <td>-10.0</td>\n",
       "    </tr>\n",
       "    <tr>\n",
       "      <th>5</th>\n",
       "      <td>-1.756331</td>\n",
       "      <td>-2.531</td>\n",
       "      <td>661</td>\n",
       "      <td>9.969</td>\n",
       "      <td>-10.0</td>\n",
       "    </tr>\n",
       "    <tr>\n",
       "      <th>7</th>\n",
       "      <td>-1.809230</td>\n",
       "      <td>-2.531</td>\n",
       "      <td>59122</td>\n",
       "      <td>10.000</td>\n",
       "      <td>-10.0</td>\n",
       "    </tr>\n",
       "    <tr>\n",
       "      <th>124</th>\n",
       "      <td>-2.163482</td>\n",
       "      <td>-3.406</td>\n",
       "      <td>4234</td>\n",
       "      <td>10.000</td>\n",
       "      <td>-10.0</td>\n",
       "    </tr>\n",
       "    <tr>\n",
       "      <th>141</th>\n",
       "      <td>-2.749574</td>\n",
       "      <td>-3.875</td>\n",
       "      <td>4073</td>\n",
       "      <td>10.000</td>\n",
       "      <td>-10.0</td>\n",
       "    </tr>\n",
       "  </tbody>\n",
       "</table>\n",
       "<p>140 rows × 5 columns</p>\n",
       "</div>"
      ],
      "text/plain": [
       "            mean  median  count     max   min\n",
       "jokeId                                       \n",
       "53      3.714381   4.344  23102  10.000 -10.0\n",
       "105     3.711223   4.250  21822  10.000 -10.0\n",
       "89      3.606506   4.344  25996  10.000 -10.0\n",
       "129     3.583496   4.281  19509  10.000 -10.0\n",
       "35      3.560305   4.188  20524  10.000 -10.0\n",
       "...          ...     ...    ...     ...   ...\n",
       "16     -1.587044  -2.031  54150  10.000 -10.0\n",
       "5      -1.756331  -2.531    661   9.969 -10.0\n",
       "7      -1.809230  -2.531  59122  10.000 -10.0\n",
       "124    -2.163482  -3.406   4234  10.000 -10.0\n",
       "141    -2.749574  -3.875   4073  10.000 -10.0\n",
       "\n",
       "[140 rows x 5 columns]"
      ]
     },
     "execution_count": 10,
     "metadata": {},
     "output_type": "execute_result"
    }
   ],
   "source": [
    "df_group=df_rating.groupby(['jokeId'])['rating'].agg(['mean','median','count','max','min']).sort_values(by='mean',ascending=False)\n",
    "df_group"
   ]
  },
  {
   "cell_type": "markdown",
   "metadata": {},
   "source": [
    "**The best joke has avg rating of 3.714, in addition it get -10 from some user. That means there is not such thing perfect joke.**"
   ]
  },
  {
   "cell_type": "code",
   "execution_count": 11,
   "metadata": {},
   "outputs": [
    {
     "data": {
      "text/html": [
       "<div>\n",
       "<style scoped>\n",
       "    .dataframe tbody tr th:only-of-type {\n",
       "        vertical-align: middle;\n",
       "    }\n",
       "\n",
       "    .dataframe tbody tr th {\n",
       "        vertical-align: top;\n",
       "    }\n",
       "\n",
       "    .dataframe thead th {\n",
       "        text-align: right;\n",
       "    }\n",
       "</style>\n",
       "<table border=\"1\" class=\"dataframe\">\n",
       "  <thead>\n",
       "    <tr style=\"text-align: right;\">\n",
       "      <th></th>\n",
       "      <th>jokeId</th>\n",
       "      <th>jokeText</th>\n",
       "    </tr>\n",
       "  </thead>\n",
       "  <tbody>\n",
       "    <tr>\n",
       "      <th>34</th>\n",
       "      <td>35</td>\n",
       "      <td>An explorer in the deepest Amazon suddenly fin...</td>\n",
       "    </tr>\n",
       "    <tr>\n",
       "      <th>52</th>\n",
       "      <td>53</td>\n",
       "      <td>One Sunday morning William burst into the livi...</td>\n",
       "    </tr>\n",
       "    <tr>\n",
       "      <th>88</th>\n",
       "      <td>89</td>\n",
       "      <td>A radio conversation of a US naval \\nship with...</td>\n",
       "    </tr>\n",
       "    <tr>\n",
       "      <th>104</th>\n",
       "      <td>105</td>\n",
       "      <td>A couple of hunters are out in the woods in th...</td>\n",
       "    </tr>\n",
       "    <tr>\n",
       "      <th>128</th>\n",
       "      <td>129</td>\n",
       "      <td>A group of girlfriends is on vacation when the...</td>\n",
       "    </tr>\n",
       "  </tbody>\n",
       "</table>\n",
       "</div>"
      ],
      "text/plain": [
       "     jokeId                                           jokeText\n",
       "34       35  An explorer in the deepest Amazon suddenly fin...\n",
       "52       53  One Sunday morning William burst into the livi...\n",
       "88       89  A radio conversation of a US naval \\nship with...\n",
       "104     105  A couple of hunters are out in the woods in th...\n",
       "128     129  A group of girlfriends is on vacation when the..."
      ]
     },
     "execution_count": 11,
     "metadata": {},
     "output_type": "execute_result"
    }
   ],
   "source": [
    "indexes = df_group.index.values.tolist()[0:5]\n",
    "flt = df_jokes['jokeId'].isin(indexes)\n",
    "df_jokes.loc[flt]"
   ]
  },
  {
   "cell_type": "code",
   "execution_count": 12,
   "metadata": {},
   "outputs": [
    {
     "data": {
      "text/plain": [
       "'An explorer in the deepest Amazon suddenly finds himself surrounded by a bloodthirsty group of natives. Upon surveying the situation, he says quietly to himself, \"Oh God, I\\'m screwed.\"   The sky darkens and a voice booms out, \"No, you are NOT screwed. Pick up that stone at your feet and bash in the head of the chief standing in front of you.\"   So with the stone he bashes the life out of the chief. Standing above the lifeless body, breathing heavily looking at 100 angry natives...   The voice booms out again, \"Okay ..... NOW you\\'re screwed.\"  '"
      ]
     },
     "execution_count": 12,
     "metadata": {},
     "output_type": "execute_result"
    }
   ],
   "source": [
    "d = dict(df_jokes.loc[flt].values)\n",
    "d[35].replace(\"\\n\", \" \")"
   ]
  },
  {
   "cell_type": "markdown",
   "metadata": {},
   "source": [
    "**what is better long or short jokes?**"
   ]
  },
  {
   "cell_type": "code",
   "execution_count": 18,
   "metadata": {},
   "outputs": [
    {
     "data": {
      "text/html": [
       "<div>\n",
       "<style scoped>\n",
       "    .dataframe tbody tr th:only-of-type {\n",
       "        vertical-align: middle;\n",
       "    }\n",
       "\n",
       "    .dataframe tbody tr th {\n",
       "        vertical-align: top;\n",
       "    }\n",
       "\n",
       "    .dataframe thead th {\n",
       "        text-align: right;\n",
       "    }\n",
       "</style>\n",
       "<table border=\"1\" class=\"dataframe\">\n",
       "  <thead>\n",
       "    <tr style=\"text-align: right;\">\n",
       "      <th></th>\n",
       "      <th>jokeId</th>\n",
       "      <th>mean</th>\n",
       "      <th>median</th>\n",
       "      <th>count</th>\n",
       "      <th>max</th>\n",
       "      <th>min</th>\n",
       "    </tr>\n",
       "  </thead>\n",
       "  <tbody>\n",
       "    <tr>\n",
       "      <th>0</th>\n",
       "      <td>53</td>\n",
       "      <td>3.714381</td>\n",
       "      <td>4.344</td>\n",
       "      <td>23102</td>\n",
       "      <td>10.000</td>\n",
       "      <td>-10.0</td>\n",
       "    </tr>\n",
       "    <tr>\n",
       "      <th>1</th>\n",
       "      <td>105</td>\n",
       "      <td>3.711223</td>\n",
       "      <td>4.250</td>\n",
       "      <td>21822</td>\n",
       "      <td>10.000</td>\n",
       "      <td>-10.0</td>\n",
       "    </tr>\n",
       "    <tr>\n",
       "      <th>2</th>\n",
       "      <td>89</td>\n",
       "      <td>3.606506</td>\n",
       "      <td>4.344</td>\n",
       "      <td>25996</td>\n",
       "      <td>10.000</td>\n",
       "      <td>-10.0</td>\n",
       "    </tr>\n",
       "    <tr>\n",
       "      <th>3</th>\n",
       "      <td>129</td>\n",
       "      <td>3.583496</td>\n",
       "      <td>4.281</td>\n",
       "      <td>19509</td>\n",
       "      <td>10.000</td>\n",
       "      <td>-10.0</td>\n",
       "    </tr>\n",
       "    <tr>\n",
       "      <th>4</th>\n",
       "      <td>35</td>\n",
       "      <td>3.560305</td>\n",
       "      <td>4.188</td>\n",
       "      <td>20524</td>\n",
       "      <td>10.000</td>\n",
       "      <td>-10.0</td>\n",
       "    </tr>\n",
       "    <tr>\n",
       "      <th>...</th>\n",
       "      <td>...</td>\n",
       "      <td>...</td>\n",
       "      <td>...</td>\n",
       "      <td>...</td>\n",
       "      <td>...</td>\n",
       "      <td>...</td>\n",
       "    </tr>\n",
       "    <tr>\n",
       "      <th>135</th>\n",
       "      <td>16</td>\n",
       "      <td>-1.587044</td>\n",
       "      <td>-2.031</td>\n",
       "      <td>54150</td>\n",
       "      <td>10.000</td>\n",
       "      <td>-10.0</td>\n",
       "    </tr>\n",
       "    <tr>\n",
       "      <th>136</th>\n",
       "      <td>5</td>\n",
       "      <td>-1.756331</td>\n",
       "      <td>-2.531</td>\n",
       "      <td>661</td>\n",
       "      <td>9.969</td>\n",
       "      <td>-10.0</td>\n",
       "    </tr>\n",
       "    <tr>\n",
       "      <th>137</th>\n",
       "      <td>7</td>\n",
       "      <td>-1.809230</td>\n",
       "      <td>-2.531</td>\n",
       "      <td>59122</td>\n",
       "      <td>10.000</td>\n",
       "      <td>-10.0</td>\n",
       "    </tr>\n",
       "    <tr>\n",
       "      <th>138</th>\n",
       "      <td>124</td>\n",
       "      <td>-2.163482</td>\n",
       "      <td>-3.406</td>\n",
       "      <td>4234</td>\n",
       "      <td>10.000</td>\n",
       "      <td>-10.0</td>\n",
       "    </tr>\n",
       "    <tr>\n",
       "      <th>139</th>\n",
       "      <td>141</td>\n",
       "      <td>-2.749574</td>\n",
       "      <td>-3.875</td>\n",
       "      <td>4073</td>\n",
       "      <td>10.000</td>\n",
       "      <td>-10.0</td>\n",
       "    </tr>\n",
       "  </tbody>\n",
       "</table>\n",
       "<p>140 rows × 6 columns</p>\n",
       "</div>"
      ],
      "text/plain": [
       "     jokeId      mean  median  count     max   min\n",
       "0        53  3.714381   4.344  23102  10.000 -10.0\n",
       "1       105  3.711223   4.250  21822  10.000 -10.0\n",
       "2        89  3.606506   4.344  25996  10.000 -10.0\n",
       "3       129  3.583496   4.281  19509  10.000 -10.0\n",
       "4        35  3.560305   4.188  20524  10.000 -10.0\n",
       "..      ...       ...     ...    ...     ...   ...\n",
       "135      16 -1.587044  -2.031  54150  10.000 -10.0\n",
       "136       5 -1.756331  -2.531    661   9.969 -10.0\n",
       "137       7 -1.809230  -2.531  59122  10.000 -10.0\n",
       "138     124 -2.163482  -3.406   4234  10.000 -10.0\n",
       "139     141 -2.749574  -3.875   4073  10.000 -10.0\n",
       "\n",
       "[140 rows x 6 columns]"
      ]
     },
     "execution_count": 18,
     "metadata": {},
     "output_type": "execute_result"
    }
   ],
   "source": [
    "df = df_group.copy()\n",
    "df = df.reset_index()\n",
    "df"
   ]
  },
  {
   "cell_type": "code",
   "execution_count": 21,
   "metadata": {},
   "outputs": [
    {
     "data": {
      "text/html": [
       "<div>\n",
       "<style scoped>\n",
       "    .dataframe tbody tr th:only-of-type {\n",
       "        vertical-align: middle;\n",
       "    }\n",
       "\n",
       "    .dataframe tbody tr th {\n",
       "        vertical-align: top;\n",
       "    }\n",
       "\n",
       "    .dataframe thead th {\n",
       "        text-align: right;\n",
       "    }\n",
       "</style>\n",
       "<table border=\"1\" class=\"dataframe\">\n",
       "  <thead>\n",
       "    <tr style=\"text-align: right;\">\n",
       "      <th></th>\n",
       "      <th>jokeId</th>\n",
       "      <th>mean</th>\n",
       "      <th>median</th>\n",
       "      <th>count</th>\n",
       "      <th>max</th>\n",
       "      <th>min</th>\n",
       "      <th>jokeText</th>\n",
       "      <th>length</th>\n",
       "    </tr>\n",
       "  </thead>\n",
       "  <tbody>\n",
       "    <tr>\n",
       "      <th>0</th>\n",
       "      <td>53</td>\n",
       "      <td>3.714381</td>\n",
       "      <td>4.344</td>\n",
       "      <td>23102</td>\n",
       "      <td>10.000</td>\n",
       "      <td>-10.0</td>\n",
       "      <td>One Sunday morning William burst into the livi...</td>\n",
       "      <td>1217</td>\n",
       "    </tr>\n",
       "    <tr>\n",
       "      <th>1</th>\n",
       "      <td>105</td>\n",
       "      <td>3.711223</td>\n",
       "      <td>4.250</td>\n",
       "      <td>21822</td>\n",
       "      <td>10.000</td>\n",
       "      <td>-10.0</td>\n",
       "      <td>A couple of hunters are out in the woods in th...</td>\n",
       "      <td>510</td>\n",
       "    </tr>\n",
       "    <tr>\n",
       "      <th>2</th>\n",
       "      <td>89</td>\n",
       "      <td>3.606506</td>\n",
       "      <td>4.344</td>\n",
       "      <td>25996</td>\n",
       "      <td>10.000</td>\n",
       "      <td>-10.0</td>\n",
       "      <td>A radio conversation of a US naval \\nship with...</td>\n",
       "      <td>795</td>\n",
       "    </tr>\n",
       "    <tr>\n",
       "      <th>3</th>\n",
       "      <td>129</td>\n",
       "      <td>3.583496</td>\n",
       "      <td>4.281</td>\n",
       "      <td>19509</td>\n",
       "      <td>10.000</td>\n",
       "      <td>-10.0</td>\n",
       "      <td>A group of girlfriends is on vacation when the...</td>\n",
       "      <td>1325</td>\n",
       "    </tr>\n",
       "    <tr>\n",
       "      <th>4</th>\n",
       "      <td>35</td>\n",
       "      <td>3.560305</td>\n",
       "      <td>4.188</td>\n",
       "      <td>20524</td>\n",
       "      <td>10.000</td>\n",
       "      <td>-10.0</td>\n",
       "      <td>An explorer in the deepest Amazon suddenly fin...</td>\n",
       "      <td>549</td>\n",
       "    </tr>\n",
       "    <tr>\n",
       "      <th>...</th>\n",
       "      <td>...</td>\n",
       "      <td>...</td>\n",
       "      <td>...</td>\n",
       "      <td>...</td>\n",
       "      <td>...</td>\n",
       "      <td>...</td>\n",
       "      <td>...</td>\n",
       "      <td>...</td>\n",
       "    </tr>\n",
       "    <tr>\n",
       "      <th>135</th>\n",
       "      <td>16</td>\n",
       "      <td>-1.587044</td>\n",
       "      <td>-2.031</td>\n",
       "      <td>54150</td>\n",
       "      <td>10.000</td>\n",
       "      <td>-10.0</td>\n",
       "      <td>Q. What is orange and sounds like a parrot?  \\...</td>\n",
       "      <td>60</td>\n",
       "    </tr>\n",
       "    <tr>\n",
       "      <th>136</th>\n",
       "      <td>5</td>\n",
       "      <td>-1.756331</td>\n",
       "      <td>-2.531</td>\n",
       "      <td>661</td>\n",
       "      <td>9.969</td>\n",
       "      <td>-10.0</td>\n",
       "      <td>Q.\\tWhat's O. J. Simpson's Internet address? \\...</td>\n",
       "      <td>95</td>\n",
       "    </tr>\n",
       "    <tr>\n",
       "      <th>137</th>\n",
       "      <td>7</td>\n",
       "      <td>-1.809230</td>\n",
       "      <td>-2.531</td>\n",
       "      <td>59122</td>\n",
       "      <td>10.000</td>\n",
       "      <td>-10.0</td>\n",
       "      <td>How many feminists does it take to screw in a ...</td>\n",
       "      <td>76</td>\n",
       "    </tr>\n",
       "    <tr>\n",
       "      <th>138</th>\n",
       "      <td>124</td>\n",
       "      <td>-2.163482</td>\n",
       "      <td>-3.406</td>\n",
       "      <td>4234</td>\n",
       "      <td>10.000</td>\n",
       "      <td>-10.0</td>\n",
       "      <td>Person 1: Hey, wanna hear a great knock-knock ...</td>\n",
       "      <td>181</td>\n",
       "    </tr>\n",
       "    <tr>\n",
       "      <th>139</th>\n",
       "      <td>141</td>\n",
       "      <td>-2.749574</td>\n",
       "      <td>-3.875</td>\n",
       "      <td>4073</td>\n",
       "      <td>10.000</td>\n",
       "      <td>-10.0</td>\n",
       "      <td>Jack Bauer can get McDonald's breakfast after ...</td>\n",
       "      <td>52</td>\n",
       "    </tr>\n",
       "  </tbody>\n",
       "</table>\n",
       "<p>140 rows × 8 columns</p>\n",
       "</div>"
      ],
      "text/plain": [
       "     jokeId      mean  median  count     max   min  \\\n",
       "0        53  3.714381   4.344  23102  10.000 -10.0   \n",
       "1       105  3.711223   4.250  21822  10.000 -10.0   \n",
       "2        89  3.606506   4.344  25996  10.000 -10.0   \n",
       "3       129  3.583496   4.281  19509  10.000 -10.0   \n",
       "4        35  3.560305   4.188  20524  10.000 -10.0   \n",
       "..      ...       ...     ...    ...     ...   ...   \n",
       "135      16 -1.587044  -2.031  54150  10.000 -10.0   \n",
       "136       5 -1.756331  -2.531    661   9.969 -10.0   \n",
       "137       7 -1.809230  -2.531  59122  10.000 -10.0   \n",
       "138     124 -2.163482  -3.406   4234  10.000 -10.0   \n",
       "139     141 -2.749574  -3.875   4073  10.000 -10.0   \n",
       "\n",
       "                                              jokeText  length  \n",
       "0    One Sunday morning William burst into the livi...    1217  \n",
       "1    A couple of hunters are out in the woods in th...     510  \n",
       "2    A radio conversation of a US naval \\nship with...     795  \n",
       "3    A group of girlfriends is on vacation when the...    1325  \n",
       "4    An explorer in the deepest Amazon suddenly fin...     549  \n",
       "..                                                 ...     ...  \n",
       "135  Q. What is orange and sounds like a parrot?  \\...      60  \n",
       "136  Q.\\tWhat's O. J. Simpson's Internet address? \\...      95  \n",
       "137  How many feminists does it take to screw in a ...      76  \n",
       "138  Person 1: Hey, wanna hear a great knock-knock ...     181  \n",
       "139  Jack Bauer can get McDonald's breakfast after ...      52  \n",
       "\n",
       "[140 rows x 8 columns]"
      ]
     },
     "execution_count": 21,
     "metadata": {},
     "output_type": "execute_result"
    }
   ],
   "source": [
    "df = df.merge(df_jokes)\n",
    "df['length'] = df['jokeText'].apply(len)\n",
    "df"
   ]
  },
  {
   "cell_type": "code",
   "execution_count": 26,
   "metadata": {},
   "outputs": [
    {
     "data": {
      "text/plain": [
       "<seaborn.axisgrid.FacetGrid at 0x7f0cbfae2670>"
      ]
     },
     "execution_count": 26,
     "metadata": {},
     "output_type": "execute_result"
    },
    {
     "data": {
      "image/png": "[encoded data removed]",
      "text/plain": [
       "<Figure size 360x360 with 1 Axes>"
      ]
     },
     "metadata": {
      "needs_background": "light"
     },
     "output_type": "display_data"
    }
   ],
   "source": [
    "sns.relplot(kind='scatter',data=df,x='length',y='mean')"
   ]
  },
  {
   "cell_type": "markdown",
   "metadata": {},
   "source": [
    "**Long joke is better!**"
   ]
  },
  {
   "cell_type": "markdown",
   "metadata": {},
   "source": [
    "**Does queation jokes, are better?**"
   ]
  },
  {
   "cell_type": "code",
   "execution_count": 33,
   "metadata": {},
   "outputs": [
    {
     "data": {
      "text/html": [
       "<div>\n",
       "<style scoped>\n",
       "    .dataframe tbody tr th:only-of-type {\n",
       "        vertical-align: middle;\n",
       "    }\n",
       "\n",
       "    .dataframe tbody tr th {\n",
       "        vertical-align: top;\n",
       "    }\n",
       "\n",
       "    .dataframe thead th {\n",
       "        text-align: right;\n",
       "    }\n",
       "</style>\n",
       "<table border=\"1\" class=\"dataframe\">\n",
       "  <thead>\n",
       "    <tr style=\"text-align: right;\">\n",
       "      <th></th>\n",
       "      <th>jokeId</th>\n",
       "      <th>mean</th>\n",
       "      <th>median</th>\n",
       "      <th>count</th>\n",
       "      <th>max</th>\n",
       "      <th>min</th>\n",
       "      <th>jokeText</th>\n",
       "      <th>length</th>\n",
       "      <th>type</th>\n",
       "    </tr>\n",
       "  </thead>\n",
       "  <tbody>\n",
       "    <tr>\n",
       "      <th>0</th>\n",
       "      <td>53</td>\n",
       "      <td>3.714381</td>\n",
       "      <td>4.344</td>\n",
       "      <td>23102</td>\n",
       "      <td>10.000</td>\n",
       "      <td>-10.0</td>\n",
       "      <td>One Sunday morning William burst into the livi...</td>\n",
       "      <td>1217</td>\n",
       "      <td>Story</td>\n",
       "    </tr>\n",
       "    <tr>\n",
       "      <th>1</th>\n",
       "      <td>105</td>\n",
       "      <td>3.711223</td>\n",
       "      <td>4.250</td>\n",
       "      <td>21822</td>\n",
       "      <td>10.000</td>\n",
       "      <td>-10.0</td>\n",
       "      <td>A couple of hunters are out in the woods in th...</td>\n",
       "      <td>510</td>\n",
       "      <td>Story</td>\n",
       "    </tr>\n",
       "    <tr>\n",
       "      <th>2</th>\n",
       "      <td>89</td>\n",
       "      <td>3.606506</td>\n",
       "      <td>4.344</td>\n",
       "      <td>25996</td>\n",
       "      <td>10.000</td>\n",
       "      <td>-10.0</td>\n",
       "      <td>A radio conversation of a US naval \\nship with...</td>\n",
       "      <td>795</td>\n",
       "      <td>Story</td>\n",
       "    </tr>\n",
       "    <tr>\n",
       "      <th>3</th>\n",
       "      <td>129</td>\n",
       "      <td>3.583496</td>\n",
       "      <td>4.281</td>\n",
       "      <td>19509</td>\n",
       "      <td>10.000</td>\n",
       "      <td>-10.0</td>\n",
       "      <td>A group of girlfriends is on vacation when the...</td>\n",
       "      <td>1325</td>\n",
       "      <td>Story</td>\n",
       "    </tr>\n",
       "    <tr>\n",
       "      <th>4</th>\n",
       "      <td>35</td>\n",
       "      <td>3.560305</td>\n",
       "      <td>4.188</td>\n",
       "      <td>20524</td>\n",
       "      <td>10.000</td>\n",
       "      <td>-10.0</td>\n",
       "      <td>An explorer in the deepest Amazon suddenly fin...</td>\n",
       "      <td>549</td>\n",
       "      <td>Story</td>\n",
       "    </tr>\n",
       "    <tr>\n",
       "      <th>...</th>\n",
       "      <td>...</td>\n",
       "      <td>...</td>\n",
       "      <td>...</td>\n",
       "      <td>...</td>\n",
       "      <td>...</td>\n",
       "      <td>...</td>\n",
       "      <td>...</td>\n",
       "      <td>...</td>\n",
       "      <td>...</td>\n",
       "    </tr>\n",
       "    <tr>\n",
       "      <th>135</th>\n",
       "      <td>16</td>\n",
       "      <td>-1.587044</td>\n",
       "      <td>-2.031</td>\n",
       "      <td>54150</td>\n",
       "      <td>10.000</td>\n",
       "      <td>-10.0</td>\n",
       "      <td>Q. What is orange and sounds like a parrot?  \\...</td>\n",
       "      <td>60</td>\n",
       "      <td>Question</td>\n",
       "    </tr>\n",
       "    <tr>\n",
       "      <th>136</th>\n",
       "      <td>5</td>\n",
       "      <td>-1.756331</td>\n",
       "      <td>-2.531</td>\n",
       "      <td>661</td>\n",
       "      <td>9.969</td>\n",
       "      <td>-10.0</td>\n",
       "      <td>Q.\\tWhat's O. J. Simpson's Internet address? \\...</td>\n",
       "      <td>95</td>\n",
       "      <td>Question</td>\n",
       "    </tr>\n",
       "    <tr>\n",
       "      <th>137</th>\n",
       "      <td>7</td>\n",
       "      <td>-1.809230</td>\n",
       "      <td>-2.531</td>\n",
       "      <td>59122</td>\n",
       "      <td>10.000</td>\n",
       "      <td>-10.0</td>\n",
       "      <td>How many feminists does it take to screw in a ...</td>\n",
       "      <td>76</td>\n",
       "      <td>Story</td>\n",
       "    </tr>\n",
       "    <tr>\n",
       "      <th>138</th>\n",
       "      <td>124</td>\n",
       "      <td>-2.163482</td>\n",
       "      <td>-3.406</td>\n",
       "      <td>4234</td>\n",
       "      <td>10.000</td>\n",
       "      <td>-10.0</td>\n",
       "      <td>Person 1: Hey, wanna hear a great knock-knock ...</td>\n",
       "      <td>181</td>\n",
       "      <td>Story</td>\n",
       "    </tr>\n",
       "    <tr>\n",
       "      <th>139</th>\n",
       "      <td>141</td>\n",
       "      <td>-2.749574</td>\n",
       "      <td>-3.875</td>\n",
       "      <td>4073</td>\n",
       "      <td>10.000</td>\n",
       "      <td>-10.0</td>\n",
       "      <td>Jack Bauer can get McDonald's breakfast after ...</td>\n",
       "      <td>52</td>\n",
       "      <td>Story</td>\n",
       "    </tr>\n",
       "  </tbody>\n",
       "</table>\n",
       "<p>140 rows × 9 columns</p>\n",
       "</div>"
      ],
      "text/plain": [
       "     jokeId      mean  median  count     max   min  \\\n",
       "0        53  3.714381   4.344  23102  10.000 -10.0   \n",
       "1       105  3.711223   4.250  21822  10.000 -10.0   \n",
       "2        89  3.606506   4.344  25996  10.000 -10.0   \n",
       "3       129  3.583496   4.281  19509  10.000 -10.0   \n",
       "4        35  3.560305   4.188  20524  10.000 -10.0   \n",
       "..      ...       ...     ...    ...     ...   ...   \n",
       "135      16 -1.587044  -2.031  54150  10.000 -10.0   \n",
       "136       5 -1.756331  -2.531    661   9.969 -10.0   \n",
       "137       7 -1.809230  -2.531  59122  10.000 -10.0   \n",
       "138     124 -2.163482  -3.406   4234  10.000 -10.0   \n",
       "139     141 -2.749574  -3.875   4073  10.000 -10.0   \n",
       "\n",
       "                                              jokeText  length      type  \n",
       "0    One Sunday morning William burst into the livi...    1217     Story  \n",
       "1    A couple of hunters are out in the woods in th...     510     Story  \n",
       "2    A radio conversation of a US naval \\nship with...     795     Story  \n",
       "3    A group of girlfriends is on vacation when the...    1325     Story  \n",
       "4    An explorer in the deepest Amazon suddenly fin...     549     Story  \n",
       "..                                                 ...     ...       ...  \n",
       "135  Q. What is orange and sounds like a parrot?  \\...      60  Question  \n",
       "136  Q.\\tWhat's O. J. Simpson's Internet address? \\...      95  Question  \n",
       "137  How many feminists does it take to screw in a ...      76     Story  \n",
       "138  Person 1: Hey, wanna hear a great knock-knock ...     181     Story  \n",
       "139  Jack Bauer can get McDonald's breakfast after ...      52     Story  \n",
       "\n",
       "[140 rows x 9 columns]"
      ]
     },
     "execution_count": 33,
     "metadata": {},
     "output_type": "execute_result"
    }
   ],
   "source": [
    "df['type'] = np.where(df['jokeText'].str.contains('Q'), 'Question', 'Story')\n",
    "df"
   ]
  },
  {
   "cell_type": "code",
   "execution_count": 38,
   "metadata": {},
   "outputs": [
    {
     "data": {
      "text/plain": [
       "<seaborn.axisgrid.FacetGrid at 0x7f0cbf0d46a0>"
      ]
     },
     "execution_count": 38,
     "metadata": {},
     "output_type": "execute_result"
    },
    {
     "data": {
      "image/png": "[encoded data removed]",
      "text/plain": [
       "<Figure size 360x360 with 1 Axes>"
      ]
     },
     "metadata": {
      "needs_background": "light"
     },
     "output_type": "display_data"
    }
   ],
   "source": [
    "sns.catplot(x='type',y='mean',data=df, kind='box')"
   ]
  },
  {
   "cell_type": "markdown",
   "metadata": {},
   "source": [
    "**It seems that in order to be funny, it is better not to start with the question ...**"
   ]
  }
 ],
 "metadata": {
  "kernelspec": {
   "display_name": "Python 3",
   "language": "python",
   "name": "python3"
  },
  "language_info": {
   "codemirror_mode": {
    "name": "ipython",
    "version": 3
   },
   "file_extension": ".py",
   "mimetype": "text/x-python",
   "name": "python",
   "nbconvert_exporter": "python",
   "pygments_lexer": "ipython3",
   "version": "3.8.6"
  }
 },
 "nbformat": 4,
 "nbformat_minor": 4
}
