{
  "cells": [
    {
      "cell_type": "markdown",
      "metadata": {
        "id": "view-in-github",
        "colab_type": "text"
      },
      "source": [
        "<a href=\"https://colab.research.google.com/github/noamshimsho/ML_projects/blob/main/Medical_Open_Network_for_AI_mednist_tutorial.ipynb\" target=\"_parent\"><img src=\"https://colab.research.google.com/assets/colab-badge.svg\" alt=\"Open In Colab\"/></a>"
      ]
    },
    {
      "cell_type": "markdown",
      "metadata": {
        "id": "KCoB0Ppl27ne"
      },
      "source": [
        "Copyright (c) MONAI Consortium  \n",
        "Licensed under the Apache License, Version 2.0 (the \"License\");  \n",
        "you may not use this file except in compliance with the License.  \n",
        "You may obtain a copy of the License at  \n",
        "&nbsp;&nbsp;&nbsp;&nbsp;http://www.apache.org/licenses/LICENSE-2.0  \n",
        "Unless required by applicable law or agreed to in writing, software  \n",
        "distributed under the License is distributed on an \"AS IS\" BASIS,  \n",
        "WITHOUT WARRANTIES OR CONDITIONS OF ANY KIND, either express or implied.  \n",
        "See the License for the specific language governing permissions and  \n",
        "limitations under the License.\n",
        "\n",
        "# Medical Image Classification Tutorial with the MedNIST Dataset\n",
        "\n",
        "In this tutorial, we introduce an end-to-end training and evaluation example based on the MedNIST dataset.\n",
        "\n",
        "We'll go through the following steps:\n",
        "* Create a dataset for training and testing\n",
        "* Use MONAI transforms to pre-process data\n",
        "* Use the DenseNet from MONAI for classification\n",
        "* Train the model with a PyTorch program\n",
        "* Evaluate on test dataset\n",
        "\n",
        "[![Open In Colab](https://colab.research.google.com/assets/colab-badge.svg)](https://colab.research.google.com/github/Project-MONAI/tutorials/blob/main/2d_classification/mednist_tutorial.ipynb)"
      ]
    },
    {
      "cell_type": "markdown",
      "metadata": {
        "id": "5c-jmSmr27nk"
      },
      "source": [
        "## Setup environment"
      ]
    },
    {
      "cell_type": "code",
      "execution_count": null,
      "metadata": {
        "id": "dS0Jp9mo27nk",
        "outputId": "9de3d31d-f7ec-4e0d-cc24-6fb749e4a5dd",
        "colab": {
          "base_uri": "https://localhost:8080/"
        }
      },
      "outputs": [
        {
          "output_type": "stream",
          "name": "stdout",
          "text": [
            "Traceback (most recent call last):\n",
            "  File \"<string>\", line 1, in <module>\n",
            "ModuleNotFoundError: No module named 'monai'\n",
            "\u001b[2K     \u001b[90m━━━━━━━━━━━━━━━━━━━━━━━━━━━━━━━━━━━━━━━━\u001b[0m \u001b[32m1.3/1.3 MB\u001b[0m \u001b[31m13.5 MB/s\u001b[0m eta \u001b[36m0:00:00\u001b[0m\n",
            "\u001b[?25h"
          ]
        }
      ],
      "source": [
        "!python -c \"import monai\" || pip install -q \"monai-weekly[pillow, tqdm]\"\n",
        "!python -c \"import matplotlib\" || pip install -q matplotlib\n",
        "%matplotlib inline"
      ]
    },
    {
      "cell_type": "markdown",
      "metadata": {
        "id": "DtuV-76n27nm"
      },
      "source": [
        "## Setup imports"
      ]
    },
    {
      "cell_type": "code",
      "execution_count": null,
      "metadata": {
        "tags": [],
        "id": "SbhIcBuP27nm",
        "outputId": "a7c0b67b-e6af-40b6-aa94-b27cd4252eae",
        "colab": {
          "base_uri": "https://localhost:8080/"
        }
      },
      "outputs": [
        {
          "output_type": "stream",
          "name": "stdout",
          "text": [
            "MONAI version: 1.3.dev2331\n",
            "Numpy version: 1.22.4\n",
            "Pytorch version: 2.0.1+cu118\n",
            "MONAI flags: HAS_EXT = False, USE_COMPILED = False, USE_META_DICT = False\n",
            "MONAI rev id: dc569c6bfeba0dbf3c81da4956df5dffafdce7c5\n",
            "MONAI __file__: /usr/local/lib/python3.10/dist-packages/monai/__init__.py\n",
            "\n",
            "Optional dependencies:\n",
            "Pytorch Ignite version: NOT INSTALLED or UNKNOWN VERSION.\n",
            "ITK version: NOT INSTALLED or UNKNOWN VERSION.\n",
            "Nibabel version: 4.0.2\n",
            "scikit-image version: 0.19.3\n",
            "scipy version: 1.10.1\n",
            "Pillow version: 9.4.0\n",
            "Tensorboard version: 2.12.3\n",
            "gdown version: 4.6.6\n",
            "TorchVision version: 0.15.2+cu118\n",
            "tqdm version: 4.65.0\n",
            "lmdb version: NOT INSTALLED or UNKNOWN VERSION.\n",
            "psutil version: 5.9.5\n",
            "pandas version: 1.5.3\n",
            "einops version: NOT INSTALLED or UNKNOWN VERSION.\n",
            "transformers version: NOT INSTALLED or UNKNOWN VERSION.\n",
            "mlflow version: NOT INSTALLED or UNKNOWN VERSION.\n",
            "pynrrd version: NOT INSTALLED or UNKNOWN VERSION.\n",
            "\n",
            "For details about installing the optional dependencies, please visit:\n",
            "    https://docs.monai.io/en/latest/installation.html#installing-the-recommended-dependencies\n",
            "\n"
          ]
        }
      ],
      "source": [
        "import os\n",
        "import shutil\n",
        "import tempfile\n",
        "import matplotlib.pyplot as plt\n",
        "import PIL\n",
        "import torch\n",
        "import numpy as np\n",
        "from sklearn.metrics import classification_report\n",
        "\n",
        "from monai.apps import download_and_extract\n",
        "from monai.config import print_config\n",
        "from monai.data import decollate_batch, DataLoader\n",
        "from monai.metrics import ROCAUCMetric\n",
        "from monai.networks.nets import DenseNet121\n",
        "from monai.transforms import (\n",
        "    Activations,\n",
        "    EnsureChannelFirst,\n",
        "    AsDiscrete,\n",
        "    Compose,\n",
        "    LoadImage,\n",
        "    RandFlip,\n",
        "    RandRotate,\n",
        "    RandZoom,\n",
        "    ScaleIntensity,\n",
        ")\n",
        "from monai.utils import set_determinism\n",
        "\n",
        "print_config()"
      ]
    },
    {
      "cell_type": "markdown",
      "metadata": {
        "id": "d2ak4k8Y27nn"
      },
      "source": [
        "## Setup data directory\n",
        "\n",
        "You can specify a directory with the `MONAI_DATA_DIRECTORY` environment variable.  \n",
        "This allows you to save results and reuse downloads.  \n",
        "If not specified a temporary directory will be used."
      ]
    },
    {
      "cell_type": "code",
      "execution_count": null,
      "metadata": {
        "tags": [],
        "id": "Z74_96RH27no",
        "outputId": "6c530182-75b7-4aec-d73d-649151f50f99",
        "colab": {
          "base_uri": "https://localhost:8080/"
        }
      },
      "outputs": [
        {
          "output_type": "stream",
          "name": "stdout",
          "text": [
            "/tmp/tmpeh3k57oo\n"
          ]
        }
      ],
      "source": [
        "directory = os.environ.get(\"MONAI_DATA_DIRECTORY\")\n",
        "root_dir = tempfile.mkdtemp() if directory is None else directory\n",
        "print(root_dir)"
      ]
    },
    {
      "cell_type": "markdown",
      "metadata": {
        "id": "C28beKid27no"
      },
      "source": [
        "## Download dataset\n",
        "\n",
        "The MedNIST dataset was gathered from several sets from [TCIA](https://wiki.cancerimagingarchive.net/display/Public/Data+Usage+Policies+and+Restrictions),\n",
        "[the RSNA Bone Age Challenge](http://rsnachallenges.cloudapp.net/competitions/4),\n",
        "and [the NIH Chest X-ray dataset](https://cloud.google.com/healthcare/docs/resources/public-datasets/nih-chest).\n",
        "\n",
        "The dataset is kindly made available by [Dr. Bradley J. Erickson M.D., Ph.D.](https://www.mayo.edu/research/labs/radiology-informatics/overview) (Department of Radiology, Mayo Clinic)\n",
        "under the Creative Commons [CC BY-SA 4.0 license](https://creativecommons.org/licenses/by-sa/4.0/).\n",
        "\n",
        "If you use the MedNIST dataset, please acknowledge the source."
      ]
    },
    {
      "cell_type": "code",
      "execution_count": null,
      "metadata": {
        "tags": [],
        "id": "k0ZN3cBP27np",
        "outputId": "998a975c-93bb-4e9a-ecf4-96c1b863354e",
        "colab": {
          "base_uri": "https://localhost:8080/"
        }
      },
      "outputs": [
        {
          "output_type": "stream",
          "name": "stderr",
          "text": [
            "MedNIST.tar.gz: 59.0MB [00:02, 23.4MB/s]                            "
          ]
        },
        {
          "output_type": "stream",
          "name": "stdout",
          "text": [
            "2023-08-03 19:39:12,762 - INFO - Downloaded: /tmp/tmpeh3k57oo/MedNIST.tar.gz\n"
          ]
        },
        {
          "output_type": "stream",
          "name": "stderr",
          "text": [
            "\n"
          ]
        },
        {
          "output_type": "stream",
          "name": "stdout",
          "text": [
            "2023-08-03 19:39:12,872 - INFO - Verified 'MedNIST.tar.gz', md5: 0bc7306e7427e00ad1c5526a6677552d.\n",
            "2023-08-03 19:39:12,873 - INFO - Writing into directory: /tmp/tmpeh3k57oo.\n"
          ]
        }
      ],
      "source": [
        "resource = \"https://github.com/Project-MONAI/MONAI-extra-test-data/releases/download/0.8.1/MedNIST.tar.gz\"\n",
        "md5 = \"0bc7306e7427e00ad1c5526a6677552d\"\n",
        "\n",
        "compressed_file = os.path.join(root_dir, \"MedNIST.tar.gz\")\n",
        "data_dir = os.path.join(root_dir, \"MedNIST\")\n",
        "if not os.path.exists(data_dir):\n",
        "    download_and_extract(resource, compressed_file, root_dir, md5)"
      ]
    },
    {
      "cell_type": "markdown",
      "metadata": {
        "id": "Tgm8Aerq27nq"
      },
      "source": [
        "## Set deterministic training for reproducibility"
      ]
    },
    {
      "cell_type": "code",
      "execution_count": null,
      "metadata": {
        "id": "WyMewd9Z27nq"
      },
      "outputs": [],
      "source": [
        "set_determinism(seed=0)"
      ]
    },
    {
      "cell_type": "markdown",
      "metadata": {
        "id": "I-2lrhS927nr"
      },
      "source": [
        "## Read image filenames from the dataset folders\n",
        "\n",
        "First of all, check the dataset files and show some statistics.  \n",
        "There are 6 folders in the dataset: Hand, AbdomenCT, CXR, ChestCT, BreastMRI, HeadCT,  \n",
        "which should be used as the labels to train our classification model."
      ]
    },
    {
      "cell_type": "code",
      "execution_count": null,
      "metadata": {
        "tags": [],
        "id": "leL23YjF27nr",
        "outputId": "06b34271-8602-4d08-913c-23952c8b531d",
        "colab": {
          "base_uri": "https://localhost:8080/"
        }
      },
      "outputs": [
        {
          "output_type": "stream",
          "name": "stdout",
          "text": [
            "Total image count: 58954\n",
            "Image dimensions: 64 x 64\n",
            "Label names: ['AbdomenCT', 'BreastMRI', 'CXR', 'ChestCT', 'Hand', 'HeadCT']\n",
            "Label counts: [10000, 8954, 10000, 10000, 10000, 10000]\n"
          ]
        }
      ],
      "source": [
        "class_names = sorted(x for x in os.listdir(data_dir) if os.path.isdir(os.path.join(data_dir, x)))\n",
        "num_class = len(class_names)\n",
        "image_files = [\n",
        "    [os.path.join(data_dir, class_names[i], x) for x in os.listdir(os.path.join(data_dir, class_names[i]))]\n",
        "    for i in range(num_class)\n",
        "]\n",
        "num_each = [len(image_files[i]) for i in range(num_class)]\n",
        "image_files_list = []\n",
        "image_class = []\n",
        "for i in range(num_class):\n",
        "    image_files_list.extend(image_files[i])\n",
        "    image_class.extend([i] * num_each[i])\n",
        "num_total = len(image_class)\n",
        "image_width, image_height = PIL.Image.open(image_files_list[0]).size\n",
        "\n",
        "print(f\"Total image count: {num_total}\")\n",
        "print(f\"Image dimensions: {image_width} x {image_height}\")\n",
        "print(f\"Label names: {class_names}\")\n",
        "print(f\"Label counts: {num_each}\")"
      ]
    },
    {
      "cell_type": "markdown",
      "metadata": {
        "id": "92x6XGwt27nr"
      },
      "source": [
        "## Randomly pick images from the dataset to visualize and check"
      ]
    },
    {
      "cell_type": "code",
      "execution_count": null,
      "metadata": {
        "id": "tnL2uI6_27nr",
        "outputId": "4aaf8689-9940-45d1-d8af-c35327571aee",
        "colab": {
          "base_uri": "https://localhost:8080/",
          "height": 806
        }
      },
      "outputs": [
        {
          "output_type": "display_data",
          "data": {
            "text/plain": [
              "<Figure size 800x800 with 9 Axes>"
            ],
            "image/png": "[encoded data removed]"
          },
          "metadata": {}
        }
      ],
      "source": [
        "plt.subplots(3, 3, figsize=(8, 8))\n",
        "for i, k in enumerate(np.random.randint(num_total, size=9)):\n",
        "    im = PIL.Image.open(image_files_list[k])\n",
        "    arr = np.array(im)\n",
        "    plt.subplot(3, 3, i + 1)\n",
        "    plt.xlabel(class_names[image_class[k]])\n",
        "    plt.imshow(arr, cmap=\"gray\", vmin=0, vmax=255)\n",
        "plt.tight_layout()\n",
        "plt.show()"
      ]
    },
    {
      "cell_type": "markdown",
      "metadata": {
        "id": "7d9Nbpa027ns"
      },
      "source": [
        "## Prepare training, validation and test data lists\n",
        "\n",
        "Randomly select 10% of the dataset as validation and 10% as test."
      ]
    },
    {
      "cell_type": "code",
      "execution_count": null,
      "metadata": {
        "tags": [],
        "id": "dEbH0u9B27ns",
        "outputId": "0c4e76ce-22df-4aa6-e84f-c81fde65fa05",
        "colab": {
          "base_uri": "https://localhost:8080/"
        }
      },
      "outputs": [
        {
          "output_type": "stream",
          "name": "stdout",
          "text": [
            "Training count: 47164, Validation count: 5895, Test count: 5895, /tmp/tmpeh3k57oo/MedNIST/HeadCT/007292.jpeg, 5\n"
          ]
        }
      ],
      "source": [
        "val_frac = 0.1\n",
        "test_frac = 0.1\n",
        "length = len(image_files_list)\n",
        "indices = np.arange(length)\n",
        "np.random.shuffle(indices)\n",
        "\n",
        "test_split = int(test_frac * length)\n",
        "val_split = int(val_frac * length) + test_split\n",
        "test_indices = indices[:test_split]\n",
        "val_indices = indices[test_split:val_split]\n",
        "train_indices = indices[val_split:]\n",
        "\n",
        "train_x = [image_files_list[i] for i in train_indices]\n",
        "train_y = [image_class[i] for i in train_indices]\n",
        "val_x = [image_files_list[i] for i in val_indices]\n",
        "val_y = [image_class[i] for i in val_indices]\n",
        "test_x = [image_files_list[i] for i in test_indices]\n",
        "test_y = [image_class[i] for i in test_indices]\n",
        "\n",
        "print(f\"Training count: {len(train_x)}, Validation count: \" f\"{len(val_x)}, Test count: {len(test_x)}, {train_x[0]}, {train_y[0]}\")"
      ]
    },
    {
      "cell_type": "markdown",
      "metadata": {
        "id": "vSYW2FPF27ns"
      },
      "source": [
        "## Define MONAI transforms, Dataset and Dataloader to pre-process data"
      ]
    },
    {
      "cell_type": "code",
      "execution_count": null,
      "metadata": {
        "id": "cKYvZNdC27ns"
      },
      "outputs": [],
      "source": [
        "train_transforms = Compose(\n",
        "    [\n",
        "        LoadImage(image_only=True),\n",
        "        EnsureChannelFirst(),\n",
        "        ScaleIntensity(),\n",
        "        RandRotate(range_x=np.pi / 12, prob=0.5, keep_size=True),\n",
        "        RandFlip(spatial_axis=0, prob=0.5),\n",
        "        RandZoom(min_zoom=0.9, max_zoom=1.1, prob=0.5),\n",
        "    ]\n",
        ")\n",
        "\n",
        "val_transforms = Compose([LoadImage(image_only=True), EnsureChannelFirst(), ScaleIntensity()])\n",
        "\n",
        "y_pred_trans = Compose([Activations(softmax=True)])\n",
        "y_trans = Compose([AsDiscrete(to_onehot=num_class)])"
      ]
    },
    {
      "cell_type": "code",
      "execution_count": null,
      "metadata": {
        "id": "dbPji-_v27ns"
      },
      "outputs": [],
      "source": [
        "class MedNISTDataset(torch.utils.data.Dataset):\n",
        "    def __init__(self, image_files, labels, transforms):\n",
        "        self.image_files = image_files\n",
        "        self.labels = labels\n",
        "        self.transforms = transforms\n",
        "\n",
        "    def __len__(self):\n",
        "        return len(self.image_files)\n",
        "\n",
        "    def __getitem__(self, index):\n",
        "        return self.transforms(self.image_files[index]), self.labels[index]\n",
        "\n",
        "\n",
        "train_ds = MedNISTDataset(train_x, train_y, train_transforms)\n",
        "train_loader = DataLoader(train_ds, batch_size=300, shuffle=True, num_workers=2)\n",
        "\n",
        "val_ds = MedNISTDataset(val_x, val_y, val_transforms)\n",
        "val_loader = DataLoader(val_ds, batch_size=300, num_workers=2)\n",
        "\n",
        "test_ds = MedNISTDataset(test_x, test_y, val_transforms)\n",
        "test_loader = DataLoader(test_ds, batch_size=300, num_workers=2)"
      ]
    },
    {
      "cell_type": "markdown",
      "metadata": {
        "id": "lEizOYxb27nt"
      },
      "source": [
        "## Define network and optimizer\n",
        "\n",
        "1. Set learning rate for how much the model is updated per batch.\n",
        "1. Set total epoch number, as we have shuffle and random transforms, so the training data of every epoch is different.  \n",
        "And as this is just a get start tutorial, let's just train 4 epochs.  \n",
        "If train 10 epochs, the model can achieve 100% accuracy on test dataset.\n",
        "1. Use DenseNet from MONAI and move to GPU devide, this DenseNet can support both 2D and 3D classification tasks.\n",
        "1. Use Adam optimizer."
      ]
    },
    {
      "cell_type": "code",
      "execution_count": null,
      "metadata": {
        "id": "J7wqReAN27nt"
      },
      "outputs": [],
      "source": [
        "device = torch.device(\"cuda\" if torch.cuda.is_available() else \"cpu\")\n",
        "model = DenseNet121(spatial_dims=2, in_channels=1, out_channels=num_class).to(device)\n",
        "loss_function = torch.nn.CrossEntropyLoss()\n",
        "optimizer = torch.optim.Adam(model.parameters(), 1e-5)\n",
        "max_epochs = 4\n",
        "val_interval = 1\n",
        "auc_metric = ROCAUCMetric()"
      ]
    },
    {
      "cell_type": "markdown",
      "metadata": {
        "id": "dZakAqo327nt"
      },
      "source": [
        "## Model training\n",
        "\n",
        "Execute a typical PyTorch training that run epoch loop and step loop, and do validation after every epoch.  \n",
        "Will save the model weights to file if got best validation accuracy."
      ]
    },
    {
      "cell_type": "code",
      "execution_count": null,
      "metadata": {
        "tags": [],
        "id": "HK_jfwv127nt",
        "outputId": "68243a22-bdbb-4901-ca16-5091d5f32421",
        "colab": {
          "base_uri": "https://localhost:8080/"
        }
      },
      "outputs": [
        {
          "output_type": "stream",
          "name": "stdout",
          "text": [
            "----------\n",
            "epoch 1/4\n",
            "1/157, train_loss: 1.7854\n",
            "2/157, train_loss: 1.7678\n",
            "3/157, train_loss: 1.7406\n",
            "4/157, train_loss: 1.7130\n",
            "5/157, train_loss: 1.6909\n",
            "6/157, train_loss: 1.6756\n",
            "7/157, train_loss: 1.6257\n",
            "8/157, train_loss: 1.5927\n",
            "9/157, train_loss: 1.5621\n",
            "10/157, train_loss: 1.5607\n",
            "11/157, train_loss: 1.5351\n",
            "12/157, train_loss: 1.4965\n",
            "13/157, train_loss: 1.4828\n",
            "14/157, train_loss: 1.4595\n",
            "15/157, train_loss: 1.4288\n",
            "16/157, train_loss: 1.4455\n",
            "17/157, train_loss: 1.3922\n",
            "18/157, train_loss: 1.3587\n",
            "19/157, train_loss: 1.3650\n",
            "20/157, train_loss: 1.3393\n",
            "21/157, train_loss: 1.3077\n",
            "22/157, train_loss: 1.3320\n",
            "23/157, train_loss: 1.2834\n",
            "24/157, train_loss: 1.2494\n",
            "25/157, train_loss: 1.2781\n",
            "26/157, train_loss: 1.2352\n",
            "27/157, train_loss: 1.1906\n",
            "28/157, train_loss: 1.2088\n",
            "29/157, train_loss: 1.1709\n",
            "30/157, train_loss: 1.1724\n",
            "31/157, train_loss: 1.1538\n",
            "32/157, train_loss: 1.1238\n",
            "33/157, train_loss: 1.1379\n",
            "34/157, train_loss: 1.1054\n",
            "35/157, train_loss: 1.1396\n",
            "36/157, train_loss: 1.0954\n",
            "37/157, train_loss: 1.0276\n",
            "38/157, train_loss: 1.0577\n",
            "39/157, train_loss: 1.0293\n",
            "40/157, train_loss: 1.0415\n",
            "41/157, train_loss: 1.0250\n",
            "42/157, train_loss: 0.9713\n",
            "43/157, train_loss: 0.9966\n",
            "44/157, train_loss: 1.0013\n",
            "45/157, train_loss: 0.9549\n",
            "46/157, train_loss: 0.9205\n",
            "47/157, train_loss: 0.9106\n",
            "48/157, train_loss: 0.8934\n",
            "49/157, train_loss: 0.9155\n",
            "50/157, train_loss: 0.8540\n",
            "51/157, train_loss: 0.8537\n",
            "52/157, train_loss: 0.8779\n",
            "53/157, train_loss: 0.8286\n",
            "54/157, train_loss: 0.8562\n",
            "55/157, train_loss: 0.8544\n",
            "56/157, train_loss: 0.7912\n",
            "57/157, train_loss: 0.7990\n",
            "58/157, train_loss: 0.8209\n",
            "59/157, train_loss: 0.7573\n",
            "60/157, train_loss: 0.7770\n",
            "61/157, train_loss: 0.7218\n",
            "62/157, train_loss: 0.7597\n",
            "63/157, train_loss: 0.7850\n",
            "64/157, train_loss: 0.7437\n",
            "65/157, train_loss: 0.7158\n",
            "66/157, train_loss: 0.7145\n",
            "67/157, train_loss: 0.7160\n",
            "68/157, train_loss: 0.6806\n",
            "69/157, train_loss: 0.6900\n",
            "70/157, train_loss: 0.6614\n",
            "71/157, train_loss: 0.6559\n",
            "72/157, train_loss: 0.6431\n",
            "73/157, train_loss: 0.6412\n",
            "74/157, train_loss: 0.6574\n",
            "75/157, train_loss: 0.6226\n",
            "76/157, train_loss: 0.6458\n",
            "77/157, train_loss: 0.6087\n",
            "78/157, train_loss: 0.5951\n",
            "79/157, train_loss: 0.6274\n",
            "80/157, train_loss: 0.6113\n",
            "81/157, train_loss: 0.5953\n",
            "82/157, train_loss: 0.5810\n",
            "83/157, train_loss: 0.5817\n",
            "84/157, train_loss: 0.5578\n",
            "85/157, train_loss: 0.5500\n",
            "86/157, train_loss: 0.5635\n",
            "87/157, train_loss: 0.5563\n",
            "88/157, train_loss: 0.5131\n",
            "89/157, train_loss: 0.5184\n",
            "90/157, train_loss: 0.5145\n",
            "91/157, train_loss: 0.5408\n",
            "92/157, train_loss: 0.5167\n",
            "93/157, train_loss: 0.5088\n",
            "94/157, train_loss: 0.5114\n",
            "95/157, train_loss: 0.4731\n",
            "96/157, train_loss: 0.4596\n",
            "97/157, train_loss: 0.4762\n",
            "98/157, train_loss: 0.4250\n",
            "99/157, train_loss: 0.4746\n",
            "100/157, train_loss: 0.4573\n",
            "101/157, train_loss: 0.4595\n",
            "102/157, train_loss: 0.4201\n",
            "103/157, train_loss: 0.4265\n",
            "104/157, train_loss: 0.4412\n",
            "105/157, train_loss: 0.4244\n",
            "106/157, train_loss: 0.4263\n",
            "107/157, train_loss: 0.4193\n",
            "108/157, train_loss: 0.4232\n",
            "109/157, train_loss: 0.3880\n",
            "110/157, train_loss: 0.3900\n",
            "111/157, train_loss: 0.3690\n",
            "112/157, train_loss: 0.4275\n",
            "113/157, train_loss: 0.3600\n",
            "114/157, train_loss: 0.3634\n",
            "115/157, train_loss: 0.3494\n",
            "116/157, train_loss: 0.3564\n",
            "117/157, train_loss: 0.3879\n",
            "118/157, train_loss: 0.3707\n",
            "119/157, train_loss: 0.3353\n",
            "120/157, train_loss: 0.3844\n",
            "121/157, train_loss: 0.3352\n",
            "122/157, train_loss: 0.3797\n",
            "123/157, train_loss: 0.3436\n",
            "124/157, train_loss: 0.3715\n",
            "125/157, train_loss: 0.3367\n",
            "126/157, train_loss: 0.3362\n",
            "127/157, train_loss: 0.3138\n",
            "128/157, train_loss: 0.3247\n",
            "129/157, train_loss: 0.2963\n",
            "130/157, train_loss: 0.3038\n",
            "131/157, train_loss: 0.3432\n",
            "132/157, train_loss: 0.3076\n",
            "133/157, train_loss: 0.3179\n",
            "134/157, train_loss: 0.3049\n",
            "135/157, train_loss: 0.2954\n",
            "136/157, train_loss: 0.3120\n",
            "137/157, train_loss: 0.2910\n",
            "138/157, train_loss: 0.2932\n",
            "139/157, train_loss: 0.2738\n",
            "140/157, train_loss: 0.2747\n",
            "141/157, train_loss: 0.2911\n",
            "142/157, train_loss: 0.2765\n",
            "143/157, train_loss: 0.2635\n",
            "144/157, train_loss: 0.3047\n",
            "145/157, train_loss: 0.2826\n",
            "146/157, train_loss: 0.2570\n",
            "147/157, train_loss: 0.2657\n",
            "148/157, train_loss: 0.2641\n",
            "149/157, train_loss: 0.2758\n",
            "150/157, train_loss: 0.2560\n",
            "151/157, train_loss: 0.2609\n",
            "152/157, train_loss: 0.2579\n",
            "153/157, train_loss: 0.2918\n",
            "154/157, train_loss: 0.2491\n",
            "155/157, train_loss: 0.2651\n",
            "156/157, train_loss: 0.2467\n",
            "157/157, train_loss: 0.2403\n",
            "158/157, train_loss: 0.2711\n",
            "epoch 1 average loss: 0.7278\n",
            "saved new best metric model\n",
            "current epoch: 1 current AUC: 0.9973 current accuracy: 0.9639 best AUC: 0.9973 at epoch: 1\n",
            "----------\n",
            "epoch 2/4\n",
            "1/157, train_loss: 0.2407\n",
            "2/157, train_loss: 0.2228\n",
            "3/157, train_loss: 0.2429\n",
            "4/157, train_loss: 0.2184\n",
            "5/157, train_loss: 0.2339\n",
            "6/157, train_loss: 0.2326\n",
            "7/157, train_loss: 0.1940\n",
            "8/157, train_loss: 0.2224\n",
            "9/157, train_loss: 0.2104\n",
            "10/157, train_loss: 0.1943\n",
            "11/157, train_loss: 0.1869\n",
            "12/157, train_loss: 0.2406\n",
            "13/157, train_loss: 0.2064\n",
            "14/157, train_loss: 0.2022\n",
            "15/157, train_loss: 0.1899\n",
            "16/157, train_loss: 0.1962\n",
            "17/157, train_loss: 0.2063\n",
            "18/157, train_loss: 0.2211\n",
            "19/157, train_loss: 0.2664\n",
            "20/157, train_loss: 0.2077\n",
            "21/157, train_loss: 0.2211\n",
            "22/157, train_loss: 0.2314\n",
            "23/157, train_loss: 0.2153\n",
            "24/157, train_loss: 0.2177\n",
            "25/157, train_loss: 0.2094\n",
            "26/157, train_loss: 0.1958\n",
            "27/157, train_loss: 0.1883\n",
            "28/157, train_loss: 0.2224\n",
            "29/157, train_loss: 0.2024\n",
            "30/157, train_loss: 0.1717\n",
            "31/157, train_loss: 0.1862\n",
            "32/157, train_loss: 0.1882\n",
            "33/157, train_loss: 0.2022\n",
            "34/157, train_loss: 0.1900\n",
            "35/157, train_loss: 0.1997\n",
            "36/157, train_loss: 0.1977\n",
            "37/157, train_loss: 0.1824\n",
            "38/157, train_loss: 0.1785\n",
            "39/157, train_loss: 0.1702\n",
            "40/157, train_loss: 0.2000\n",
            "41/157, train_loss: 0.1912\n",
            "42/157, train_loss: 0.1630\n",
            "43/157, train_loss: 0.1502\n",
            "44/157, train_loss: 0.1860\n",
            "45/157, train_loss: 0.1827\n",
            "46/157, train_loss: 0.1683\n",
            "47/157, train_loss: 0.1586\n",
            "48/157, train_loss: 0.1516\n",
            "49/157, train_loss: 0.1743\n",
            "50/157, train_loss: 0.1429\n",
            "51/157, train_loss: 0.1860\n",
            "52/157, train_loss: 0.1437\n",
            "53/157, train_loss: 0.1616\n",
            "54/157, train_loss: 0.1816\n",
            "55/157, train_loss: 0.1668\n",
            "56/157, train_loss: 0.1457\n",
            "57/157, train_loss: 0.1526\n",
            "58/157, train_loss: 0.1488\n",
            "59/157, train_loss: 0.1482\n",
            "60/157, train_loss: 0.1892\n",
            "61/157, train_loss: 0.1640\n",
            "62/157, train_loss: 0.1572\n",
            "63/157, train_loss: 0.1146\n",
            "64/157, train_loss: 0.1351\n",
            "65/157, train_loss: 0.1300\n",
            "66/157, train_loss: 0.1525\n",
            "67/157, train_loss: 0.1677\n",
            "68/157, train_loss: 0.1223\n",
            "69/157, train_loss: 0.1412\n",
            "70/157, train_loss: 0.1230\n",
            "71/157, train_loss: 0.1587\n",
            "72/157, train_loss: 0.1331\n",
            "73/157, train_loss: 0.1293\n",
            "74/157, train_loss: 0.1275\n",
            "75/157, train_loss: 0.1343\n",
            "76/157, train_loss: 0.1357\n",
            "77/157, train_loss: 0.1326\n",
            "78/157, train_loss: 0.1317\n",
            "79/157, train_loss: 0.1119\n",
            "80/157, train_loss: 0.1194\n",
            "81/157, train_loss: 0.1194\n",
            "82/157, train_loss: 0.1356\n",
            "83/157, train_loss: 0.1337\n",
            "84/157, train_loss: 0.1718\n",
            "85/157, train_loss: 0.1213\n",
            "86/157, train_loss: 0.1281\n",
            "87/157, train_loss: 0.1326\n",
            "88/157, train_loss: 0.1385\n",
            "89/157, train_loss: 0.1359\n",
            "90/157, train_loss: 0.1151\n",
            "91/157, train_loss: 0.1432\n",
            "92/157, train_loss: 0.1106\n",
            "93/157, train_loss: 0.1293\n",
            "94/157, train_loss: 0.1441\n",
            "95/157, train_loss: 0.1133\n",
            "96/157, train_loss: 0.0932\n",
            "97/157, train_loss: 0.1017\n",
            "98/157, train_loss: 0.1035\n",
            "99/157, train_loss: 0.1206\n",
            "100/157, train_loss: 0.1077\n",
            "101/157, train_loss: 0.1341\n",
            "102/157, train_loss: 0.1267\n",
            "103/157, train_loss: 0.1068\n",
            "104/157, train_loss: 0.1086\n",
            "105/157, train_loss: 0.0906\n",
            "106/157, train_loss: 0.1188\n",
            "107/157, train_loss: 0.1097\n",
            "108/157, train_loss: 0.1184\n",
            "109/157, train_loss: 0.0798\n",
            "110/157, train_loss: 0.1130\n",
            "111/157, train_loss: 0.1208\n",
            "112/157, train_loss: 0.0927\n",
            "113/157, train_loss: 0.1556\n",
            "114/157, train_loss: 0.0958\n",
            "115/157, train_loss: 0.1093\n",
            "116/157, train_loss: 0.1082\n",
            "117/157, train_loss: 0.1253\n",
            "118/157, train_loss: 0.1558\n",
            "119/157, train_loss: 0.0803\n",
            "120/157, train_loss: 0.1009\n",
            "121/157, train_loss: 0.1249\n",
            "122/157, train_loss: 0.1273\n",
            "123/157, train_loss: 0.1191\n",
            "124/157, train_loss: 0.0827\n",
            "125/157, train_loss: 0.0851\n",
            "126/157, train_loss: 0.1106\n",
            "127/157, train_loss: 0.1299\n",
            "128/157, train_loss: 0.1178\n",
            "129/157, train_loss: 0.1056\n",
            "130/157, train_loss: 0.0912\n",
            "131/157, train_loss: 0.0934\n",
            "132/157, train_loss: 0.0973\n",
            "133/157, train_loss: 0.0945\n",
            "134/157, train_loss: 0.0977\n",
            "135/157, train_loss: 0.1105\n",
            "136/157, train_loss: 0.0991\n",
            "137/157, train_loss: 0.0925\n",
            "138/157, train_loss: 0.0940\n",
            "139/157, train_loss: 0.0919\n",
            "140/157, train_loss: 0.0796\n",
            "141/157, train_loss: 0.0844\n",
            "142/157, train_loss: 0.1092\n",
            "143/157, train_loss: 0.0868\n",
            "144/157, train_loss: 0.1030\n",
            "145/157, train_loss: 0.1015\n",
            "146/157, train_loss: 0.0937\n",
            "147/157, train_loss: 0.0878\n",
            "148/157, train_loss: 0.0957\n",
            "149/157, train_loss: 0.0875\n",
            "150/157, train_loss: 0.1077\n",
            "151/157, train_loss: 0.0957\n",
            "152/157, train_loss: 0.0979\n",
            "153/157, train_loss: 0.0711\n",
            "154/157, train_loss: 0.0806\n",
            "155/157, train_loss: 0.1246\n",
            "156/157, train_loss: 0.0971\n",
            "157/157, train_loss: 0.0694\n",
            "158/157, train_loss: 0.1452\n",
            "epoch 2 average loss: 0.1447\n",
            "saved new best metric model\n",
            "current epoch: 2 current AUC: 0.9998 current accuracy: 0.9856 best AUC: 0.9998 at epoch: 2\n",
            "----------\n",
            "epoch 3/4\n",
            "1/157, train_loss: 0.0929\n",
            "2/157, train_loss: 0.0921\n",
            "3/157, train_loss: 0.1017\n",
            "4/157, train_loss: 0.0791\n",
            "5/157, train_loss: 0.0873\n",
            "6/157, train_loss: 0.0758\n",
            "7/157, train_loss: 0.0934\n",
            "8/157, train_loss: 0.0686\n",
            "9/157, train_loss: 0.0816\n",
            "10/157, train_loss: 0.1003\n",
            "11/157, train_loss: 0.1197\n",
            "12/157, train_loss: 0.1075\n",
            "13/157, train_loss: 0.0653\n",
            "14/157, train_loss: 0.0897\n",
            "15/157, train_loss: 0.0821\n",
            "16/157, train_loss: 0.0960\n",
            "17/157, train_loss: 0.0722\n",
            "18/157, train_loss: 0.0806\n",
            "19/157, train_loss: 0.0817\n",
            "20/157, train_loss: 0.0712\n",
            "21/157, train_loss: 0.0806\n",
            "22/157, train_loss: 0.0741\n",
            "23/157, train_loss: 0.0588\n",
            "24/157, train_loss: 0.0689\n",
            "25/157, train_loss: 0.1270\n",
            "26/157, train_loss: 0.0828\n",
            "27/157, train_loss: 0.0804\n",
            "28/157, train_loss: 0.0911\n",
            "29/157, train_loss: 0.0826\n",
            "30/157, train_loss: 0.0872\n",
            "31/157, train_loss: 0.0684\n",
            "32/157, train_loss: 0.0813\n",
            "33/157, train_loss: 0.0720\n",
            "34/157, train_loss: 0.0811\n",
            "35/157, train_loss: 0.0604\n",
            "36/157, train_loss: 0.0680\n",
            "37/157, train_loss: 0.0661\n",
            "38/157, train_loss: 0.0628\n",
            "39/157, train_loss: 0.0727\n",
            "40/157, train_loss: 0.0666\n",
            "41/157, train_loss: 0.0527\n",
            "42/157, train_loss: 0.0940\n",
            "43/157, train_loss: 0.0832\n",
            "44/157, train_loss: 0.0853\n",
            "45/157, train_loss: 0.0650\n",
            "46/157, train_loss: 0.0564\n",
            "47/157, train_loss: 0.0670\n",
            "48/157, train_loss: 0.0950\n",
            "49/157, train_loss: 0.0722\n",
            "50/157, train_loss: 0.0943\n",
            "51/157, train_loss: 0.0952\n",
            "52/157, train_loss: 0.0606\n",
            "53/157, train_loss: 0.0768\n",
            "54/157, train_loss: 0.0873\n",
            "55/157, train_loss: 0.0739\n",
            "56/157, train_loss: 0.0745\n",
            "57/157, train_loss: 0.0826\n",
            "58/157, train_loss: 0.0704\n",
            "59/157, train_loss: 0.0550\n",
            "60/157, train_loss: 0.0653\n",
            "61/157, train_loss: 0.0615\n",
            "62/157, train_loss: 0.0638\n",
            "63/157, train_loss: 0.0790\n",
            "64/157, train_loss: 0.0589\n",
            "65/157, train_loss: 0.0591\n",
            "66/157, train_loss: 0.0688\n",
            "67/157, train_loss: 0.0829\n",
            "68/157, train_loss: 0.0985\n",
            "69/157, train_loss: 0.0587\n",
            "70/157, train_loss: 0.0511\n",
            "71/157, train_loss: 0.0775\n",
            "72/157, train_loss: 0.0539\n",
            "73/157, train_loss: 0.0532\n",
            "74/157, train_loss: 0.0774\n",
            "75/157, train_loss: 0.0829\n",
            "76/157, train_loss: 0.0532\n",
            "77/157, train_loss: 0.0564\n",
            "78/157, train_loss: 0.0663\n",
            "79/157, train_loss: 0.0514\n",
            "80/157, train_loss: 0.0630\n",
            "81/157, train_loss: 0.0422\n",
            "82/157, train_loss: 0.0683\n",
            "83/157, train_loss: 0.0497\n",
            "84/157, train_loss: 0.0455\n",
            "85/157, train_loss: 0.0718\n",
            "86/157, train_loss: 0.0653\n",
            "87/157, train_loss: 0.0585\n",
            "88/157, train_loss: 0.0566\n",
            "89/157, train_loss: 0.0678\n",
            "90/157, train_loss: 0.0580\n",
            "91/157, train_loss: 0.0376\n",
            "92/157, train_loss: 0.0535\n",
            "93/157, train_loss: 0.0672\n",
            "94/157, train_loss: 0.0591\n",
            "95/157, train_loss: 0.0554\n",
            "96/157, train_loss: 0.0399\n",
            "97/157, train_loss: 0.0619\n",
            "98/157, train_loss: 0.0494\n",
            "99/157, train_loss: 0.0591\n",
            "100/157, train_loss: 0.0496\n",
            "101/157, train_loss: 0.0491\n",
            "102/157, train_loss: 0.0589\n",
            "103/157, train_loss: 0.0528\n",
            "104/157, train_loss: 0.0719\n",
            "105/157, train_loss: 0.0545\n",
            "106/157, train_loss: 0.0576\n",
            "107/157, train_loss: 0.0470\n",
            "108/157, train_loss: 0.0584\n",
            "109/157, train_loss: 0.0538\n",
            "110/157, train_loss: 0.0511\n",
            "111/157, train_loss: 0.0479\n",
            "112/157, train_loss: 0.0740\n",
            "113/157, train_loss: 0.0444\n",
            "114/157, train_loss: 0.0595\n",
            "115/157, train_loss: 0.0526\n",
            "116/157, train_loss: 0.0465\n",
            "117/157, train_loss: 0.0511\n",
            "118/157, train_loss: 0.0502\n",
            "119/157, train_loss: 0.0713\n",
            "120/157, train_loss: 0.0825\n",
            "121/157, train_loss: 0.0580\n",
            "122/157, train_loss: 0.0552\n",
            "123/157, train_loss: 0.0465\n",
            "124/157, train_loss: 0.0510\n",
            "125/157, train_loss: 0.0498\n",
            "126/157, train_loss: 0.0669\n",
            "127/157, train_loss: 0.0388\n",
            "128/157, train_loss: 0.0588\n",
            "129/157, train_loss: 0.0630\n",
            "130/157, train_loss: 0.0629\n",
            "131/157, train_loss: 0.0678\n",
            "132/157, train_loss: 0.0497\n",
            "133/157, train_loss: 0.0358\n",
            "134/157, train_loss: 0.0522\n",
            "135/157, train_loss: 0.0374\n",
            "136/157, train_loss: 0.0513\n",
            "137/157, train_loss: 0.0347\n",
            "138/157, train_loss: 0.0574\n",
            "139/157, train_loss: 0.0486\n",
            "140/157, train_loss: 0.0480\n",
            "141/157, train_loss: 0.0513\n",
            "142/157, train_loss: 0.0608\n",
            "143/157, train_loss: 0.0367\n",
            "144/157, train_loss: 0.0533\n",
            "145/157, train_loss: 0.0535\n",
            "146/157, train_loss: 0.0402\n",
            "147/157, train_loss: 0.0419\n",
            "148/157, train_loss: 0.0422\n",
            "149/157, train_loss: 0.0458\n",
            "150/157, train_loss: 0.0448\n",
            "151/157, train_loss: 0.0474\n",
            "152/157, train_loss: 0.0340\n",
            "153/157, train_loss: 0.0467\n",
            "154/157, train_loss: 0.0330\n",
            "155/157, train_loss: 0.0679\n",
            "156/157, train_loss: 0.0396\n",
            "157/157, train_loss: 0.0647\n",
            "158/157, train_loss: 0.0701\n",
            "epoch 3 average loss: 0.0649\n",
            "saved new best metric model\n",
            "current epoch: 3 current AUC: 0.9999 current accuracy: 0.9922 best AUC: 0.9999 at epoch: 3\n",
            "----------\n",
            "epoch 4/4\n",
            "1/157, train_loss: 0.0396\n",
            "2/157, train_loss: 0.0382\n",
            "3/157, train_loss: 0.0627\n",
            "4/157, train_loss: 0.0526\n",
            "5/157, train_loss: 0.0400\n",
            "6/157, train_loss: 0.0620\n",
            "7/157, train_loss: 0.0489\n",
            "8/157, train_loss: 0.0516\n",
            "9/157, train_loss: 0.0344\n",
            "10/157, train_loss: 0.0380\n",
            "11/157, train_loss: 0.0491\n",
            "12/157, train_loss: 0.0434\n",
            "13/157, train_loss: 0.0543\n",
            "14/157, train_loss: 0.0482\n",
            "15/157, train_loss: 0.0385\n",
            "16/157, train_loss: 0.0493\n",
            "17/157, train_loss: 0.0491\n",
            "18/157, train_loss: 0.0679\n",
            "19/157, train_loss: 0.0558\n",
            "20/157, train_loss: 0.0662\n",
            "21/157, train_loss: 0.0389\n",
            "22/157, train_loss: 0.0355\n",
            "23/157, train_loss: 0.0376\n",
            "24/157, train_loss: 0.0244\n",
            "25/157, train_loss: 0.0550\n",
            "26/157, train_loss: 0.0538\n",
            "27/157, train_loss: 0.0489\n",
            "28/157, train_loss: 0.0441\n",
            "29/157, train_loss: 0.0383\n",
            "30/157, train_loss: 0.0406\n",
            "31/157, train_loss: 0.0536\n",
            "32/157, train_loss: 0.0345\n",
            "33/157, train_loss: 0.0559\n",
            "34/157, train_loss: 0.0523\n",
            "35/157, train_loss: 0.0444\n",
            "36/157, train_loss: 0.0490\n",
            "37/157, train_loss: 0.0611\n",
            "38/157, train_loss: 0.0499\n",
            "39/157, train_loss: 0.0441\n",
            "40/157, train_loss: 0.0639\n",
            "41/157, train_loss: 0.0406\n",
            "42/157, train_loss: 0.0499\n",
            "43/157, train_loss: 0.0351\n",
            "44/157, train_loss: 0.0294\n",
            "45/157, train_loss: 0.0381\n",
            "46/157, train_loss: 0.0253\n",
            "47/157, train_loss: 0.0405\n",
            "48/157, train_loss: 0.0412\n",
            "49/157, train_loss: 0.0437\n",
            "50/157, train_loss: 0.0534\n",
            "51/157, train_loss: 0.0356\n",
            "52/157, train_loss: 0.0411\n",
            "53/157, train_loss: 0.0549\n",
            "54/157, train_loss: 0.0530\n",
            "55/157, train_loss: 0.0611\n",
            "56/157, train_loss: 0.0331\n",
            "57/157, train_loss: 0.0292\n",
            "58/157, train_loss: 0.0319\n",
            "59/157, train_loss: 0.0458\n",
            "60/157, train_loss: 0.0270\n",
            "61/157, train_loss: 0.0364\n",
            "62/157, train_loss: 0.0533\n",
            "63/157, train_loss: 0.0295\n",
            "64/157, train_loss: 0.0276\n",
            "65/157, train_loss: 0.0709\n",
            "66/157, train_loss: 0.0388\n",
            "67/157, train_loss: 0.0353\n",
            "68/157, train_loss: 0.0311\n",
            "69/157, train_loss: 0.0352\n",
            "70/157, train_loss: 0.0263\n",
            "71/157, train_loss: 0.0354\n",
            "72/157, train_loss: 0.0355\n",
            "73/157, train_loss: 0.0320\n",
            "74/157, train_loss: 0.0348\n",
            "75/157, train_loss: 0.0524\n",
            "76/157, train_loss: 0.0246\n",
            "77/157, train_loss: 0.0316\n",
            "78/157, train_loss: 0.0496\n",
            "79/157, train_loss: 0.0502\n",
            "80/157, train_loss: 0.0329\n",
            "81/157, train_loss: 0.0456\n",
            "82/157, train_loss: 0.0303\n",
            "83/157, train_loss: 0.0490\n",
            "84/157, train_loss: 0.0468\n",
            "85/157, train_loss: 0.0282\n",
            "86/157, train_loss: 0.0606\n",
            "87/157, train_loss: 0.0307\n",
            "88/157, train_loss: 0.0284\n",
            "89/157, train_loss: 0.0357\n",
            "90/157, train_loss: 0.0356\n",
            "91/157, train_loss: 0.0312\n",
            "92/157, train_loss: 0.0425\n",
            "93/157, train_loss: 0.0409\n",
            "94/157, train_loss: 0.0272\n",
            "95/157, train_loss: 0.0288\n",
            "96/157, train_loss: 0.0339\n",
            "97/157, train_loss: 0.0412\n",
            "98/157, train_loss: 0.0361\n",
            "99/157, train_loss: 0.0315\n",
            "100/157, train_loss: 0.0343\n",
            "101/157, train_loss: 0.0274\n",
            "102/157, train_loss: 0.0404\n",
            "103/157, train_loss: 0.0577\n",
            "104/157, train_loss: 0.0322\n",
            "105/157, train_loss: 0.0223\n",
            "106/157, train_loss: 0.0454\n",
            "107/157, train_loss: 0.0267\n",
            "108/157, train_loss: 0.0387\n",
            "109/157, train_loss: 0.0246\n",
            "110/157, train_loss: 0.0372\n",
            "111/157, train_loss: 0.0511\n",
            "112/157, train_loss: 0.0289\n",
            "113/157, train_loss: 0.0290\n",
            "114/157, train_loss: 0.0277\n",
            "115/157, train_loss: 0.0291\n",
            "116/157, train_loss: 0.0503\n",
            "117/157, train_loss: 0.0440\n",
            "118/157, train_loss: 0.0275\n",
            "119/157, train_loss: 0.0294\n",
            "120/157, train_loss: 0.0262\n",
            "121/157, train_loss: 0.0357\n",
            "122/157, train_loss: 0.0257\n",
            "123/157, train_loss: 0.0381\n",
            "124/157, train_loss: 0.0288\n",
            "125/157, train_loss: 0.0352\n",
            "126/157, train_loss: 0.0290\n",
            "127/157, train_loss: 0.0228\n",
            "128/157, train_loss: 0.0242\n",
            "129/157, train_loss: 0.0255\n",
            "130/157, train_loss: 0.0391\n",
            "131/157, train_loss: 0.0319\n",
            "132/157, train_loss: 0.0315\n",
            "133/157, train_loss: 0.0223\n",
            "134/157, train_loss: 0.0180\n",
            "135/157, train_loss: 0.0229\n",
            "136/157, train_loss: 0.0336\n",
            "137/157, train_loss: 0.0274\n",
            "138/157, train_loss: 0.0480\n",
            "139/157, train_loss: 0.0355\n",
            "140/157, train_loss: 0.0387\n",
            "141/157, train_loss: 0.0220\n",
            "142/157, train_loss: 0.0209\n",
            "143/157, train_loss: 0.0230\n",
            "144/157, train_loss: 0.0363\n",
            "145/157, train_loss: 0.0496\n",
            "146/157, train_loss: 0.0332\n",
            "147/157, train_loss: 0.0188\n",
            "148/157, train_loss: 0.0382\n",
            "149/157, train_loss: 0.0244\n",
            "150/157, train_loss: 0.0235\n",
            "151/157, train_loss: 0.0196\n",
            "152/157, train_loss: 0.0202\n",
            "153/157, train_loss: 0.0238\n",
            "154/157, train_loss: 0.0454\n",
            "155/157, train_loss: 0.0230\n",
            "156/157, train_loss: 0.0252\n",
            "157/157, train_loss: 0.0324\n",
            "158/157, train_loss: 0.0420\n",
            "epoch 4 average loss: 0.0383\n",
            "saved new best metric model\n",
            "current epoch: 4 current AUC: 1.0000 current accuracy: 0.9953 best AUC: 1.0000 at epoch: 4\n",
            "train completed, best_metric: 1.0000 at epoch: 4\n"
          ]
        }
      ],
      "source": [
        "best_metric = -1\n",
        "best_metric_epoch = -1\n",
        "epoch_loss_values = []\n",
        "metric_values = []\n",
        "\n",
        "for epoch in range(max_epochs):\n",
        "    print(\"-\" * 10)\n",
        "    print(f\"epoch {epoch + 1}/{max_epochs}\")\n",
        "    model.train()\n",
        "    epoch_loss = 0\n",
        "    step = 0\n",
        "    for batch_data in train_loader:\n",
        "        step += 1\n",
        "        inputs, labels = batch_data[0].to(device), batch_data[1].to(device)\n",
        "        optimizer.zero_grad()\n",
        "        outputs = model(inputs)\n",
        "        loss = loss_function(outputs, labels)\n",
        "        loss.backward()\n",
        "        optimizer.step()\n",
        "        epoch_loss += loss.item()\n",
        "        print(f\"{step}/{len(train_ds) // train_loader.batch_size}, \" f\"train_loss: {loss.item():.4f}\")\n",
        "        epoch_len = len(train_ds) // train_loader.batch_size\n",
        "    epoch_loss /= step\n",
        "    epoch_loss_values.append(epoch_loss)\n",
        "    print(f\"epoch {epoch + 1} average loss: {epoch_loss:.4f}\")\n",
        "\n",
        "    if (epoch + 1) % val_interval == 0:\n",
        "        model.eval()\n",
        "        with torch.no_grad():\n",
        "            y_pred = torch.tensor([], dtype=torch.float32, device=device)\n",
        "            y = torch.tensor([], dtype=torch.long, device=device)\n",
        "            for val_data in val_loader:\n",
        "                val_images, val_labels = (\n",
        "                    val_data[0].to(device),\n",
        "                    val_data[1].to(device),\n",
        "                )\n",
        "                y_pred = torch.cat([y_pred, model(val_images)], dim=0)\n",
        "                y = torch.cat([y, val_labels], dim=0)\n",
        "            y_onehot = [y_trans(i) for i in decollate_batch(y, detach=False)]\n",
        "            y_pred_act = [y_pred_trans(i) for i in decollate_batch(y_pred)]\n",
        "            auc_metric(y_pred_act, y_onehot)\n",
        "            result = auc_metric.aggregate()\n",
        "            auc_metric.reset()\n",
        "            del y_pred_act, y_onehot\n",
        "            metric_values.append(result)\n",
        "            acc_value = torch.eq(y_pred.argmax(dim=1), y)\n",
        "            acc_metric = acc_value.sum().item() / len(acc_value)\n",
        "            if result > best_metric:\n",
        "                best_metric = result\n",
        "                best_metric_epoch = epoch + 1\n",
        "                torch.save(model.state_dict(), os.path.join(root_dir, \"best_metric_model.pth\"))\n",
        "                print(\"saved new best metric model\")\n",
        "            print(\n",
        "                f\"current epoch: {epoch + 1} current AUC: {result:.4f}\"\n",
        "                f\" current accuracy: {acc_metric:.4f}\"\n",
        "                f\" best AUC: {best_metric:.4f}\"\n",
        "                f\" at epoch: {best_metric_epoch}\"\n",
        "            )\n",
        "\n",
        "print(f\"train completed, best_metric: {best_metric:.4f} \" f\"at epoch: {best_metric_epoch}\")"
      ]
    },
    {
      "cell_type": "markdown",
      "metadata": {
        "id": "bCBzCIna27nt"
      },
      "source": [
        "## Plot the loss and metric"
      ]
    },
    {
      "cell_type": "code",
      "execution_count": null,
      "metadata": {
        "id": "NasYgcZD27nt",
        "outputId": "72138ab9-8ad8-4999-9718-1de7a572baf4",
        "colab": {
          "base_uri": "https://localhost:8080/",
          "height": 564
        }
      },
      "outputs": [
        {
          "output_type": "display_data",
          "data": {
            "text/plain": [
              "<Figure size 1200x600 with 2 Axes>"
            ],
            "image/png": "[encoded data removed]"
          },
          "metadata": {}
        }
      ],
      "source": [
        "plt.figure(\"train\", (12, 6))\n",
        "plt.subplot(1, 2, 1)\n",
        "plt.title(\"Epoch Average Loss\")\n",
        "x = [i + 1 for i in range(len(epoch_loss_values))]\n",
        "y = epoch_loss_values\n",
        "plt.xlabel(\"epoch\")\n",
        "plt.plot(x, y)\n",
        "plt.subplot(1, 2, 2)\n",
        "plt.title(\"Val AUC\")\n",
        "x = [val_interval * (i + 1) for i in range(len(metric_values))]\n",
        "y = metric_values\n",
        "plt.xlabel(\"epoch\")\n",
        "plt.plot(x, y)\n",
        "plt.show()"
      ]
    },
    {
      "cell_type": "markdown",
      "metadata": {
        "id": "itIXGV7z27nu"
      },
      "source": [
        "## Evaluate the model on test dataset\n",
        "\n",
        "After training and validation, we already got the best model on validation test.  \n",
        "We need to evaluate the model on test dataset to check whether it's robust and not over-fitting.  \n",
        "We'll use these predictions to generate a classification report."
      ]
    },
    {
      "cell_type": "code",
      "execution_count": null,
      "metadata": {
        "id": "kOajC7GL27nu"
      },
      "outputs": [],
      "source": [
        "model.load_state_dict(torch.load(os.path.join(root_dir, \"best_metric_model.pth\")))\n",
        "model.eval()\n",
        "y_true = []\n",
        "y_pred = []\n",
        "with torch.no_grad():\n",
        "    for test_data in test_loader:\n",
        "        test_images, test_labels = (\n",
        "            test_data[0].to(device),\n",
        "            test_data[1].to(device),\n",
        "        )\n",
        "        pred = model(test_images).argmax(dim=1)\n",
        "        for i in range(len(pred)):\n",
        "            y_true.append(test_labels[i].item())\n",
        "            y_pred.append(pred[i].item())"
      ]
    },
    {
      "cell_type": "code",
      "source": [
        "print(y_true[0:10])\n",
        "print(y_pred[0:10])"
      ],
      "metadata": {
        "id": "_GpUoy3z8Bf-",
        "outputId": "832fa002-5a25-4f2d-89fd-da463fa3c6b8",
        "colab": {
          "base_uri": "https://localhost:8080/"
        }
      },
      "execution_count": null,
      "outputs": [
        {
          "output_type": "stream",
          "name": "stdout",
          "text": [
            "[0, 4, 2, 4, 2, 2, 0, 5, 3, 2]\n",
            "[0, 4, 2, 4, 2, 2, 0, 5, 3, 2]\n"
          ]
        }
      ]
    },
    {
      "cell_type": "code",
      "execution_count": null,
      "metadata": {
        "tags": [],
        "id": "vpzQGxrg27nu",
        "outputId": "bfed2309-df40-43e3-89b7-cecf16fbdf95",
        "colab": {
          "base_uri": "https://localhost:8080/"
        }
      },
      "outputs": [
        {
          "output_type": "stream",
          "name": "stdout",
          "text": [
            "              precision    recall  f1-score   support\n",
            "\n",
            "   AbdomenCT     0.9980    0.9960    0.9970       995\n",
            "   BreastMRI     0.9954    0.9943    0.9949       880\n",
            "         CXR     0.9969    0.9959    0.9964       982\n",
            "     ChestCT     0.9902    1.0000    0.9951      1014\n",
            "        Hand     0.9962    0.9895    0.9928      1048\n",
            "      HeadCT     0.9969    0.9980    0.9974       976\n",
            "\n",
            "    accuracy                         0.9956      5895\n",
            "   macro avg     0.9956    0.9956    0.9956      5895\n",
            "weighted avg     0.9956    0.9956    0.9956      5895\n",
            "\n"
          ]
        }
      ],
      "source": [
        "print(classification_report(y_true, y_pred, target_names=class_names, digits=4))"
      ]
    },
    {
      "cell_type": "markdown",
      "metadata": {
        "id": "D7e18yk727nu"
      },
      "source": [
        "## Cleanup data directory\n",
        "\n",
        "Remove directory if a temporary was used."
      ]
    },
    {
      "cell_type": "code",
      "execution_count": null,
      "metadata": {
        "id": "A0jyZlhy27nu"
      },
      "outputs": [],
      "source": [
        "if directory is None:\n",
        "    shutil.rmtree(root_dir)"
      ]
    }
  ],
  "metadata": {
    "kernelspec": {
      "display_name": "Python 3",
      "name": "python3"
    },
    "language_info": {
      "codemirror_mode": {
        "name": "ipython",
        "version": 3
      },
      "file_extension": ".py",
      "mimetype": "text/x-python",
      "name": "python",
      "nbconvert_exporter": "python",
      "pygments_lexer": "ipython3",
      "version": "3.8.13"
    },
    "colab": {
      "provenance": [],
      "machine_shape": "hm",
      "gpuType": "T4",
      "include_colab_link": true
    },
    "accelerator": "GPU"
  },
  "nbformat": 4,
  "nbformat_minor": 0
}