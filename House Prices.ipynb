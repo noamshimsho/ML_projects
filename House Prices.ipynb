{
 "cells": [
  {
   "cell_type": "markdown",
   "metadata": {},
   "source": [
    "## House Prices\n",
    "\n",
    "### It is your job to predict the sales price for each house"
   ]
  },
  {
   "cell_type": "code",
   "execution_count": 3,
   "metadata": {},
   "outputs": [],
   "source": [
    "import pathlib\n",
    "path = pathlib.Path('/storage/archive/house_prices')\n",
    "\n",
    "from kaggle import api\n",
    "if not path.exists():\n",
    "    path.mkdir()\n",
    "    api.competition_download_cli('house-prices-advanced-regression-techniques', path=path)"
   ]
  },
  {
   "cell_type": "code",
   "execution_count": 4,
   "metadata": {},
   "outputs": [
    {
     "data": {
      "text/plain": [
       "[Path('/storage/archive/house_prices/sample_submission.csv'),\n",
       " Path('/storage/archive/house_prices/data_description.txt'),\n",
       " Path('/storage/archive/house_prices/test.csv'),\n",
       " Path('/storage/archive/house_prices/house-prices-advanced-regression-techniques.zip'),\n",
       " Path('/storage/archive/house_prices/train.csv')]"
      ]
     },
     "execution_count": 4,
     "metadata": {},
     "output_type": "execute_result"
    }
   ],
   "source": [
    "import zipfile\n",
    "with zipfile.ZipFile(path/'house-prices-advanced-regression-techniques.zip', 'r') as zip_ref:\n",
    "    zip_ref.extractall(path)\n",
    "list(path.glob('*'))"
   ]
  },
  {
   "cell_type": "code",
   "execution_count": 1,
   "metadata": {},
   "outputs": [],
   "source": [
    "#hide\n",
    "from fastbook import *\n",
    "from kaggle import api\n",
    "from pandas.api.types import is_string_dtype, is_numeric_dtype, is_categorical_dtype\n",
    "from fastai.tabular.all import *\n",
    "from sklearn.ensemble import RandomForestRegressor\n",
    "from sklearn.tree import DecisionTreeRegressor\n",
    "from dtreeviz.trees import *\n",
    "from IPython.display import Image, display_svg, SVG\n",
    "import pathlib\n",
    "\n",
    "pd.options.display.max_rows = 20\n",
    "pd.options.display.max_columns = 8"
   ]
  },
  {
   "cell_type": "markdown",
   "metadata": {},
   "source": [
    "## The Data"
   ]
  },
  {
   "cell_type": "code",
   "execution_count": 2,
   "metadata": {},
   "outputs": [
    {
     "data": {
      "text/html": [
       "<div>\n",
       "<style scoped>\n",
       "    .dataframe tbody tr th:only-of-type {\n",
       "        vertical-align: middle;\n",
       "    }\n",
       "\n",
       "    .dataframe tbody tr th {\n",
       "        vertical-align: top;\n",
       "    }\n",
       "\n",
       "    .dataframe thead th {\n",
       "        text-align: right;\n",
       "    }\n",
       "</style>\n",
       "<table border=\"1\" class=\"dataframe\">\n",
       "  <thead>\n",
       "    <tr style=\"text-align: right;\">\n",
       "      <th></th>\n",
       "      <th>Id</th>\n",
       "      <th>MSSubClass</th>\n",
       "      <th>MSZoning</th>\n",
       "      <th>LotFrontage</th>\n",
       "      <th>...</th>\n",
       "      <th>YrSold</th>\n",
       "      <th>SaleType</th>\n",
       "      <th>SaleCondition</th>\n",
       "      <th>SalePrice</th>\n",
       "    </tr>\n",
       "  </thead>\n",
       "  <tbody>\n",
       "    <tr>\n",
       "      <th>0</th>\n",
       "      <td>1</td>\n",
       "      <td>60</td>\n",
       "      <td>RL</td>\n",
       "      <td>65.0</td>\n",
       "      <td>...</td>\n",
       "      <td>2008</td>\n",
       "      <td>WD</td>\n",
       "      <td>Normal</td>\n",
       "      <td>208500</td>\n",
       "    </tr>\n",
       "    <tr>\n",
       "      <th>1</th>\n",
       "      <td>2</td>\n",
       "      <td>20</td>\n",
       "      <td>RL</td>\n",
       "      <td>80.0</td>\n",
       "      <td>...</td>\n",
       "      <td>2007</td>\n",
       "      <td>WD</td>\n",
       "      <td>Normal</td>\n",
       "      <td>181500</td>\n",
       "    </tr>\n",
       "    <tr>\n",
       "      <th>2</th>\n",
       "      <td>3</td>\n",
       "      <td>60</td>\n",
       "      <td>RL</td>\n",
       "      <td>68.0</td>\n",
       "      <td>...</td>\n",
       "      <td>2008</td>\n",
       "      <td>WD</td>\n",
       "      <td>Normal</td>\n",
       "      <td>223500</td>\n",
       "    </tr>\n",
       "    <tr>\n",
       "      <th>3</th>\n",
       "      <td>4</td>\n",
       "      <td>70</td>\n",
       "      <td>RL</td>\n",
       "      <td>60.0</td>\n",
       "      <td>...</td>\n",
       "      <td>2006</td>\n",
       "      <td>WD</td>\n",
       "      <td>Abnorml</td>\n",
       "      <td>140000</td>\n",
       "    </tr>\n",
       "    <tr>\n",
       "      <th>4</th>\n",
       "      <td>5</td>\n",
       "      <td>60</td>\n",
       "      <td>RL</td>\n",
       "      <td>84.0</td>\n",
       "      <td>...</td>\n",
       "      <td>2008</td>\n",
       "      <td>WD</td>\n",
       "      <td>Normal</td>\n",
       "      <td>250000</td>\n",
       "    </tr>\n",
       "    <tr>\n",
       "      <th>...</th>\n",
       "      <td>...</td>\n",
       "      <td>...</td>\n",
       "      <td>...</td>\n",
       "      <td>...</td>\n",
       "      <td>...</td>\n",
       "      <td>...</td>\n",
       "      <td>...</td>\n",
       "      <td>...</td>\n",
       "      <td>...</td>\n",
       "    </tr>\n",
       "    <tr>\n",
       "      <th>1455</th>\n",
       "      <td>1456</td>\n",
       "      <td>60</td>\n",
       "      <td>RL</td>\n",
       "      <td>62.0</td>\n",
       "      <td>...</td>\n",
       "      <td>2007</td>\n",
       "      <td>WD</td>\n",
       "      <td>Normal</td>\n",
       "      <td>175000</td>\n",
       "    </tr>\n",
       "    <tr>\n",
       "      <th>1456</th>\n",
       "      <td>1457</td>\n",
       "      <td>20</td>\n",
       "      <td>RL</td>\n",
       "      <td>85.0</td>\n",
       "      <td>...</td>\n",
       "      <td>2010</td>\n",
       "      <td>WD</td>\n",
       "      <td>Normal</td>\n",
       "      <td>210000</td>\n",
       "    </tr>\n",
       "    <tr>\n",
       "      <th>1457</th>\n",
       "      <td>1458</td>\n",
       "      <td>70</td>\n",
       "      <td>RL</td>\n",
       "      <td>66.0</td>\n",
       "      <td>...</td>\n",
       "      <td>2010</td>\n",
       "      <td>WD</td>\n",
       "      <td>Normal</td>\n",
       "      <td>266500</td>\n",
       "    </tr>\n",
       "    <tr>\n",
       "      <th>1458</th>\n",
       "      <td>1459</td>\n",
       "      <td>20</td>\n",
       "      <td>RL</td>\n",
       "      <td>68.0</td>\n",
       "      <td>...</td>\n",
       "      <td>2010</td>\n",
       "      <td>WD</td>\n",
       "      <td>Normal</td>\n",
       "      <td>142125</td>\n",
       "    </tr>\n",
       "    <tr>\n",
       "      <th>1459</th>\n",
       "      <td>1460</td>\n",
       "      <td>20</td>\n",
       "      <td>RL</td>\n",
       "      <td>75.0</td>\n",
       "      <td>...</td>\n",
       "      <td>2008</td>\n",
       "      <td>WD</td>\n",
       "      <td>Normal</td>\n",
       "      <td>147500</td>\n",
       "    </tr>\n",
       "  </tbody>\n",
       "</table>\n",
       "<p>1460 rows × 81 columns</p>\n",
       "</div>"
      ],
      "text/plain": [
       "        Id  MSSubClass MSZoning  LotFrontage  ...  YrSold SaleType  \\\n",
       "0        1          60       RL         65.0  ...    2008       WD   \n",
       "1        2          20       RL         80.0  ...    2007       WD   \n",
       "2        3          60       RL         68.0  ...    2008       WD   \n",
       "3        4          70       RL         60.0  ...    2006       WD   \n",
       "4        5          60       RL         84.0  ...    2008       WD   \n",
       "...    ...         ...      ...          ...  ...     ...      ...   \n",
       "1455  1456          60       RL         62.0  ...    2007       WD   \n",
       "1456  1457          20       RL         85.0  ...    2010       WD   \n",
       "1457  1458          70       RL         66.0  ...    2010       WD   \n",
       "1458  1459          20       RL         68.0  ...    2010       WD   \n",
       "1459  1460          20       RL         75.0  ...    2008       WD   \n",
       "\n",
       "     SaleCondition SalePrice  \n",
       "0           Normal    208500  \n",
       "1           Normal    181500  \n",
       "2           Normal    223500  \n",
       "3          Abnorml    140000  \n",
       "4           Normal    250000  \n",
       "...            ...       ...  \n",
       "1455        Normal    175000  \n",
       "1456        Normal    210000  \n",
       "1457        Normal    266500  \n",
       "1458        Normal    142125  \n",
       "1459        Normal    147500  \n",
       "\n",
       "[1460 rows x 81 columns]"
      ]
     },
     "execution_count": 2,
     "metadata": {},
     "output_type": "execute_result"
    }
   ],
   "source": [
    "path = pathlib.Path('/storage/archive/house_prices')\n",
    "df = pd.read_csv(path/'train.csv')\n",
    "df"
   ]
  },
  {
   "cell_type": "code",
   "execution_count": 3,
   "metadata": {},
   "outputs": [
    {
     "name": "stdout",
     "output_type": "stream",
     "text": [
      "81\n"
     ]
    },
    {
     "data": {
      "text/plain": [
       "Index(['Id', 'MSSubClass', 'MSZoning', 'LotFrontage', 'LotArea', 'Street',\n",
       "       'Alley', 'LotShape', 'LandContour', 'Utilities', 'LotConfig',\n",
       "       'LandSlope', 'Neighborhood', 'Condition1', 'Condition2', 'BldgType',\n",
       "       'HouseStyle', 'OverallQual', 'OverallCond', 'YearBuilt', 'YearRemodAdd',\n",
       "       'RoofStyle', 'RoofMatl', 'Exterior1st', 'Exterior2nd', 'MasVnrType',\n",
       "       'MasVnrArea', 'ExterQual', 'ExterCond', 'Foundation', 'BsmtQual',\n",
       "       'BsmtCond', 'BsmtExposure', 'BsmtFinType1', 'BsmtFinSF1',\n",
       "       'BsmtFinType2', 'BsmtFinSF2', 'BsmtUnfSF', 'TotalBsmtSF', 'Heating',\n",
       "       'HeatingQC', 'CentralAir', 'Electrical', '1stFlrSF', '2ndFlrSF',\n",
       "       'LowQualFinSF', 'GrLivArea', 'BsmtFullBath', 'BsmtHalfBath', 'FullBath',\n",
       "       'HalfBath', 'BedroomAbvGr', 'KitchenAbvGr', 'KitchenQual',\n",
       "       'TotRmsAbvGrd', 'Functional', 'Fireplaces', 'FireplaceQu', 'GarageType',\n",
       "       'GarageYrBlt', 'GarageFinish', 'GarageCars', 'GarageArea', 'GarageQual',\n",
       "       'GarageCond', 'PavedDrive', 'WoodDeckSF', 'OpenPorchSF',\n",
       "       'EnclosedPorch', '3SsnPorch', 'ScreenPorch', 'PoolArea', 'PoolQC',\n",
       "       'Fence', 'MiscFeature', 'MiscVal', 'MoSold', 'YrSold', 'SaleType',\n",
       "       'SaleCondition', 'SalePrice'],\n",
       "      dtype='object')"
      ]
     },
     "execution_count": 3,
     "metadata": {},
     "output_type": "execute_result"
    }
   ],
   "source": [
    "print(len(df.columns))\n",
    "df.columns"
   ]
  },
  {
   "cell_type": "markdown",
   "metadata": {},
   "source": [
    "## Define the categorial ordinal variables"
   ]
  },
  {
   "cell_type": "code",
   "execution_count": 4,
   "metadata": {},
   "outputs": [],
   "source": [
    "qual = ['Ex','Gd','TA','Fa','Po']\n",
    "\n",
    "df['ExterQual'] = df['ExterQual'].astype('category')\n",
    "df['ExterQual'].cat.set_categories(qual, ordered = True, inplace = True)"
   ]
  },
  {
   "cell_type": "code",
   "execution_count": 5,
   "metadata": {},
   "outputs": [],
   "source": [
    "df['ExterCond'] = df['ExterCond'].astype('category')\n",
    "df['ExterCond'].cat.set_categories(qual, ordered = True, inplace = True)"
   ]
  },
  {
   "cell_type": "code",
   "execution_count": 6,
   "metadata": {},
   "outputs": [],
   "source": [
    "df['BsmtQual'] = df['BsmtQual'].astype('category')\n",
    "df['BsmtQual'].cat.set_categories(qual, ordered = True, inplace = True)"
   ]
  },
  {
   "cell_type": "code",
   "execution_count": 7,
   "metadata": {},
   "outputs": [],
   "source": [
    "df['BsmtCond'] = df['BsmtCond'].astype('category')\n",
    "df['BsmtCond'].cat.set_categories(qual, ordered = True, inplace = True)"
   ]
  },
  {
   "cell_type": "code",
   "execution_count": 8,
   "metadata": {},
   "outputs": [],
   "source": [
    "df['HeatingQC'] = df['HeatingQC'].astype('category')\n",
    "df['HeatingQC'].cat.set_categories(qual, ordered = True, inplace = True)"
   ]
  },
  {
   "cell_type": "code",
   "execution_count": 9,
   "metadata": {},
   "outputs": [],
   "source": [
    "df['KitchenQual'] = df['KitchenQual'].astype('category')\n",
    "df['KitchenQual'].cat.set_categories(qual, ordered = True, inplace = True)"
   ]
  },
  {
   "cell_type": "code",
   "execution_count": 10,
   "metadata": {},
   "outputs": [],
   "source": [
    "df['FireplaceQu'] = df['FireplaceQu'].astype('category')\n",
    "df['FireplaceQu'].cat.set_categories(qual, ordered = True, inplace = True)"
   ]
  },
  {
   "cell_type": "code",
   "execution_count": 11,
   "metadata": {},
   "outputs": [],
   "source": [
    "df['GarageQual'] = df['GarageQual'].astype('category')\n",
    "df['GarageQual'].cat.set_categories(qual, ordered = True, inplace = True)"
   ]
  },
  {
   "cell_type": "code",
   "execution_count": 12,
   "metadata": {},
   "outputs": [],
   "source": [
    "df['GarageCond'] = df['GarageCond'].astype('category')\n",
    "df['GarageCond'].cat.set_categories(qual, ordered = True, inplace = True)"
   ]
  },
  {
   "cell_type": "code",
   "execution_count": 13,
   "metadata": {},
   "outputs": [],
   "source": [
    "df['PoolQC'] = df['PoolQC'].astype('category')\n",
    "df['PoolQC'].cat.set_categories(qual, ordered = True, inplace = True)"
   ]
  },
  {
   "cell_type": "markdown",
   "metadata": {},
   "source": [
    "## Depented variable"
   ]
  },
  {
   "cell_type": "code",
   "execution_count": 14,
   "metadata": {},
   "outputs": [],
   "source": [
    "dep_var = 'SalePrice'"
   ]
  },
  {
   "cell_type": "code",
   "execution_count": 15,
   "metadata": {},
   "outputs": [],
   "source": [
    "df[dep_var] = np.log(df[dep_var])"
   ]
  },
  {
   "cell_type": "markdown",
   "metadata": {},
   "source": [
    "## Create the dataset from the df:\n",
    "- **procs**\n",
    "    - Categorify: switch categorial variable to integers\n",
    "    - FillMissing: fill missing data with the median\n",
    "- Define categorial and continues variables\n",
    "- split the data to train and validation"
   ]
  },
  {
   "cell_type": "code",
   "execution_count": 16,
   "metadata": {},
   "outputs": [],
   "source": [
    "procs = [Categorify, FillMissing]"
   ]
  },
  {
   "cell_type": "code",
   "execution_count": 17,
   "metadata": {},
   "outputs": [],
   "source": [
    "cont, cat = cont_cat_split(df, 1, dep_var=dep_var)"
   ]
  },
  {
   "cell_type": "code",
   "execution_count": 18,
   "metadata": {},
   "outputs": [
    {
     "data": {
      "text/plain": [
       "((#1168) [1172,1313,1327,29,397,999,1406,219,436,482...],\n",
       " (#292) [782,131,414,1350,190,820,1376,1040,1314,305...])"
      ]
     },
     "execution_count": 18,
     "metadata": {},
     "output_type": "execute_result"
    }
   ],
   "source": [
    "f = RandomSplitter(seed=42)\n",
    "f(df)"
   ]
  },
  {
   "cell_type": "code",
   "execution_count": 19,
   "metadata": {},
   "outputs": [],
   "source": [
    "database = TabularPandas(df, procs, cat, cont, y_names=dep_var, splits=f(df))"
   ]
  },
  {
   "cell_type": "code",
   "execution_count": 20,
   "metadata": {},
   "outputs": [
    {
     "data": {
      "text/plain": [
       "(1168, 292)"
      ]
     },
     "execution_count": 20,
     "metadata": {},
     "output_type": "execute_result"
    }
   ],
   "source": [
    "len(database.train), len(database.valid)"
   ]
  },
  {
   "cell_type": "code",
   "execution_count": 21,
   "metadata": {},
   "outputs": [
    {
     "data": {
      "text/html": [
       "<table border=\"1\" class=\"dataframe\">\n",
       "  <thead>\n",
       "    <tr style=\"text-align: right;\">\n",
       "      <th></th>\n",
       "      <th>MSZoning</th>\n",
       "      <th>Street</th>\n",
       "      <th>Alley</th>\n",
       "      <th>LotShape</th>\n",
       "      <th>LandContour</th>\n",
       "      <th>Utilities</th>\n",
       "      <th>LotConfig</th>\n",
       "      <th>LandSlope</th>\n",
       "      <th>Neighborhood</th>\n",
       "      <th>Condition1</th>\n",
       "      <th>Condition2</th>\n",
       "      <th>BldgType</th>\n",
       "      <th>HouseStyle</th>\n",
       "      <th>RoofStyle</th>\n",
       "      <th>RoofMatl</th>\n",
       "      <th>Exterior1st</th>\n",
       "      <th>Exterior2nd</th>\n",
       "      <th>MasVnrType</th>\n",
       "      <th>ExterQual</th>\n",
       "      <th>ExterCond</th>\n",
       "      <th>Foundation</th>\n",
       "      <th>BsmtQual</th>\n",
       "      <th>BsmtCond</th>\n",
       "      <th>BsmtExposure</th>\n",
       "      <th>BsmtFinType1</th>\n",
       "      <th>BsmtFinType2</th>\n",
       "      <th>Heating</th>\n",
       "      <th>HeatingQC</th>\n",
       "      <th>CentralAir</th>\n",
       "      <th>Electrical</th>\n",
       "      <th>KitchenQual</th>\n",
       "      <th>Functional</th>\n",
       "      <th>FireplaceQu</th>\n",
       "      <th>GarageType</th>\n",
       "      <th>GarageFinish</th>\n",
       "      <th>GarageQual</th>\n",
       "      <th>GarageCond</th>\n",
       "      <th>PavedDrive</th>\n",
       "      <th>PoolQC</th>\n",
       "      <th>Fence</th>\n",
       "      <th>MiscFeature</th>\n",
       "      <th>SaleType</th>\n",
       "      <th>SaleCondition</th>\n",
       "      <th>LotFrontage_na</th>\n",
       "      <th>MasVnrArea_na</th>\n",
       "      <th>GarageYrBlt_na</th>\n",
       "      <th>Id</th>\n",
       "      <th>MSSubClass</th>\n",
       "      <th>LotFrontage</th>\n",
       "      <th>LotArea</th>\n",
       "      <th>OverallQual</th>\n",
       "      <th>OverallCond</th>\n",
       "      <th>YearBuilt</th>\n",
       "      <th>YearRemodAdd</th>\n",
       "      <th>MasVnrArea</th>\n",
       "      <th>BsmtFinSF1</th>\n",
       "      <th>BsmtFinSF2</th>\n",
       "      <th>BsmtUnfSF</th>\n",
       "      <th>TotalBsmtSF</th>\n",
       "      <th>1stFlrSF</th>\n",
       "      <th>2ndFlrSF</th>\n",
       "      <th>LowQualFinSF</th>\n",
       "      <th>GrLivArea</th>\n",
       "      <th>BsmtFullBath</th>\n",
       "      <th>BsmtHalfBath</th>\n",
       "      <th>FullBath</th>\n",
       "      <th>HalfBath</th>\n",
       "      <th>BedroomAbvGr</th>\n",
       "      <th>KitchenAbvGr</th>\n",
       "      <th>TotRmsAbvGrd</th>\n",
       "      <th>Fireplaces</th>\n",
       "      <th>GarageYrBlt</th>\n",
       "      <th>GarageCars</th>\n",
       "      <th>GarageArea</th>\n",
       "      <th>WoodDeckSF</th>\n",
       "      <th>OpenPorchSF</th>\n",
       "      <th>EnclosedPorch</th>\n",
       "      <th>3SsnPorch</th>\n",
       "      <th>ScreenPorch</th>\n",
       "      <th>PoolArea</th>\n",
       "      <th>MiscVal</th>\n",
       "      <th>MoSold</th>\n",
       "      <th>YrSold</th>\n",
       "      <th>SalePrice</th>\n",
       "    </tr>\n",
       "  </thead>\n",
       "  <tbody>\n",
       "    <tr>\n",
       "      <th>1172</th>\n",
       "      <td>FV</td>\n",
       "      <td>Pave</td>\n",
       "      <td>Pave</td>\n",
       "      <td>IR1</td>\n",
       "      <td>Lvl</td>\n",
       "      <td>AllPub</td>\n",
       "      <td>Inside</td>\n",
       "      <td>Gtl</td>\n",
       "      <td>Somerst</td>\n",
       "      <td>Norm</td>\n",
       "      <td>Norm</td>\n",
       "      <td>TwnhsE</td>\n",
       "      <td>2Story</td>\n",
       "      <td>Gable</td>\n",
       "      <td>CompShg</td>\n",
       "      <td>MetalSd</td>\n",
       "      <td>MetalSd</td>\n",
       "      <td>None</td>\n",
       "      <td>Gd</td>\n",
       "      <td>TA</td>\n",
       "      <td>PConc</td>\n",
       "      <td>Gd</td>\n",
       "      <td>TA</td>\n",
       "      <td>No</td>\n",
       "      <td>Unf</td>\n",
       "      <td>Unf</td>\n",
       "      <td>GasA</td>\n",
       "      <td>Ex</td>\n",
       "      <td>Y</td>\n",
       "      <td>SBrkr</td>\n",
       "      <td>Gd</td>\n",
       "      <td>Typ</td>\n",
       "      <td>#na#</td>\n",
       "      <td>Detchd</td>\n",
       "      <td>Fin</td>\n",
       "      <td>TA</td>\n",
       "      <td>TA</td>\n",
       "      <td>Y</td>\n",
       "      <td>#na#</td>\n",
       "      <td>#na#</td>\n",
       "      <td>#na#</td>\n",
       "      <td>WD</td>\n",
       "      <td>Normal</td>\n",
       "      <td>False</td>\n",
       "      <td>False</td>\n",
       "      <td>False</td>\n",
       "      <td>1173</td>\n",
       "      <td>160</td>\n",
       "      <td>35.0</td>\n",
       "      <td>4017</td>\n",
       "      <td>7</td>\n",
       "      <td>5</td>\n",
       "      <td>2006</td>\n",
       "      <td>2007</td>\n",
       "      <td>0.0</td>\n",
       "      <td>0</td>\n",
       "      <td>0</td>\n",
       "      <td>625</td>\n",
       "      <td>625</td>\n",
       "      <td>625</td>\n",
       "      <td>625</td>\n",
       "      <td>0</td>\n",
       "      <td>1250</td>\n",
       "      <td>0</td>\n",
       "      <td>0</td>\n",
       "      <td>2</td>\n",
       "      <td>1</td>\n",
       "      <td>2</td>\n",
       "      <td>1</td>\n",
       "      <td>5</td>\n",
       "      <td>0</td>\n",
       "      <td>2006.0</td>\n",
       "      <td>2</td>\n",
       "      <td>625</td>\n",
       "      <td>0</td>\n",
       "      <td>54</td>\n",
       "      <td>0</td>\n",
       "      <td>0</td>\n",
       "      <td>0</td>\n",
       "      <td>0</td>\n",
       "      <td>0</td>\n",
       "      <td>3</td>\n",
       "      <td>2008</td>\n",
       "      <td>12.054668</td>\n",
       "    </tr>\n",
       "    <tr>\n",
       "      <th>1313</th>\n",
       "      <td>RL</td>\n",
       "      <td>Pave</td>\n",
       "      <td>#na#</td>\n",
       "      <td>IR1</td>\n",
       "      <td>Lvl</td>\n",
       "      <td>AllPub</td>\n",
       "      <td>Corner</td>\n",
       "      <td>Gtl</td>\n",
       "      <td>NoRidge</td>\n",
       "      <td>Norm</td>\n",
       "      <td>Norm</td>\n",
       "      <td>1Fam</td>\n",
       "      <td>2Story</td>\n",
       "      <td>Gable</td>\n",
       "      <td>CompShg</td>\n",
       "      <td>VinylSd</td>\n",
       "      <td>VinylSd</td>\n",
       "      <td>BrkFace</td>\n",
       "      <td>Gd</td>\n",
       "      <td>TA</td>\n",
       "      <td>PConc</td>\n",
       "      <td>Gd</td>\n",
       "      <td>TA</td>\n",
       "      <td>No</td>\n",
       "      <td>Unf</td>\n",
       "      <td>Unf</td>\n",
       "      <td>GasA</td>\n",
       "      <td>Ex</td>\n",
       "      <td>Y</td>\n",
       "      <td>SBrkr</td>\n",
       "      <td>Gd</td>\n",
       "      <td>Typ</td>\n",
       "      <td>TA</td>\n",
       "      <td>BuiltIn</td>\n",
       "      <td>Fin</td>\n",
       "      <td>TA</td>\n",
       "      <td>TA</td>\n",
       "      <td>Y</td>\n",
       "      <td>#na#</td>\n",
       "      <td>#na#</td>\n",
       "      <td>#na#</td>\n",
       "      <td>WD</td>\n",
       "      <td>Normal</td>\n",
       "      <td>False</td>\n",
       "      <td>False</td>\n",
       "      <td>False</td>\n",
       "      <td>1314</td>\n",
       "      <td>60</td>\n",
       "      <td>108.0</td>\n",
       "      <td>14774</td>\n",
       "      <td>9</td>\n",
       "      <td>5</td>\n",
       "      <td>1999</td>\n",
       "      <td>1999</td>\n",
       "      <td>165.0</td>\n",
       "      <td>0</td>\n",
       "      <td>0</td>\n",
       "      <td>1393</td>\n",
       "      <td>1393</td>\n",
       "      <td>1422</td>\n",
       "      <td>1177</td>\n",
       "      <td>0</td>\n",
       "      <td>2599</td>\n",
       "      <td>0</td>\n",
       "      <td>0</td>\n",
       "      <td>2</td>\n",
       "      <td>1</td>\n",
       "      <td>4</td>\n",
       "      <td>1</td>\n",
       "      <td>10</td>\n",
       "      <td>1</td>\n",
       "      <td>1999.0</td>\n",
       "      <td>3</td>\n",
       "      <td>779</td>\n",
       "      <td>668</td>\n",
       "      <td>30</td>\n",
       "      <td>0</td>\n",
       "      <td>0</td>\n",
       "      <td>0</td>\n",
       "      <td>0</td>\n",
       "      <td>0</td>\n",
       "      <td>5</td>\n",
       "      <td>2010</td>\n",
       "      <td>12.716402</td>\n",
       "    </tr>\n",
       "    <tr>\n",
       "      <th>1327</th>\n",
       "      <td>RL</td>\n",
       "      <td>Pave</td>\n",
       "      <td>#na#</td>\n",
       "      <td>Reg</td>\n",
       "      <td>Lvl</td>\n",
       "      <td>AllPub</td>\n",
       "      <td>Inside</td>\n",
       "      <td>Gtl</td>\n",
       "      <td>Mitchel</td>\n",
       "      <td>Norm</td>\n",
       "      <td>Norm</td>\n",
       "      <td>1Fam</td>\n",
       "      <td>1Story</td>\n",
       "      <td>Gable</td>\n",
       "      <td>CompShg</td>\n",
       "      <td>VinylSd</td>\n",
       "      <td>VinylSd</td>\n",
       "      <td>None</td>\n",
       "      <td>Gd</td>\n",
       "      <td>Gd</td>\n",
       "      <td>CBlock</td>\n",
       "      <td>TA</td>\n",
       "      <td>TA</td>\n",
       "      <td>No</td>\n",
       "      <td>ALQ</td>\n",
       "      <td>Unf</td>\n",
       "      <td>GasA</td>\n",
       "      <td>Ex</td>\n",
       "      <td>Y</td>\n",
       "      <td>SBrkr</td>\n",
       "      <td>Gd</td>\n",
       "      <td>Typ</td>\n",
       "      <td>Ex</td>\n",
       "      <td>Attchd</td>\n",
       "      <td>Unf</td>\n",
       "      <td>TA</td>\n",
       "      <td>TA</td>\n",
       "      <td>Y</td>\n",
       "      <td>#na#</td>\n",
       "      <td>MnPrv</td>\n",
       "      <td>#na#</td>\n",
       "      <td>WD</td>\n",
       "      <td>Normal</td>\n",
       "      <td>False</td>\n",
       "      <td>False</td>\n",
       "      <td>False</td>\n",
       "      <td>1328</td>\n",
       "      <td>20</td>\n",
       "      <td>60.0</td>\n",
       "      <td>6600</td>\n",
       "      <td>5</td>\n",
       "      <td>9</td>\n",
       "      <td>1982</td>\n",
       "      <td>2008</td>\n",
       "      <td>0.0</td>\n",
       "      <td>641</td>\n",
       "      <td>0</td>\n",
       "      <td>175</td>\n",
       "      <td>816</td>\n",
       "      <td>816</td>\n",
       "      <td>0</td>\n",
       "      <td>0</td>\n",
       "      <td>816</td>\n",
       "      <td>0</td>\n",
       "      <td>1</td>\n",
       "      <td>1</td>\n",
       "      <td>0</td>\n",
       "      <td>3</td>\n",
       "      <td>1</td>\n",
       "      <td>5</td>\n",
       "      <td>1</td>\n",
       "      <td>1982.0</td>\n",
       "      <td>1</td>\n",
       "      <td>264</td>\n",
       "      <td>0</td>\n",
       "      <td>0</td>\n",
       "      <td>0</td>\n",
       "      <td>0</td>\n",
       "      <td>0</td>\n",
       "      <td>0</td>\n",
       "      <td>0</td>\n",
       "      <td>10</td>\n",
       "      <td>2008</td>\n",
       "      <td>11.779128</td>\n",
       "    </tr>\n",
       "  </tbody>\n",
       "</table>"
      ],
      "text/plain": [
       "<IPython.core.display.HTML object>"
      ]
     },
     "metadata": {},
     "output_type": "display_data"
    }
   ],
   "source": [
    "database.show(3)"
   ]
  },
  {
   "cell_type": "markdown",
   "metadata": {},
   "source": [
    "when using show() tha data locks original with strings.\n",
    "\n",
    "but actually with items, can see the transform to integers"
   ]
  },
  {
   "cell_type": "code",
   "execution_count": 22,
   "metadata": {},
   "outputs": [
    {
     "data": {
      "text/html": [
       "<div>\n",
       "<style scoped>\n",
       "    .dataframe tbody tr th:only-of-type {\n",
       "        vertical-align: middle;\n",
       "    }\n",
       "\n",
       "    .dataframe tbody tr th {\n",
       "        vertical-align: top;\n",
       "    }\n",
       "\n",
       "    .dataframe thead th {\n",
       "        text-align: right;\n",
       "    }\n",
       "</style>\n",
       "<table border=\"1\" class=\"dataframe\">\n",
       "  <thead>\n",
       "    <tr style=\"text-align: right;\">\n",
       "      <th></th>\n",
       "      <th>Id</th>\n",
       "      <th>MSSubClass</th>\n",
       "      <th>MSZoning</th>\n",
       "      <th>LotFrontage</th>\n",
       "      <th>...</th>\n",
       "      <th>SalePrice</th>\n",
       "      <th>LotFrontage_na</th>\n",
       "      <th>MasVnrArea_na</th>\n",
       "      <th>GarageYrBlt_na</th>\n",
       "    </tr>\n",
       "  </thead>\n",
       "  <tbody>\n",
       "    <tr>\n",
       "      <th>1172</th>\n",
       "      <td>1173</td>\n",
       "      <td>160</td>\n",
       "      <td>2</td>\n",
       "      <td>35.0</td>\n",
       "      <td>...</td>\n",
       "      <td>12.054668</td>\n",
       "      <td>1</td>\n",
       "      <td>1</td>\n",
       "      <td>1</td>\n",
       "    </tr>\n",
       "    <tr>\n",
       "      <th>1313</th>\n",
       "      <td>1314</td>\n",
       "      <td>60</td>\n",
       "      <td>4</td>\n",
       "      <td>108.0</td>\n",
       "      <td>...</td>\n",
       "      <td>12.716402</td>\n",
       "      <td>1</td>\n",
       "      <td>1</td>\n",
       "      <td>1</td>\n",
       "    </tr>\n",
       "    <tr>\n",
       "      <th>1327</th>\n",
       "      <td>1328</td>\n",
       "      <td>20</td>\n",
       "      <td>4</td>\n",
       "      <td>60.0</td>\n",
       "      <td>...</td>\n",
       "      <td>11.779128</td>\n",
       "      <td>1</td>\n",
       "      <td>1</td>\n",
       "      <td>1</td>\n",
       "    </tr>\n",
       "  </tbody>\n",
       "</table>\n",
       "<p>3 rows × 84 columns</p>\n",
       "</div>"
      ],
      "text/plain": [
       "        Id  MSSubClass  MSZoning  LotFrontage  ...  SalePrice  LotFrontage_na  \\\n",
       "1172  1173         160         2         35.0  ...  12.054668               1   \n",
       "1313  1314          60         4        108.0  ...  12.716402               1   \n",
       "1327  1328          20         4         60.0  ...  11.779128               1   \n",
       "\n",
       "      MasVnrArea_na  GarageYrBlt_na  \n",
       "1172              1               1  \n",
       "1313              1               1  \n",
       "1327              1               1  \n",
       "\n",
       "[3 rows x 84 columns]"
      ]
     },
     "execution_count": 22,
     "metadata": {},
     "output_type": "execute_result"
    }
   ],
   "source": [
    "database.items.head(3)"
   ]
  },
  {
   "cell_type": "code",
   "execution_count": 23,
   "metadata": {},
   "outputs": [],
   "source": [
    "xs = database.train.xs\n",
    "y = database.train.y\n",
    "valid_xs = database.valid.xs\n",
    "valid_y = database.valid.y"
   ]
  },
  {
   "cell_type": "markdown",
   "metadata": {},
   "source": [
    "## Naive approach\n",
    "\n",
    "predict the mean house price"
   ]
  },
  {
   "cell_type": "code",
   "execution_count": 24,
   "metadata": {},
   "outputs": [
    {
     "data": {
      "text/plain": [
       "12.013202"
      ]
     },
     "execution_count": 24,
     "metadata": {},
     "output_type": "execute_result"
    }
   ],
   "source": [
    "y.mean()"
   ]
  },
  {
   "cell_type": "code",
   "execution_count": 25,
   "metadata": {},
   "outputs": [],
   "source": [
    "def r_mse(pred,y): return round(math.sqrt(((pred-y)**2).mean()), 6)\n",
    "def m_rmse(m, xs, y): return r_mse(m.predict(xs), y)"
   ]
  },
  {
   "cell_type": "code",
   "execution_count": 26,
   "metadata": {},
   "outputs": [
    {
     "data": {
      "text/plain": [
       "0.400664"
      ]
     },
     "execution_count": 26,
     "metadata": {},
     "output_type": "execute_result"
    }
   ],
   "source": [
    "r_mse(y.mean(),y)"
   ]
  },
  {
   "cell_type": "markdown",
   "metadata": {},
   "source": [
    "## Decision Trees"
   ]
  },
  {
   "cell_type": "code",
   "execution_count": 27,
   "metadata": {},
   "outputs": [
    {
     "data": {
      "text/plain": [
       "DecisionTreeRegressor(max_leaf_nodes=4)"
      ]
     },
     "execution_count": 27,
     "metadata": {},
     "output_type": "execute_result"
    }
   ],
   "source": [
    "m = DecisionTreeRegressor(max_leaf_nodes=4)\n",
    "m.fit(xs,y)"
   ]
  },
  {
   "cell_type": "code",
   "execution_count": 28,
   "metadata": {},
   "outputs": [
    {
     "data": {
      "image/svg+xml": [
       "<?xml version=\"1.0\" encoding=\"UTF-8\" standalone=\"no\"?>\n",
       "<!DOCTYPE svg PUBLIC \"-//W3C//DTD SVG 1.1//EN\"\n",
       " \"http://www.w3.org/Graphics/SVG/1.1/DTD/svg11.dtd\">\n",
       "<!-- Generated by graphviz version 2.42.3 (20191010.1750)\n",
       " -->\n",
       "<!-- Title: Tree Pages: 1 -->\n",
       "<svg width=\"580pt\" height=\"352pt\"\n",
       " viewBox=\"0.00 0.00 580.00 351.84\" xmlns=\"http://www.w3.org/2000/svg\" xmlns:xlink=\"http://www.w3.org/1999/xlink\">\n",
       "<g id=\"graph0\" class=\"graph\" transform=\"scale(1 1) rotate(0) translate(4 347.84)\">\n",
       "<title>Tree</title>\n",
       "<polygon fill=\"white\" stroke=\"transparent\" points=\"-4,4 -4,-347.84 576,-347.84 576,4 -4,4\"/>\n",
       "<!-- 0 -->\n",
       "<g id=\"node1\" class=\"node\">\n",
       "<title>0</title>\n",
       "<path fill=\"#f6d2b9\" stroke=\"black\" d=\"M345.5,-334C345.5,-334 225.5,-334 225.5,-334 219.5,-334 213.5,-328 213.5,-322 213.5,-322 213.5,-278 213.5,-278 213.5,-272 219.5,-266 225.5,-266 225.5,-266 345.5,-266 345.5,-266 351.5,-266 357.5,-272 357.5,-278 357.5,-278 357.5,-322 357.5,-322 357.5,-328 351.5,-334 345.5,-334\"/>\n",
       "<text text-anchor=\"start\" x=\"221.5\" y=\"-318.8\" font-family=\"Helvetica,sans-Serif\" font-size=\"14.00\">OverallQual ≤ 6.5</text>\n",
       "<text text-anchor=\"start\" x=\"243.5\" y=\"-303.8\" font-family=\"Helvetica,sans-Serif\" font-size=\"14.00\">mse = 0.16</text>\n",
       "<text text-anchor=\"start\" x=\"226.5\" y=\"-288.8\" font-family=\"Helvetica,sans-Serif\" font-size=\"14.00\">samples = 1168</text>\n",
       "<text text-anchor=\"start\" x=\"235\" y=\"-273.8\" font-family=\"Helvetica,sans-Serif\" font-size=\"14.00\">value = 12.01</text>\n",
       "</g>\n",
       "<!-- 1 -->\n",
       "<g id=\"node2\" class=\"node\">\n",
       "<title>1</title>\n",
       "<path fill=\"#fbede3\" stroke=\"black\" d=\"M262.5,-201C262.5,-201 128.5,-201 128.5,-201 122.5,-201 116.5,-195 116.5,-189 116.5,-189 116.5,-145 116.5,-145 116.5,-139 122.5,-133 128.5,-133 128.5,-133 262.5,-133 262.5,-133 268.5,-133 274.5,-139 274.5,-145 274.5,-145 274.5,-189 274.5,-189 274.5,-195 268.5,-201 262.5,-201\"/>\n",
       "<text text-anchor=\"start\" x=\"124.5\" y=\"-185.8\" font-family=\"Helvetica,sans-Serif\" font-size=\"14.00\">GrLivArea ≤ 1250.5</text>\n",
       "<text text-anchor=\"start\" x=\"153.5\" y=\"-170.8\" font-family=\"Helvetica,sans-Serif\" font-size=\"14.00\">mse = 0.08</text>\n",
       "<text text-anchor=\"start\" x=\"141\" y=\"-155.8\" font-family=\"Helvetica,sans-Serif\" font-size=\"14.00\">samples = 744</text>\n",
       "<text text-anchor=\"start\" x=\"145\" y=\"-140.8\" font-family=\"Helvetica,sans-Serif\" font-size=\"14.00\">value = 11.81</text>\n",
       "</g>\n",
       "<!-- 0&#45;&gt;1 -->\n",
       "<g id=\"edge1\" class=\"edge\">\n",
       "<title>0&#45;&gt;1</title>\n",
       "<path fill=\"none\" stroke=\"black\" d=\"M262.79,-265.94C251.06,-248.88 236.64,-227.88 224.16,-209.71\"/>\n",
       "<polygon fill=\"black\" stroke=\"black\" points=\"226.75,-207.31 218.2,-201.05 220.98,-211.27 226.75,-207.31\"/>\n",
       "<text text-anchor=\"middle\" x=\"213.64\" y=\"-221.93\" font-family=\"Helvetica,sans-Serif\" font-size=\"14.00\">True</text>\n",
       "</g>\n",
       "<!-- 2 -->\n",
       "<g id=\"node5\" class=\"node\">\n",
       "<title>2</title>\n",
       "<path fill=\"#eca36f\" stroke=\"black\" d=\"M446,-201C446,-201 305,-201 305,-201 299,-201 293,-195 293,-189 293,-189 293,-145 293,-145 293,-139 299,-133 305,-133 305,-133 446,-133 446,-133 452,-133 458,-139 458,-145 458,-145 458,-189 458,-189 458,-195 452,-201 446,-201\"/>\n",
       "<text text-anchor=\"start\" x=\"301\" y=\"-185.8\" font-family=\"Helvetica,sans-Serif\" font-size=\"14.00\">GarageArea ≤ 664.0</text>\n",
       "<text text-anchor=\"start\" x=\"333.5\" y=\"-170.8\" font-family=\"Helvetica,sans-Serif\" font-size=\"14.00\">mse = 0.09</text>\n",
       "<text text-anchor=\"start\" x=\"321\" y=\"-155.8\" font-family=\"Helvetica,sans-Serif\" font-size=\"14.00\">samples = 424</text>\n",
       "<text text-anchor=\"start\" x=\"325\" y=\"-140.8\" font-family=\"Helvetica,sans-Serif\" font-size=\"14.00\">value = 12.37</text>\n",
       "</g>\n",
       "<!-- 0&#45;&gt;2 -->\n",
       "<g id=\"edge4\" class=\"edge\">\n",
       "<title>0&#45;&gt;2</title>\n",
       "<path fill=\"none\" stroke=\"black\" d=\"M308.21,-265.94C319.94,-248.88 334.36,-227.88 346.84,-209.71\"/>\n",
       "<polygon fill=\"black\" stroke=\"black\" points=\"350.02,-211.27 352.8,-201.05 344.25,-207.31 350.02,-211.27\"/>\n",
       "<text text-anchor=\"middle\" x=\"357.36\" y=\"-221.93\" font-family=\"Helvetica,sans-Serif\" font-size=\"14.00\">False</text>\n",
       "</g>\n",
       "<!-- 3 -->\n",
       "<g id=\"node3\" class=\"node\">\n",
       "<title>3</title>\n",
       "<path fill=\"#ffffff\" stroke=\"black\" d=\"M113,-60.5C113,-60.5 12,-60.5 12,-60.5 6,-60.5 0,-54.5 0,-48.5 0,-48.5 0,-19.5 0,-19.5 0,-13.5 6,-7.5 12,-7.5 12,-7.5 113,-7.5 113,-7.5 119,-7.5 125,-13.5 125,-19.5 125,-19.5 125,-48.5 125,-48.5 125,-54.5 119,-60.5 113,-60.5\"/>\n",
       "<text text-anchor=\"start\" x=\"20.5\" y=\"-45.3\" font-family=\"Helvetica,sans-Serif\" font-size=\"14.00\">mse = 0.07</text>\n",
       "<text text-anchor=\"start\" x=\"8\" y=\"-30.3\" font-family=\"Helvetica,sans-Serif\" font-size=\"14.00\">samples = 379</text>\n",
       "<text text-anchor=\"start\" x=\"12\" y=\"-15.3\" font-family=\"Helvetica,sans-Serif\" font-size=\"14.00\">value = 11.67</text>\n",
       "</g>\n",
       "<!-- 1&#45;&gt;3 -->\n",
       "<g id=\"edge2\" class=\"edge\">\n",
       "<title>1&#45;&gt;3</title>\n",
       "<path fill=\"none\" stroke=\"black\" d=\"M161.94,-132.94C141.65,-112.96 115.89,-87.59 95.68,-67.68\"/>\n",
       "<polygon fill=\"black\" stroke=\"black\" points=\"98.08,-65.13 88.5,-60.61 93.17,-70.12 98.08,-65.13\"/>\n",
       "</g>\n",
       "<!-- 4 -->\n",
       "<g id=\"node4\" class=\"node\">\n",
       "<title>4</title>\n",
       "<path fill=\"#f8dbc6\" stroke=\"black\" d=\"M256,-60.5C256,-60.5 155,-60.5 155,-60.5 149,-60.5 143,-54.5 143,-48.5 143,-48.5 143,-19.5 143,-19.5 143,-13.5 149,-7.5 155,-7.5 155,-7.5 256,-7.5 256,-7.5 262,-7.5 268,-13.5 268,-19.5 268,-19.5 268,-48.5 268,-48.5 268,-54.5 262,-60.5 256,-60.5\"/>\n",
       "<text text-anchor=\"start\" x=\"163.5\" y=\"-45.3\" font-family=\"Helvetica,sans-Serif\" font-size=\"14.00\">mse = 0.06</text>\n",
       "<text text-anchor=\"start\" x=\"151\" y=\"-30.3\" font-family=\"Helvetica,sans-Serif\" font-size=\"14.00\">samples = 365</text>\n",
       "<text text-anchor=\"start\" x=\"155\" y=\"-15.3\" font-family=\"Helvetica,sans-Serif\" font-size=\"14.00\">value = 11.95</text>\n",
       "</g>\n",
       "<!-- 1&#45;&gt;4 -->\n",
       "<g id=\"edge3\" class=\"edge\">\n",
       "<title>1&#45;&gt;4</title>\n",
       "<path fill=\"none\" stroke=\"black\" d=\"M198.02,-132.94C199.48,-113.93 201.3,-90.03 202.78,-70.6\"/>\n",
       "<polygon fill=\"black\" stroke=\"black\" points=\"206.27,-70.85 203.55,-60.61 199.29,-70.31 206.27,-70.85\"/>\n",
       "</g>\n",
       "<!-- 5 -->\n",
       "<g id=\"node6\" class=\"node\">\n",
       "<title>5</title>\n",
       "<path fill=\"#efb489\" stroke=\"black\" d=\"M417,-60.5C417,-60.5 316,-60.5 316,-60.5 310,-60.5 304,-54.5 304,-48.5 304,-48.5 304,-19.5 304,-19.5 304,-13.5 310,-7.5 316,-7.5 316,-7.5 417,-7.5 417,-7.5 423,-7.5 429,-13.5 429,-19.5 429,-19.5 429,-48.5 429,-48.5 429,-54.5 423,-60.5 417,-60.5\"/>\n",
       "<text text-anchor=\"start\" x=\"324.5\" y=\"-45.3\" font-family=\"Helvetica,sans-Serif\" font-size=\"14.00\">mse = 0.06</text>\n",
       "<text text-anchor=\"start\" x=\"312\" y=\"-30.3\" font-family=\"Helvetica,sans-Serif\" font-size=\"14.00\">samples = 286</text>\n",
       "<text text-anchor=\"start\" x=\"316\" y=\"-15.3\" font-family=\"Helvetica,sans-Serif\" font-size=\"14.00\">value = 12.25</text>\n",
       "</g>\n",
       "<!-- 2&#45;&gt;5 -->\n",
       "<g id=\"edge5\" class=\"edge\">\n",
       "<title>2&#45;&gt;5</title>\n",
       "<path fill=\"none\" stroke=\"black\" d=\"M373.23,-132.94C371.92,-113.93 370.28,-90.03 368.95,-70.6\"/>\n",
       "<polygon fill=\"black\" stroke=\"black\" points=\"372.44,-70.34 368.26,-60.61 365.45,-70.82 372.44,-70.34\"/>\n",
       "</g>\n",
       "<!-- 6 -->\n",
       "<g id=\"node7\" class=\"node\">\n",
       "<title>6</title>\n",
       "<path fill=\"#e58139\" stroke=\"black\" d=\"M560,-60.5C560,-60.5 459,-60.5 459,-60.5 453,-60.5 447,-54.5 447,-48.5 447,-48.5 447,-19.5 447,-19.5 447,-13.5 453,-7.5 459,-7.5 459,-7.5 560,-7.5 560,-7.5 566,-7.5 572,-13.5 572,-19.5 572,-19.5 572,-48.5 572,-48.5 572,-54.5 566,-60.5 560,-60.5\"/>\n",
       "<text text-anchor=\"start\" x=\"467.5\" y=\"-45.3\" font-family=\"Helvetica,sans-Serif\" font-size=\"14.00\">mse = 0.07</text>\n",
       "<text text-anchor=\"start\" x=\"455\" y=\"-30.3\" font-family=\"Helvetica,sans-Serif\" font-size=\"14.00\">samples = 138</text>\n",
       "<text text-anchor=\"start\" x=\"459\" y=\"-15.3\" font-family=\"Helvetica,sans-Serif\" font-size=\"14.00\">value = 12.63</text>\n",
       "</g>\n",
       "<!-- 2&#45;&gt;6 -->\n",
       "<g id=\"edge6\" class=\"edge\">\n",
       "<title>2&#45;&gt;6</title>\n",
       "<path fill=\"none\" stroke=\"black\" d=\"M409.31,-132.94C429.75,-112.96 455.71,-87.59 476.07,-67.68\"/>\n",
       "<polygon fill=\"black\" stroke=\"black\" points=\"478.6,-70.1 483.31,-60.61 473.71,-65.1 478.6,-70.1\"/>\n",
       "</g>\n",
       "</g>\n",
       "</svg>\n"
      ],
      "text/plain": [
       "<graphviz.files.Source at 0x7f1bd627c970>"
      ]
     },
     "execution_count": 28,
     "metadata": {},
     "output_type": "execute_result"
    }
   ],
   "source": [
    "draw_tree(m,xs,size=10, leaves_parallel=True, precision=2)"
   ]
  },
  {
   "cell_type": "code",
   "execution_count": 29,
   "metadata": {},
   "outputs": [
    {
     "name": "stdout",
     "output_type": "stream",
     "text": [
      "min_samples_leaf 1, n_leaves 1117, rmse train: 0.0, rmse validation: 0.189638\n",
      "min_samples_leaf 2, n_leaves 514, rmse train: 0.044098, rmse validation: 0.195136\n",
      "min_samples_leaf 3, n_leaves 323, rmse train: 0.066769, rmse validation: 0.18879\n",
      "min_samples_leaf 4, n_leaves 235, rmse train: 0.085262, rmse validation: 0.192398\n",
      "min_samples_leaf 5, n_leaves 192, rmse train: 0.097154, rmse validation: 0.200287\n",
      "min_samples_leaf 6, n_leaves 155, rmse train: 0.10824, rmse validation: 0.194179\n",
      "min_samples_leaf 7, n_leaves 133, rmse train: 0.114819, rmse validation: 0.18335\n",
      "min_samples_leaf 8, n_leaves 115, rmse train: 0.120069, rmse validation: 0.189397\n",
      "min_samples_leaf 9, n_leaves 104, rmse train: 0.127596, rmse validation: 0.18868\n",
      "min_samples_leaf 10, n_leaves 93, rmse train: 0.133169, rmse validation: 0.176017\n",
      "min_samples_leaf 11, n_leaves 84, rmse train: 0.135395, rmse validation: 0.177464\n",
      "min_samples_leaf 12, n_leaves 75, rmse train: 0.141313, rmse validation: 0.179819\n",
      "min_samples_leaf 13, n_leaves 68, rmse train: 0.144265, rmse validation: 0.179951\n",
      "min_samples_leaf 14, n_leaves 65, rmse train: 0.146536, rmse validation: 0.178783\n"
     ]
    }
   ],
   "source": [
    "for i in range(1,15):\n",
    "    m = DecisionTreeRegressor(min_samples_leaf=i)\n",
    "    m.fit(xs, y)\n",
    "    print(f\"min_samples_leaf {i}, n_leaves {m.get_n_leaves()}, rmse train: {m_rmse(m, xs, y)}, rmse validation: {m_rmse(m, valid_xs, valid_y)}\")"
   ]
  },
  {
   "cell_type": "markdown",
   "metadata": {},
   "source": [
    "The best decision tree gets the score: 0.176. great improvment from 0.4"
   ]
  },
  {
   "cell_type": "markdown",
   "metadata": {},
   "source": [
    "## Random Forest"
   ]
  },
  {
   "cell_type": "code",
   "execution_count": 30,
   "metadata": {},
   "outputs": [],
   "source": [
    "def rf(xs, y, n_estimators=50, max_samples=650, max_features=0.5, min_samples_leaf=7, **kwargs):\n",
    "    return RandomForestRegressor(n_jobs=-1, n_estimators=n_estimators,\n",
    "        max_samples=max_samples, max_features=max_features,\n",
    "        min_samples_leaf=min_samples_leaf, oob_score=True).fit(xs, y)"
   ]
  },
  {
   "cell_type": "code",
   "execution_count": 31,
   "metadata": {},
   "outputs": [
    {
     "data": {
      "text/plain": [
       "(0.125048, 0.1358)"
      ]
     },
     "execution_count": 31,
     "metadata": {},
     "output_type": "execute_result"
    }
   ],
   "source": [
    "m = rf(xs, y)\n",
    "m_rmse(m, xs, y), m_rmse(m, valid_xs, valid_y)"
   ]
  },
  {
   "cell_type": "markdown",
   "metadata": {},
   "source": [
    "Another improvment with random forest our score is 0.1358"
   ]
  },
  {
   "cell_type": "markdown",
   "metadata": {},
   "source": [
    "## Feature Importence\n",
    "\n",
    "which Features are most importent for the prediction"
   ]
  },
  {
   "cell_type": "code",
   "execution_count": 32,
   "metadata": {},
   "outputs": [],
   "source": [
    "def rf_feat_importance(m, df):\n",
    "    return pd.DataFrame({'cols':df.columns, 'imp':m.feature_importances_}\n",
    "                       ).sort_values('imp', ascending=False)"
   ]
  },
  {
   "cell_type": "code",
   "execution_count": 33,
   "metadata": {},
   "outputs": [
    {
     "data": {
      "text/html": [
       "<div>\n",
       "<style scoped>\n",
       "    .dataframe tbody tr th:only-of-type {\n",
       "        vertical-align: middle;\n",
       "    }\n",
       "\n",
       "    .dataframe tbody tr th {\n",
       "        vertical-align: top;\n",
       "    }\n",
       "\n",
       "    .dataframe thead th {\n",
       "        text-align: right;\n",
       "    }\n",
       "</style>\n",
       "<table border=\"1\" class=\"dataframe\">\n",
       "  <thead>\n",
       "    <tr style=\"text-align: right;\">\n",
       "      <th></th>\n",
       "      <th>cols</th>\n",
       "      <th>imp</th>\n",
       "    </tr>\n",
       "  </thead>\n",
       "  <tbody>\n",
       "    <tr>\n",
       "      <th>50</th>\n",
       "      <td>OverallQual</td>\n",
       "      <td>0.326973</td>\n",
       "    </tr>\n",
       "    <tr>\n",
       "      <th>62</th>\n",
       "      <td>GrLivArea</td>\n",
       "      <td>0.154966</td>\n",
       "    </tr>\n",
       "    <tr>\n",
       "      <th>72</th>\n",
       "      <td>GarageCars</td>\n",
       "      <td>0.076246</td>\n",
       "    </tr>\n",
       "    <tr>\n",
       "      <th>18</th>\n",
       "      <td>ExterQual</td>\n",
       "      <td>0.069261</td>\n",
       "    </tr>\n",
       "    <tr>\n",
       "      <th>58</th>\n",
       "      <td>TotalBsmtSF</td>\n",
       "      <td>0.048693</td>\n",
       "    </tr>\n",
       "    <tr>\n",
       "      <th>52</th>\n",
       "      <td>YearBuilt</td>\n",
       "      <td>0.046786</td>\n",
       "    </tr>\n",
       "    <tr>\n",
       "      <th>73</th>\n",
       "      <td>GarageArea</td>\n",
       "      <td>0.043116</td>\n",
       "    </tr>\n",
       "    <tr>\n",
       "      <th>59</th>\n",
       "      <td>1stFlrSF</td>\n",
       "      <td>0.026942</td>\n",
       "    </tr>\n",
       "    <tr>\n",
       "      <th>30</th>\n",
       "      <td>KitchenQual</td>\n",
       "      <td>0.022420</td>\n",
       "    </tr>\n",
       "    <tr>\n",
       "      <th>55</th>\n",
       "      <td>BsmtFinSF1</td>\n",
       "      <td>0.022401</td>\n",
       "    </tr>\n",
       "    <tr>\n",
       "      <th>65</th>\n",
       "      <td>FullBath</td>\n",
       "      <td>0.020585</td>\n",
       "    </tr>\n",
       "    <tr>\n",
       "      <th>49</th>\n",
       "      <td>LotArea</td>\n",
       "      <td>0.015159</td>\n",
       "    </tr>\n",
       "    <tr>\n",
       "      <th>32</th>\n",
       "      <td>FireplaceQu</td>\n",
       "      <td>0.012708</td>\n",
       "    </tr>\n",
       "    <tr>\n",
       "      <th>53</th>\n",
       "      <td>YearRemodAdd</td>\n",
       "      <td>0.010378</td>\n",
       "    </tr>\n",
       "    <tr>\n",
       "      <th>28</th>\n",
       "      <td>CentralAir</td>\n",
       "      <td>0.009953</td>\n",
       "    </tr>\n",
       "  </tbody>\n",
       "</table>\n",
       "</div>"
      ],
      "text/plain": [
       "            cols       imp\n",
       "50   OverallQual  0.326973\n",
       "62     GrLivArea  0.154966\n",
       "72    GarageCars  0.076246\n",
       "18     ExterQual  0.069261\n",
       "58   TotalBsmtSF  0.048693\n",
       "52     YearBuilt  0.046786\n",
       "73    GarageArea  0.043116\n",
       "59      1stFlrSF  0.026942\n",
       "30   KitchenQual  0.022420\n",
       "55    BsmtFinSF1  0.022401\n",
       "65      FullBath  0.020585\n",
       "49       LotArea  0.015159\n",
       "32   FireplaceQu  0.012708\n",
       "53  YearRemodAdd  0.010378\n",
       "28    CentralAir  0.009953"
      ]
     },
     "execution_count": 33,
     "metadata": {},
     "output_type": "execute_result"
    }
   ],
   "source": [
    "fi = rf_feat_importance(m, xs)\n",
    "fi[:15]"
   ]
  },
  {
   "cell_type": "code",
   "execution_count": 34,
   "metadata": {},
   "outputs": [
    {
     "data": {
      "image/png": "[encoded data removed]",
      "text/plain": [
       "<Figure size 864x504 with 1 Axes>"
      ]
     },
     "metadata": {
      "needs_background": "light"
     },
     "output_type": "display_data"
    }
   ],
   "source": [
    "def plot_fi(fi):\n",
    "    return fi.plot('cols', 'imp', 'barh', figsize=(12,7), legend=False)\n",
    "\n",
    "plot_fi(fi[:20]);"
   ]
  },
  {
   "cell_type": "markdown",
   "metadata": {},
   "source": [
    "The most important features are OverallQual (Rates the overall material and finish of the house) and GrLivArea (Above ground living area square feet).\n",
    "\n",
    "On the other hand it seems likely that we could use just a subset of the columns by removing the variables of low importance and still get good results."
   ]
  },
  {
   "cell_type": "code",
   "execution_count": 35,
   "metadata": {},
   "outputs": [
    {
     "data": {
      "text/plain": [
       "(20, 83)"
      ]
     },
     "execution_count": 35,
     "metadata": {},
     "output_type": "execute_result"
    }
   ],
   "source": [
    "to_keep = fi[fi.imp>0.005].cols\n",
    "len(to_keep), len(fi.cols)"
   ]
  },
  {
   "cell_type": "code",
   "execution_count": 36,
   "metadata": {},
   "outputs": [],
   "source": [
    "xs_imp = xs[to_keep]\n",
    "valid_xs_imp = valid_xs[to_keep]"
   ]
  },
  {
   "cell_type": "code",
   "execution_count": 37,
   "metadata": {},
   "outputs": [
    {
     "data": {
      "text/plain": [
       "(0.129939, 0.136647)"
      ]
     },
     "execution_count": 37,
     "metadata": {},
     "output_type": "execute_result"
    }
   ],
   "source": [
    "m = rf(xs_imp, y)\n",
    "m_rmse(m, xs_imp, y), m_rmse(m, valid_xs_imp, valid_y)"
   ]
  },
  {
   "cell_type": "markdown",
   "metadata": {},
   "source": [
    "with only 20 features insted of 83 we still get the same results, 0.136"
   ]
  },
  {
   "cell_type": "markdown",
   "metadata": {},
   "source": [
    "## Redundant Features"
   ]
  },
  {
   "cell_type": "code",
   "execution_count": 40,
   "metadata": {},
   "outputs": [
    {
     "data": {
      "image/png": "[encoded data removed]",
      "text/plain": [
       "<Figure size 720x432 with 1 Axes>"
      ]
     },
     "metadata": {
      "needs_background": "light"
     },
     "output_type": "display_data"
    }
   ],
   "source": [
    "cluster_columns(xs_imp)"
   ]
  },
  {
   "cell_type": "markdown",
   "metadata": {},
   "source": [
    "we acn see that some features are simmilar like GarageArea and GarageCars, and FireplaceQu and Fireplaces"
   ]
  },
  {
   "cell_type": "code",
   "execution_count": 41,
   "metadata": {},
   "outputs": [],
   "source": [
    "to_drop = ['Fireplaces','GarageArea']\n",
    "xs_final = xs_imp.drop(to_drop, axis=1)\n",
    "valid_xs_final = valid_xs_imp.drop(to_drop, axis=1)"
   ]
  },
  {
   "cell_type": "code",
   "execution_count": 42,
   "metadata": {},
   "outputs": [
    {
     "data": {
      "text/plain": [
       "(0.129483, 0.136339)"
      ]
     },
     "execution_count": 42,
     "metadata": {},
     "output_type": "execute_result"
    }
   ],
   "source": [
    "m = rf(xs_final, y)\n",
    "m_rmse(m, xs_final, y), m_rmse(m, valid_xs_final, valid_y)"
   ]
  },
  {
   "cell_type": "markdown",
   "metadata": {},
   "source": [
    "despite removing another 2 features the same result."
   ]
  },
  {
   "cell_type": "markdown",
   "metadata": {},
   "source": [
    "## Partial Dependence\n",
    "\n",
    "what is the relationship between the featurs and sale price"
   ]
  },
  {
   "cell_type": "code",
   "execution_count": 43,
   "metadata": {},
   "outputs": [
    {
     "data": {
      "image/png": "[encoded data removed]",
      "text/plain": [
       "<Figure size 864x288 with 4 Axes>"
      ]
     },
     "metadata": {
      "needs_background": "light"
     },
     "output_type": "display_data"
    }
   ],
   "source": [
    "from sklearn.inspection import plot_partial_dependence\n",
    "\n",
    "fig,ax = plt.subplots(figsize=(12, 4))\n",
    "plot_partial_dependence(m, valid_xs_final, ['OverallQual','GrLivArea','YearBuilt'],\n",
    "                        grid_resolution=20, ax=ax);"
   ]
  },
  {
   "cell_type": "markdown",
   "metadata": {},
   "source": [
    "as 'OverallQual' 'GrLivArea' 'YearBuilt' raise also the asle price go up"
   ]
  },
  {
   "cell_type": "markdown",
   "metadata": {},
   "source": [
    "## Tree Interpreter"
   ]
  },
  {
   "cell_type": "code",
   "execution_count": 44,
   "metadata": {},
   "outputs": [],
   "source": [
    "import warnings\n",
    "warnings.simplefilter('ignore', FutureWarning)\n",
    "\n",
    "from treeinterpreter import treeinterpreter\n",
    "from waterfall_chart import plot as waterfall"
   ]
  },
  {
   "cell_type": "code",
   "execution_count": 46,
   "metadata": {},
   "outputs": [
    {
     "data": {
      "text/html": [
       "<div>\n",
       "<style scoped>\n",
       "    .dataframe tbody tr th:only-of-type {\n",
       "        vertical-align: middle;\n",
       "    }\n",
       "\n",
       "    .dataframe tbody tr th {\n",
       "        vertical-align: top;\n",
       "    }\n",
       "\n",
       "    .dataframe thead th {\n",
       "        text-align: right;\n",
       "    }\n",
       "</style>\n",
       "<table border=\"1\" class=\"dataframe\">\n",
       "  <thead>\n",
       "    <tr style=\"text-align: right;\">\n",
       "      <th></th>\n",
       "      <th>OverallQual</th>\n",
       "      <th>GrLivArea</th>\n",
       "      <th>GarageCars</th>\n",
       "      <th>ExterQual</th>\n",
       "      <th>...</th>\n",
       "      <th>2ndFlrSF</th>\n",
       "      <th>OverallCond</th>\n",
       "      <th>TotRmsAbvGrd</th>\n",
       "      <th>GarageType</th>\n",
       "    </tr>\n",
       "  </thead>\n",
       "  <tbody>\n",
       "    <tr>\n",
       "      <th>782</th>\n",
       "      <td>7</td>\n",
       "      <td>1430</td>\n",
       "      <td>2</td>\n",
       "      <td>2</td>\n",
       "      <td>...</td>\n",
       "      <td>0</td>\n",
       "      <td>5</td>\n",
       "      <td>6</td>\n",
       "      <td>2</td>\n",
       "    </tr>\n",
       "    <tr>\n",
       "      <th>131</th>\n",
       "      <td>6</td>\n",
       "      <td>2054</td>\n",
       "      <td>2</td>\n",
       "      <td>2</td>\n",
       "      <td>...</td>\n",
       "      <td>1032</td>\n",
       "      <td>5</td>\n",
       "      <td>7</td>\n",
       "      <td>4</td>\n",
       "    </tr>\n",
       "    <tr>\n",
       "      <th>414</th>\n",
       "      <td>7</td>\n",
       "      <td>2097</td>\n",
       "      <td>3</td>\n",
       "      <td>2</td>\n",
       "      <td>...</td>\n",
       "      <td>1017</td>\n",
       "      <td>5</td>\n",
       "      <td>9</td>\n",
       "      <td>2</td>\n",
       "    </tr>\n",
       "    <tr>\n",
       "      <th>1350</th>\n",
       "      <td>5</td>\n",
       "      <td>2634</td>\n",
       "      <td>4</td>\n",
       "      <td>3</td>\n",
       "      <td>...</td>\n",
       "      <td>1296</td>\n",
       "      <td>5</td>\n",
       "      <td>12</td>\n",
       "      <td>6</td>\n",
       "    </tr>\n",
       "    <tr>\n",
       "      <th>190</th>\n",
       "      <td>8</td>\n",
       "      <td>2727</td>\n",
       "      <td>2</td>\n",
       "      <td>2</td>\n",
       "      <td>...</td>\n",
       "      <td>1178</td>\n",
       "      <td>8</td>\n",
       "      <td>10</td>\n",
       "      <td>6</td>\n",
       "    </tr>\n",
       "  </tbody>\n",
       "</table>\n",
       "<p>5 rows × 18 columns</p>\n",
       "</div>"
      ],
      "text/plain": [
       "      OverallQual  GrLivArea  GarageCars  ExterQual  ...  2ndFlrSF  \\\n",
       "782             7       1430           2          2  ...         0   \n",
       "131             6       2054           2          2  ...      1032   \n",
       "414             7       2097           3          2  ...      1017   \n",
       "1350            5       2634           4          3  ...      1296   \n",
       "190             8       2727           2          2  ...      1178   \n",
       "\n",
       "      OverallCond  TotRmsAbvGrd  GarageType  \n",
       "782             5             6           2  \n",
       "131             5             7           4  \n",
       "414             5             9           2  \n",
       "1350            5            12           6  \n",
       "190             8            10           6  \n",
       "\n",
       "[5 rows x 18 columns]"
      ]
     },
     "execution_count": 46,
     "metadata": {},
     "output_type": "execute_result"
    }
   ],
   "source": [
    "row = valid_xs_final.iloc[:5]\n",
    "row"
   ]
  },
  {
   "cell_type": "code",
   "execution_count": 47,
   "metadata": {},
   "outputs": [
    {
     "data": {
      "text/plain": [
       "(array([[12.24191579],\n",
       "        [12.28064003],\n",
       "        [12.47674616],\n",
       "        [11.9640022 ],\n",
       "        [12.51728804]]),\n",
       " array([ 0.15027619, -0.05054592, -0.02485576,  0.05843916,  0.03746193,  0.03655866,  0.00081262,  0.01200636, -0.01594164,  0.00502094,  0.02348671, -0.00377674,  0.00065367,  0.        ,\n",
       "        -0.00881323,  0.        , -0.00030748,  0.01226557]))"
      ]
     },
     "execution_count": 47,
     "metadata": {},
     "output_type": "execute_result"
    }
   ],
   "source": [
    "prediction,bias,contributions = treeinterpreter.predict(m, row.values)\n",
    "prediction, contributions[0]"
   ]
  },
  {
   "cell_type": "code",
   "execution_count": 49,
   "metadata": {},
   "outputs": [
    {
     "data": {
      "image/png": "[encoded data removed]",
      "text/plain": [
       "<Figure size 432x288 with 1 Axes>"
      ]
     },
     "metadata": {
      "needs_background": "light"
     },
     "output_type": "display_data"
    }
   ],
   "source": [
    "waterfall(valid_xs_final.columns, contributions[0],  threshold=0.08,\n",
    "          rotation_value=45,formatting='{:,.3f}');"
   ]
  },
  {
   "cell_type": "markdown",
   "metadata": {},
   "source": [
    "we focus on one line. the 0.000 is predicting the mean (12.01) as the price, but the 'OverallQual' raise the price to 12.01+0.15 and so on we can see how each feature influence the final prediction"
   ]
  },
  {
   "cell_type": "markdown",
   "metadata": {},
   "source": [
    "## Neural Network\n",
    "\n",
    "in a neural net we use embeddings to handle categorical variables"
   ]
  },
  {
   "cell_type": "code",
   "execution_count": 50,
   "metadata": {},
   "outputs": [
    {
     "data": {
      "text/html": [
       "<div>\n",
       "<style scoped>\n",
       "    .dataframe tbody tr th:only-of-type {\n",
       "        vertical-align: middle;\n",
       "    }\n",
       "\n",
       "    .dataframe tbody tr th {\n",
       "        vertical-align: top;\n",
       "    }\n",
       "\n",
       "    .dataframe thead th {\n",
       "        text-align: right;\n",
       "    }\n",
       "</style>\n",
       "<table border=\"1\" class=\"dataframe\">\n",
       "  <thead>\n",
       "    <tr style=\"text-align: right;\">\n",
       "      <th></th>\n",
       "      <th>Id</th>\n",
       "      <th>MSSubClass</th>\n",
       "      <th>MSZoning</th>\n",
       "      <th>LotFrontage</th>\n",
       "      <th>...</th>\n",
       "      <th>YrSold</th>\n",
       "      <th>SaleType</th>\n",
       "      <th>SaleCondition</th>\n",
       "      <th>SalePrice</th>\n",
       "    </tr>\n",
       "  </thead>\n",
       "  <tbody>\n",
       "    <tr>\n",
       "      <th>0</th>\n",
       "      <td>1</td>\n",
       "      <td>60</td>\n",
       "      <td>RL</td>\n",
       "      <td>65.0</td>\n",
       "      <td>...</td>\n",
       "      <td>2008</td>\n",
       "      <td>WD</td>\n",
       "      <td>Normal</td>\n",
       "      <td>12.247694</td>\n",
       "    </tr>\n",
       "    <tr>\n",
       "      <th>1</th>\n",
       "      <td>2</td>\n",
       "      <td>20</td>\n",
       "      <td>RL</td>\n",
       "      <td>80.0</td>\n",
       "      <td>...</td>\n",
       "      <td>2007</td>\n",
       "      <td>WD</td>\n",
       "      <td>Normal</td>\n",
       "      <td>12.109011</td>\n",
       "    </tr>\n",
       "    <tr>\n",
       "      <th>2</th>\n",
       "      <td>3</td>\n",
       "      <td>60</td>\n",
       "      <td>RL</td>\n",
       "      <td>68.0</td>\n",
       "      <td>...</td>\n",
       "      <td>2008</td>\n",
       "      <td>WD</td>\n",
       "      <td>Normal</td>\n",
       "      <td>12.317167</td>\n",
       "    </tr>\n",
       "    <tr>\n",
       "      <th>3</th>\n",
       "      <td>4</td>\n",
       "      <td>70</td>\n",
       "      <td>RL</td>\n",
       "      <td>60.0</td>\n",
       "      <td>...</td>\n",
       "      <td>2006</td>\n",
       "      <td>WD</td>\n",
       "      <td>Abnorml</td>\n",
       "      <td>11.849398</td>\n",
       "    </tr>\n",
       "    <tr>\n",
       "      <th>4</th>\n",
       "      <td>5</td>\n",
       "      <td>60</td>\n",
       "      <td>RL</td>\n",
       "      <td>84.0</td>\n",
       "      <td>...</td>\n",
       "      <td>2008</td>\n",
       "      <td>WD</td>\n",
       "      <td>Normal</td>\n",
       "      <td>12.429216</td>\n",
       "    </tr>\n",
       "    <tr>\n",
       "      <th>...</th>\n",
       "      <td>...</td>\n",
       "      <td>...</td>\n",
       "      <td>...</td>\n",
       "      <td>...</td>\n",
       "      <td>...</td>\n",
       "      <td>...</td>\n",
       "      <td>...</td>\n",
       "      <td>...</td>\n",
       "      <td>...</td>\n",
       "    </tr>\n",
       "    <tr>\n",
       "      <th>1455</th>\n",
       "      <td>1456</td>\n",
       "      <td>60</td>\n",
       "      <td>RL</td>\n",
       "      <td>62.0</td>\n",
       "      <td>...</td>\n",
       "      <td>2007</td>\n",
       "      <td>WD</td>\n",
       "      <td>Normal</td>\n",
       "      <td>12.072541</td>\n",
       "    </tr>\n",
       "    <tr>\n",
       "      <th>1456</th>\n",
       "      <td>1457</td>\n",
       "      <td>20</td>\n",
       "      <td>RL</td>\n",
       "      <td>85.0</td>\n",
       "      <td>...</td>\n",
       "      <td>2010</td>\n",
       "      <td>WD</td>\n",
       "      <td>Normal</td>\n",
       "      <td>12.254863</td>\n",
       "    </tr>\n",
       "    <tr>\n",
       "      <th>1457</th>\n",
       "      <td>1458</td>\n",
       "      <td>70</td>\n",
       "      <td>RL</td>\n",
       "      <td>66.0</td>\n",
       "      <td>...</td>\n",
       "      <td>2010</td>\n",
       "      <td>WD</td>\n",
       "      <td>Normal</td>\n",
       "      <td>12.493130</td>\n",
       "    </tr>\n",
       "    <tr>\n",
       "      <th>1458</th>\n",
       "      <td>1459</td>\n",
       "      <td>20</td>\n",
       "      <td>RL</td>\n",
       "      <td>68.0</td>\n",
       "      <td>...</td>\n",
       "      <td>2010</td>\n",
       "      <td>WD</td>\n",
       "      <td>Normal</td>\n",
       "      <td>11.864462</td>\n",
       "    </tr>\n",
       "    <tr>\n",
       "      <th>1459</th>\n",
       "      <td>1460</td>\n",
       "      <td>20</td>\n",
       "      <td>RL</td>\n",
       "      <td>75.0</td>\n",
       "      <td>...</td>\n",
       "      <td>2008</td>\n",
       "      <td>WD</td>\n",
       "      <td>Normal</td>\n",
       "      <td>11.901583</td>\n",
       "    </tr>\n",
       "  </tbody>\n",
       "</table>\n",
       "<p>1460 rows × 81 columns</p>\n",
       "</div>"
      ],
      "text/plain": [
       "        Id  MSSubClass MSZoning  LotFrontage  ...  YrSold SaleType  \\\n",
       "0        1          60       RL         65.0  ...    2008       WD   \n",
       "1        2          20       RL         80.0  ...    2007       WD   \n",
       "2        3          60       RL         68.0  ...    2008       WD   \n",
       "3        4          70       RL         60.0  ...    2006       WD   \n",
       "4        5          60       RL         84.0  ...    2008       WD   \n",
       "...    ...         ...      ...          ...  ...     ...      ...   \n",
       "1455  1456          60       RL         62.0  ...    2007       WD   \n",
       "1456  1457          20       RL         85.0  ...    2010       WD   \n",
       "1457  1458          70       RL         66.0  ...    2010       WD   \n",
       "1458  1459          20       RL         68.0  ...    2010       WD   \n",
       "1459  1460          20       RL         75.0  ...    2008       WD   \n",
       "\n",
       "     SaleCondition  SalePrice  \n",
       "0           Normal  12.247694  \n",
       "1           Normal  12.109011  \n",
       "2           Normal  12.317167  \n",
       "3          Abnorml  11.849398  \n",
       "4           Normal  12.429216  \n",
       "...            ...        ...  \n",
       "1455        Normal  12.072541  \n",
       "1456        Normal  12.254863  \n",
       "1457        Normal  12.493130  \n",
       "1458        Normal  11.864462  \n",
       "1459        Normal  11.901583  \n",
       "\n",
       "[1460 rows x 81 columns]"
      ]
     },
     "execution_count": 50,
     "metadata": {},
     "output_type": "execute_result"
    }
   ],
   "source": [
    "df_nn = df.copy()\n",
    "df_nn"
   ]
  },
  {
   "cell_type": "code",
   "execution_count": 51,
   "metadata": {},
   "outputs": [],
   "source": [
    "df_nn_final = df_nn[list(xs_final.columns) + [dep_var]] "
   ]
  },
  {
   "cell_type": "code",
   "execution_count": 52,
   "metadata": {},
   "outputs": [],
   "source": [
    "count_nn, cat_nn = cont_cat_split(df_nn_final, max_card=50, dep_var=dep_var)"
   ]
  },
  {
   "cell_type": "code",
   "execution_count": 53,
   "metadata": {},
   "outputs": [],
   "source": [
    "procs_nn = [Categorify, FillMissing, Normalize]"
   ]
  },
  {
   "cell_type": "code",
   "execution_count": 54,
   "metadata": {},
   "outputs": [],
   "source": [
    "db_nn = TabularPandas(df_nn_final, procs_nn, cat_nn, count_nn, splits=f(df_nn_final), y_names=dep_var)"
   ]
  },
  {
   "cell_type": "code",
   "execution_count": 55,
   "metadata": {},
   "outputs": [],
   "source": [
    "dls= db_nn.dataloaders(bs = 32)"
   ]
  },
  {
   "cell_type": "code",
   "execution_count": 56,
   "metadata": {},
   "outputs": [
    {
     "data": {
      "text/plain": [
       "(10.460242, 13.534473)"
      ]
     },
     "execution_count": 56,
     "metadata": {},
     "output_type": "execute_result"
    }
   ],
   "source": [
    "y =  db_nn.train.y\n",
    "y.min(), y.max()"
   ]
  },
  {
   "cell_type": "code",
   "execution_count": 61,
   "metadata": {},
   "outputs": [],
   "source": [
    "learn = tabular_learner(dls, y_range=(10,14), layers=[200,100], n_out=1, loss_func=F.mse_loss)"
   ]
  },
  {
   "cell_type": "code",
   "execution_count": 62,
   "metadata": {},
   "outputs": [
    {
     "data": {
      "text/html": [
       "<table border=\"1\" class=\"dataframe\">\n",
       "  <thead>\n",
       "    <tr style=\"text-align: left;\">\n",
       "      <th>epoch</th>\n",
       "      <th>train_loss</th>\n",
       "      <th>valid_loss</th>\n",
       "      <th>time</th>\n",
       "    </tr>\n",
       "  </thead>\n",
       "  <tbody>\n",
       "    <tr>\n",
       "      <td>0</td>\n",
       "      <td>0.059125</td>\n",
       "      <td>0.041005</td>\n",
       "      <td>00:00</td>\n",
       "    </tr>\n",
       "    <tr>\n",
       "      <td>1</td>\n",
       "      <td>0.052003</td>\n",
       "      <td>0.029792</td>\n",
       "      <td>00:00</td>\n",
       "    </tr>\n",
       "    <tr>\n",
       "      <td>2</td>\n",
       "      <td>0.041680</td>\n",
       "      <td>0.019945</td>\n",
       "      <td>00:00</td>\n",
       "    </tr>\n",
       "    <tr>\n",
       "      <td>3</td>\n",
       "      <td>0.030857</td>\n",
       "      <td>0.016228</td>\n",
       "      <td>00:00</td>\n",
       "    </tr>\n",
       "    <tr>\n",
       "      <td>4</td>\n",
       "      <td>0.023317</td>\n",
       "      <td>0.015961</td>\n",
       "      <td>00:00</td>\n",
       "    </tr>\n",
       "  </tbody>\n",
       "</table>"
      ],
      "text/plain": [
       "<IPython.core.display.HTML object>"
      ]
     },
     "metadata": {},
     "output_type": "display_data"
    }
   ],
   "source": [
    "learn.fit_one_cycle(5,0.005)"
   ]
  },
  {
   "cell_type": "code",
   "execution_count": 63,
   "metadata": {},
   "outputs": [
    {
     "data": {
      "text/html": [],
      "text/plain": [
       "<IPython.core.display.HTML object>"
      ]
     },
     "metadata": {},
     "output_type": "display_data"
    }
   ],
   "source": [
    "preds,targs = learn.get_preds()"
   ]
  },
  {
   "cell_type": "code",
   "execution_count": 64,
   "metadata": {},
   "outputs": [
    {
     "data": {
      "text/plain": [
       "0.126337"
      ]
     },
     "execution_count": 64,
     "metadata": {},
     "output_type": "execute_result"
    }
   ],
   "source": [
    "r_mse(preds,targs)"
   ]
  },
  {
   "cell_type": "markdown",
   "metadata": {},
   "source": [
    "That is improvment!\n",
    "\n",
    "now let's combine the nn and the RF results"
   ]
  },
  {
   "cell_type": "code",
   "execution_count": 65,
   "metadata": {},
   "outputs": [],
   "source": [
    "rf_preds = m.predict(valid_xs_final)\n",
    "ens_preds = (to_np(preds.squeeze()) + rf_preds) /2"
   ]
  },
  {
   "cell_type": "code",
   "execution_count": 66,
   "metadata": {},
   "outputs": [
    {
     "data": {
      "text/plain": [
       "0.123475"
      ]
     },
     "execution_count": 66,
     "metadata": {},
     "output_type": "execute_result"
    }
   ],
   "source": [
    "r_mse(ens_preds,valid_y)"
   ]
  },
  {
   "cell_type": "markdown",
   "metadata": {},
   "source": [
    "Another improvment!"
   ]
  },
  {
   "cell_type": "markdown",
   "metadata": {},
   "source": [
    "Lets try train a rf model but instead of the categorail featurs we use the embbeding from the nn "
   ]
  },
  {
   "cell_type": "code",
   "execution_count": 67,
   "metadata": {},
   "outputs": [
    {
     "data": {
      "text/plain": [
       "TabularModel(\n",
       "  (embeds): ModuleList(\n",
       "    (0): Embedding(11, 6)\n",
       "    (1): Embedding(6, 4)\n",
       "    (2): Embedding(6, 4)\n",
       "    (3): Embedding(6, 4)\n",
       "    (4): Embedding(5, 4)\n",
       "    (5): Embedding(6, 4)\n",
       "    (6): Embedding(3, 3)\n",
       "    (7): Embedding(10, 6)\n",
       "    (8): Embedding(13, 7)\n",
       "    (9): Embedding(7, 5)\n",
       "  )\n",
       "  (emb_drop): Dropout(p=0.0, inplace=False)\n",
       "  (bn_cont): BatchNorm1d(8, eps=1e-05, momentum=0.1, affine=True, track_running_stats=True)\n",
       "  (layers): Sequential(\n",
       "    (0): LinBnDrop(\n",
       "      (0): BatchNorm1d(55, eps=1e-05, momentum=0.1, affine=True, track_running_stats=True)\n",
       "      (1): Linear(in_features=55, out_features=200, bias=False)\n",
       "      (2): ReLU(inplace=True)\n",
       "    )\n",
       "    (1): LinBnDrop(\n",
       "      (0): BatchNorm1d(200, eps=1e-05, momentum=0.1, affine=True, track_running_stats=True)\n",
       "      (1): Linear(in_features=200, out_features=100, bias=False)\n",
       "      (2): ReLU(inplace=True)\n",
       "    )\n",
       "    (2): LinBnDrop(\n",
       "      (0): Linear(in_features=100, out_features=1, bias=True)\n",
       "    )\n",
       "    (3): SigmoidRange(low=10, high=14)\n",
       "  )\n",
       ")"
      ]
     },
     "execution_count": 67,
     "metadata": {},
     "output_type": "execute_result"
    }
   ],
   "source": [
    "learn.model"
   ]
  },
  {
   "cell_type": "code",
   "execution_count": 68,
   "metadata": {},
   "outputs": [
    {
     "data": {
      "text/plain": [
       "Parameter containing:\n",
       "tensor([[ 0.0083, -0.0017,  0.0101, -0.0095, -0.0059, -0.0106],\n",
       "        [-0.0095, -0.0097,  0.0214,  0.0076, -0.0173, -0.0185],\n",
       "        [ 0.0227, -0.0496,  0.0313,  0.0104, -0.0152, -0.0404],\n",
       "        [ 0.0300, -0.0364, -0.0081, -0.0163, -0.0114, -0.0360],\n",
       "        [ 0.0211, -0.0236, -0.0003, -0.0012, -0.0117,  0.0118],\n",
       "        [-0.0330, -0.0221,  0.0031,  0.0258, -0.0127,  0.0142],\n",
       "        [-0.0115,  0.0337, -0.0273, -0.0228,  0.0084, -0.0201],\n",
       "        [ 0.0031,  0.0346, -0.0090, -0.0174,  0.0479,  0.0117],\n",
       "        [ 0.0011,  0.0018,  0.0216,  0.0097,  0.0195, -0.0026],\n",
       "        [ 0.0246,  0.0067,  0.0335, -0.0156,  0.0046, -0.0036],\n",
       "        [ 0.0053, -0.0110,  0.0187, -0.0197, -0.0042, -0.0078]], device='cuda:0', requires_grad=True)"
      ]
     },
     "execution_count": 68,
     "metadata": {},
     "output_type": "execute_result"
    }
   ],
   "source": [
    "learn.model.embeds[0].weight"
   ]
  },
  {
   "cell_type": "code",
   "execution_count": 69,
   "metadata": {},
   "outputs": [
    {
     "data": {
      "text/plain": [
       "{'OverallQual': ['#na#', 1, 2, 3, 4, 5, 6, 7, 8, 9, 10],\n",
       " 'GarageCars': ['#na#', 0, 1, 2, 3, 4],\n",
       " 'ExterQual': ['#na#', 'Ex', 'Gd', 'TA', 'Fa', 'Po'],\n",
       " 'KitchenQual': ['#na#', 'Ex', 'Gd', 'TA', 'Fa', 'Po'],\n",
       " 'FullBath': ['#na#', 0, 1, 2, 3],\n",
       " 'FireplaceQu': ['#na#', 'Ex', 'Gd', 'TA', 'Fa', 'Po'],\n",
       " 'CentralAir': ['#na#', 'N', 'Y'],\n",
       " 'OverallCond': ['#na#', 1, 2, 3, 4, 5, 6, 7, 8, 9],\n",
       " 'TotRmsAbvGrd': ['#na#', 2, 3, 4, 5, 6, 7, 8, 9, 10, 11, 12, 14],\n",
       " 'GarageType': ['#na#', '2Types', 'Attchd', 'Basment', 'BuiltIn', 'CarPort', 'Detchd']}"
      ]
     },
     "execution_count": 69,
     "metadata": {},
     "output_type": "execute_result"
    }
   ],
   "source": [
    "db_nn.classes"
   ]
  },
  {
   "cell_type": "code",
   "execution_count": 70,
   "metadata": {},
   "outputs": [],
   "source": [
    "big_dict = {}\n",
    "for i,(k,v) in enumerate(db_nn.classes.items()):\n",
    "    #print(i,k,v)\n",
    "    big_dict[k] = {}\n",
    "    for index, val in enumerate(v):\n",
    "        arr = list(map(str,list(to_np(learn.model.embeds[i].weight[index]))))\n",
    "        #print(\",\".join(arr))\n",
    "        big_dict[k][str(val)]= \",\".join(arr)\n"
   ]
  },
  {
   "cell_type": "code",
   "execution_count": 71,
   "metadata": {},
   "outputs": [
    {
     "data": {
      "text/plain": [
       "{'#na#': '0.008282305,-0.0017141495,0.010090769,-0.009520968,-0.0058871093,-0.01061672',\n",
       " '1': '-0.009461318,-0.009693944,0.021400558,0.007606051,-0.017286189,-0.018537166',\n",
       " '2': '0.022675548,-0.04964634,0.031322498,0.010403278,-0.015194623,-0.04043179',\n",
       " '3': '0.030002927,-0.03641843,-0.008072765,-0.016337637,-0.011395765,-0.035960987',\n",
       " '4': '0.021109724,-0.02360068,-0.00034901974,-0.0012241121,-0.011655446,0.011844842',\n",
       " '5': '-0.03297218,-0.022128941,0.0030574577,0.025781328,-0.012730623,0.0141961165',\n",
       " '6': '-0.011466596,0.033662282,-0.027329754,-0.022771489,0.008430316,-0.020102154',\n",
       " '7': '0.003093369,0.034608606,-0.009012237,-0.017427012,0.047871724,0.011650165',\n",
       " '8': '0.0011224428,0.0017790395,0.021631751,0.009731476,0.019510224,-0.0026293946',\n",
       " '9': '0.024645874,0.0067465384,0.033452522,-0.015635902,0.0045587574,-0.003577368',\n",
       " '10': '0.0052668727,-0.010979236,0.018660357,-0.019670198,-0.0042175944,-0.0077790325'}"
      ]
     },
     "execution_count": 71,
     "metadata": {},
     "output_type": "execute_result"
    }
   ],
   "source": [
    "big_dict['OverallQual']"
   ]
  },
  {
   "cell_type": "code",
   "execution_count": 74,
   "metadata": {},
   "outputs": [],
   "source": [
    "df_rf_emb = df_nn_final.copy()"
   ]
  },
  {
   "cell_type": "code",
   "execution_count": 73,
   "metadata": {},
   "outputs": [
    {
     "data": {
      "text/html": [
       "<div>\n",
       "<style scoped>\n",
       "    .dataframe tbody tr th:only-of-type {\n",
       "        vertical-align: middle;\n",
       "    }\n",
       "\n",
       "    .dataframe tbody tr th {\n",
       "        vertical-align: top;\n",
       "    }\n",
       "\n",
       "    .dataframe thead th {\n",
       "        text-align: right;\n",
       "    }\n",
       "</style>\n",
       "<table border=\"1\" class=\"dataframe\">\n",
       "  <thead>\n",
       "    <tr style=\"text-align: right;\">\n",
       "      <th></th>\n",
       "      <th>OverallQual</th>\n",
       "      <th>GrLivArea</th>\n",
       "      <th>GarageCars</th>\n",
       "      <th>ExterQual</th>\n",
       "      <th>...</th>\n",
       "      <th>OverallCond</th>\n",
       "      <th>TotRmsAbvGrd</th>\n",
       "      <th>GarageType</th>\n",
       "      <th>SalePrice</th>\n",
       "    </tr>\n",
       "  </thead>\n",
       "  <tbody>\n",
       "    <tr>\n",
       "      <th>0</th>\n",
       "      <td>0.003093369,0.034608606,-0.009012237,-0.017427012,0.047871724,0.011650165</td>\n",
       "      <td>1710</td>\n",
       "      <td>2</td>\n",
       "      <td>Gd</td>\n",
       "      <td>...</td>\n",
       "      <td>5</td>\n",
       "      <td>8</td>\n",
       "      <td>Attchd</td>\n",
       "      <td>12.247694</td>\n",
       "    </tr>\n",
       "    <tr>\n",
       "      <th>1</th>\n",
       "      <td>-0.011466596,0.033662282,-0.027329754,-0.022771489,0.008430316,-0.020102154</td>\n",
       "      <td>1262</td>\n",
       "      <td>2</td>\n",
       "      <td>TA</td>\n",
       "      <td>...</td>\n",
       "      <td>8</td>\n",
       "      <td>6</td>\n",
       "      <td>Attchd</td>\n",
       "      <td>12.109011</td>\n",
       "    </tr>\n",
       "    <tr>\n",
       "      <th>2</th>\n",
       "      <td>0.003093369,0.034608606,-0.009012237,-0.017427012,0.047871724,0.011650165</td>\n",
       "      <td>1786</td>\n",
       "      <td>2</td>\n",
       "      <td>Gd</td>\n",
       "      <td>...</td>\n",
       "      <td>5</td>\n",
       "      <td>6</td>\n",
       "      <td>Attchd</td>\n",
       "      <td>12.317167</td>\n",
       "    </tr>\n",
       "    <tr>\n",
       "      <th>3</th>\n",
       "      <td>0.003093369,0.034608606,-0.009012237,-0.017427012,0.047871724,0.011650165</td>\n",
       "      <td>1717</td>\n",
       "      <td>3</td>\n",
       "      <td>TA</td>\n",
       "      <td>...</td>\n",
       "      <td>5</td>\n",
       "      <td>7</td>\n",
       "      <td>Detchd</td>\n",
       "      <td>11.849398</td>\n",
       "    </tr>\n",
       "    <tr>\n",
       "      <th>4</th>\n",
       "      <td>0.0011224428,0.0017790395,0.021631751,0.009731476,0.019510224,-0.0026293946</td>\n",
       "      <td>2198</td>\n",
       "      <td>3</td>\n",
       "      <td>Gd</td>\n",
       "      <td>...</td>\n",
       "      <td>5</td>\n",
       "      <td>9</td>\n",
       "      <td>Attchd</td>\n",
       "      <td>12.429216</td>\n",
       "    </tr>\n",
       "    <tr>\n",
       "      <th>...</th>\n",
       "      <td>...</td>\n",
       "      <td>...</td>\n",
       "      <td>...</td>\n",
       "      <td>...</td>\n",
       "      <td>...</td>\n",
       "      <td>...</td>\n",
       "      <td>...</td>\n",
       "      <td>...</td>\n",
       "      <td>...</td>\n",
       "    </tr>\n",
       "    <tr>\n",
       "      <th>1455</th>\n",
       "      <td>-0.011466596,0.033662282,-0.027329754,-0.022771489,0.008430316,-0.020102154</td>\n",
       "      <td>1647</td>\n",
       "      <td>2</td>\n",
       "      <td>TA</td>\n",
       "      <td>...</td>\n",
       "      <td>5</td>\n",
       "      <td>7</td>\n",
       "      <td>Attchd</td>\n",
       "      <td>12.072541</td>\n",
       "    </tr>\n",
       "    <tr>\n",
       "      <th>1456</th>\n",
       "      <td>-0.011466596,0.033662282,-0.027329754,-0.022771489,0.008430316,-0.020102154</td>\n",
       "      <td>2073</td>\n",
       "      <td>2</td>\n",
       "      <td>TA</td>\n",
       "      <td>...</td>\n",
       "      <td>6</td>\n",
       "      <td>7</td>\n",
       "      <td>Attchd</td>\n",
       "      <td>12.254863</td>\n",
       "    </tr>\n",
       "    <tr>\n",
       "      <th>1457</th>\n",
       "      <td>0.003093369,0.034608606,-0.009012237,-0.017427012,0.047871724,0.011650165</td>\n",
       "      <td>2340</td>\n",
       "      <td>1</td>\n",
       "      <td>Ex</td>\n",
       "      <td>...</td>\n",
       "      <td>9</td>\n",
       "      <td>9</td>\n",
       "      <td>Attchd</td>\n",
       "      <td>12.493130</td>\n",
       "    </tr>\n",
       "    <tr>\n",
       "      <th>1458</th>\n",
       "      <td>-0.03297218,-0.022128941,0.0030574577,0.025781328,-0.012730623,0.0141961165</td>\n",
       "      <td>1078</td>\n",
       "      <td>1</td>\n",
       "      <td>TA</td>\n",
       "      <td>...</td>\n",
       "      <td>6</td>\n",
       "      <td>5</td>\n",
       "      <td>Attchd</td>\n",
       "      <td>11.864462</td>\n",
       "    </tr>\n",
       "    <tr>\n",
       "      <th>1459</th>\n",
       "      <td>-0.03297218,-0.022128941,0.0030574577,0.025781328,-0.012730623,0.0141961165</td>\n",
       "      <td>1256</td>\n",
       "      <td>1</td>\n",
       "      <td>Gd</td>\n",
       "      <td>...</td>\n",
       "      <td>6</td>\n",
       "      <td>6</td>\n",
       "      <td>Attchd</td>\n",
       "      <td>11.901583</td>\n",
       "    </tr>\n",
       "  </tbody>\n",
       "</table>\n",
       "<p>1460 rows × 19 columns</p>\n",
       "</div>"
      ],
      "text/plain": [
       "                                                                      OverallQual  \\\n",
       "0       0.003093369,0.034608606,-0.009012237,-0.017427012,0.047871724,0.011650165   \n",
       "1     -0.011466596,0.033662282,-0.027329754,-0.022771489,0.008430316,-0.020102154   \n",
       "2       0.003093369,0.034608606,-0.009012237,-0.017427012,0.047871724,0.011650165   \n",
       "3       0.003093369,0.034608606,-0.009012237,-0.017427012,0.047871724,0.011650165   \n",
       "4     0.0011224428,0.0017790395,0.021631751,0.009731476,0.019510224,-0.0026293946   \n",
       "...                                                                           ...   \n",
       "1455  -0.011466596,0.033662282,-0.027329754,-0.022771489,0.008430316,-0.020102154   \n",
       "1456  -0.011466596,0.033662282,-0.027329754,-0.022771489,0.008430316,-0.020102154   \n",
       "1457    0.003093369,0.034608606,-0.009012237,-0.017427012,0.047871724,0.011650165   \n",
       "1458  -0.03297218,-0.022128941,0.0030574577,0.025781328,-0.012730623,0.0141961165   \n",
       "1459  -0.03297218,-0.022128941,0.0030574577,0.025781328,-0.012730623,0.0141961165   \n",
       "\n",
       "      GrLivArea  GarageCars ExterQual  ...  OverallCond  TotRmsAbvGrd  \\\n",
       "0          1710           2        Gd  ...            5             8   \n",
       "1          1262           2        TA  ...            8             6   \n",
       "2          1786           2        Gd  ...            5             6   \n",
       "3          1717           3        TA  ...            5             7   \n",
       "4          2198           3        Gd  ...            5             9   \n",
       "...         ...         ...       ...  ...          ...           ...   \n",
       "1455       1647           2        TA  ...            5             7   \n",
       "1456       2073           2        TA  ...            6             7   \n",
       "1457       2340           1        Ex  ...            9             9   \n",
       "1458       1078           1        TA  ...            6             5   \n",
       "1459       1256           1        Gd  ...            6             6   \n",
       "\n",
       "      GarageType  SalePrice  \n",
       "0         Attchd  12.247694  \n",
       "1         Attchd  12.109011  \n",
       "2         Attchd  12.317167  \n",
       "3         Detchd  11.849398  \n",
       "4         Attchd  12.429216  \n",
       "...          ...        ...  \n",
       "1455      Attchd  12.072541  \n",
       "1456      Attchd  12.254863  \n",
       "1457      Attchd  12.493130  \n",
       "1458      Attchd  11.864462  \n",
       "1459      Attchd  11.901583  \n",
       "\n",
       "[1460 rows x 19 columns]"
      ]
     },
     "execution_count": 73,
     "metadata": {},
     "output_type": "execute_result"
    }
   ],
   "source": [
    "df_rf_emb['OverallQual'] = df_rf_emb['OverallQual'].astype(str)\n",
    "df_rf_emb['OverallQual'] = df_rf_emb['OverallQual'].replace(big_dict['OverallQual'])# big_dict['OverallQual']\n",
    "df_rf_emb"
   ]
  },
  {
   "cell_type": "code",
   "execution_count": 163,
   "metadata": {},
   "outputs": [],
   "source": [
    "df_rf_emb[['A','B','C','D']] = df_rf_emb['ExterQual'].str.split(',', expand=True)\n",
    "df_rf_emb.drop(columns=['ExterQual'],inplace=True)"
   ]
  },
  {
   "cell_type": "code",
   "execution_count": 164,
   "metadata": {},
   "outputs": [
    {
     "data": {
      "text/html": [
       "<div>\n",
       "<style scoped>\n",
       "    .dataframe tbody tr th:only-of-type {\n",
       "        vertical-align: middle;\n",
       "    }\n",
       "\n",
       "    .dataframe tbody tr th {\n",
       "        vertical-align: top;\n",
       "    }\n",
       "\n",
       "    .dataframe thead th {\n",
       "        text-align: right;\n",
       "    }\n",
       "</style>\n",
       "<table border=\"1\" class=\"dataframe\">\n",
       "  <thead>\n",
       "    <tr style=\"text-align: right;\">\n",
       "      <th></th>\n",
       "      <th>OverallQual</th>\n",
       "      <th>GrLivArea</th>\n",
       "      <th>KitchenQual</th>\n",
       "      <th>GarageArea</th>\n",
       "      <th>...</th>\n",
       "      <th>A</th>\n",
       "      <th>B</th>\n",
       "      <th>C</th>\n",
       "      <th>D</th>\n",
       "    </tr>\n",
       "  </thead>\n",
       "  <tbody>\n",
       "    <tr>\n",
       "      <th>0</th>\n",
       "      <td>7</td>\n",
       "      <td>1710</td>\n",
       "      <td>Gd</td>\n",
       "      <td>548</td>\n",
       "      <td>...</td>\n",
       "      <td>-0.042282816</td>\n",
       "      <td>-0.04388434</td>\n",
       "      <td>0.0127327265</td>\n",
       "      <td>-0.013515835</td>\n",
       "    </tr>\n",
       "    <tr>\n",
       "      <th>1</th>\n",
       "      <td>6</td>\n",
       "      <td>1262</td>\n",
       "      <td>TA</td>\n",
       "      <td>460</td>\n",
       "      <td>...</td>\n",
       "      <td>0.029612053</td>\n",
       "      <td>-0.007217533</td>\n",
       "      <td>-0.03617338</td>\n",
       "      <td>0.00893198</td>\n",
       "    </tr>\n",
       "    <tr>\n",
       "      <th>2</th>\n",
       "      <td>7</td>\n",
       "      <td>1786</td>\n",
       "      <td>Gd</td>\n",
       "      <td>608</td>\n",
       "      <td>...</td>\n",
       "      <td>-0.042282816</td>\n",
       "      <td>-0.04388434</td>\n",
       "      <td>0.0127327265</td>\n",
       "      <td>-0.013515835</td>\n",
       "    </tr>\n",
       "    <tr>\n",
       "      <th>3</th>\n",
       "      <td>7</td>\n",
       "      <td>1717</td>\n",
       "      <td>Gd</td>\n",
       "      <td>642</td>\n",
       "      <td>...</td>\n",
       "      <td>0.029612053</td>\n",
       "      <td>-0.007217533</td>\n",
       "      <td>-0.03617338</td>\n",
       "      <td>0.00893198</td>\n",
       "    </tr>\n",
       "    <tr>\n",
       "      <th>4</th>\n",
       "      <td>8</td>\n",
       "      <td>2198</td>\n",
       "      <td>Gd</td>\n",
       "      <td>836</td>\n",
       "      <td>...</td>\n",
       "      <td>-0.042282816</td>\n",
       "      <td>-0.04388434</td>\n",
       "      <td>0.0127327265</td>\n",
       "      <td>-0.013515835</td>\n",
       "    </tr>\n",
       "    <tr>\n",
       "      <th>...</th>\n",
       "      <td>...</td>\n",
       "      <td>...</td>\n",
       "      <td>...</td>\n",
       "      <td>...</td>\n",
       "      <td>...</td>\n",
       "      <td>...</td>\n",
       "      <td>...</td>\n",
       "      <td>...</td>\n",
       "      <td>...</td>\n",
       "    </tr>\n",
       "    <tr>\n",
       "      <th>1455</th>\n",
       "      <td>6</td>\n",
       "      <td>1647</td>\n",
       "      <td>TA</td>\n",
       "      <td>460</td>\n",
       "      <td>...</td>\n",
       "      <td>0.029612053</td>\n",
       "      <td>-0.007217533</td>\n",
       "      <td>-0.03617338</td>\n",
       "      <td>0.00893198</td>\n",
       "    </tr>\n",
       "    <tr>\n",
       "      <th>1456</th>\n",
       "      <td>6</td>\n",
       "      <td>2073</td>\n",
       "      <td>TA</td>\n",
       "      <td>500</td>\n",
       "      <td>...</td>\n",
       "      <td>0.029612053</td>\n",
       "      <td>-0.007217533</td>\n",
       "      <td>-0.03617338</td>\n",
       "      <td>0.00893198</td>\n",
       "    </tr>\n",
       "    <tr>\n",
       "      <th>1457</th>\n",
       "      <td>7</td>\n",
       "      <td>2340</td>\n",
       "      <td>Gd</td>\n",
       "      <td>252</td>\n",
       "      <td>...</td>\n",
       "      <td>-0.012458753</td>\n",
       "      <td>0.029152278</td>\n",
       "      <td>0.014180547</td>\n",
       "      <td>0.024788074</td>\n",
       "    </tr>\n",
       "    <tr>\n",
       "      <th>1458</th>\n",
       "      <td>5</td>\n",
       "      <td>1078</td>\n",
       "      <td>Gd</td>\n",
       "      <td>240</td>\n",
       "      <td>...</td>\n",
       "      <td>0.029612053</td>\n",
       "      <td>-0.007217533</td>\n",
       "      <td>-0.03617338</td>\n",
       "      <td>0.00893198</td>\n",
       "    </tr>\n",
       "    <tr>\n",
       "      <th>1459</th>\n",
       "      <td>5</td>\n",
       "      <td>1256</td>\n",
       "      <td>TA</td>\n",
       "      <td>276</td>\n",
       "      <td>...</td>\n",
       "      <td>-0.042282816</td>\n",
       "      <td>-0.04388434</td>\n",
       "      <td>0.0127327265</td>\n",
       "      <td>-0.013515835</td>\n",
       "    </tr>\n",
       "  </tbody>\n",
       "</table>\n",
       "<p>1460 rows × 24 columns</p>\n",
       "</div>"
      ],
      "text/plain": [
       "      OverallQual  GrLivArea KitchenQual  GarageArea  ...             A  \\\n",
       "0               7       1710          Gd         548  ...  -0.042282816   \n",
       "1               6       1262          TA         460  ...   0.029612053   \n",
       "2               7       1786          Gd         608  ...  -0.042282816   \n",
       "3               7       1717          Gd         642  ...   0.029612053   \n",
       "4               8       2198          Gd         836  ...  -0.042282816   \n",
       "...           ...        ...         ...         ...  ...           ...   \n",
       "1455            6       1647          TA         460  ...   0.029612053   \n",
       "1456            6       2073          TA         500  ...   0.029612053   \n",
       "1457            7       2340          Gd         252  ...  -0.012458753   \n",
       "1458            5       1078          Gd         240  ...   0.029612053   \n",
       "1459            5       1256          TA         276  ...  -0.042282816   \n",
       "\n",
       "                 B             C             D  \n",
       "0      -0.04388434  0.0127327265  -0.013515835  \n",
       "1     -0.007217533   -0.03617338    0.00893198  \n",
       "2      -0.04388434  0.0127327265  -0.013515835  \n",
       "3     -0.007217533   -0.03617338    0.00893198  \n",
       "4      -0.04388434  0.0127327265  -0.013515835  \n",
       "...            ...           ...           ...  \n",
       "1455  -0.007217533   -0.03617338    0.00893198  \n",
       "1456  -0.007217533   -0.03617338    0.00893198  \n",
       "1457   0.029152278   0.014180547   0.024788074  \n",
       "1458  -0.007217533   -0.03617338    0.00893198  \n",
       "1459   -0.04388434  0.0127327265  -0.013515835  \n",
       "\n",
       "[1460 rows x 24 columns]"
      ]
     },
     "execution_count": 164,
     "metadata": {},
     "output_type": "execute_result"
    }
   ],
   "source": [
    "df_rf_emb"
   ]
  },
  {
   "cell_type": "code",
   "execution_count": 76,
   "metadata": {},
   "outputs": [
    {
     "data": {
      "text/plain": [
       "['OverallQual',\n",
       " 'GarageCars',\n",
       " 'ExterQual',\n",
       " 'KitchenQual',\n",
       " 'FullBath',\n",
       " 'FireplaceQu',\n",
       " 'CentralAir',\n",
       " 'OverallCond',\n",
       " 'TotRmsAbvGrd',\n",
       " 'GarageType']"
      ]
     },
     "execution_count": 76,
     "metadata": {},
     "output_type": "execute_result"
    }
   ],
   "source": [
    "\n"
   ]
  },
  {
   "cell_type": "code",
   "execution_count": 77,
   "metadata": {},
   "outputs": [
    {
     "data": {
      "text/html": [
       "<div>\n",
       "<style scoped>\n",
       "    .dataframe tbody tr th:only-of-type {\n",
       "        vertical-align: middle;\n",
       "    }\n",
       "\n",
       "    .dataframe tbody tr th {\n",
       "        vertical-align: top;\n",
       "    }\n",
       "\n",
       "    .dataframe thead th {\n",
       "        text-align: right;\n",
       "    }\n",
       "</style>\n",
       "<table border=\"1\" class=\"dataframe\">\n",
       "  <thead>\n",
       "    <tr style=\"text-align: right;\">\n",
       "      <th></th>\n",
       "      <th>GrLivArea</th>\n",
       "      <th>TotalBsmtSF</th>\n",
       "      <th>YearBuilt</th>\n",
       "      <th>1stFlrSF</th>\n",
       "      <th>...</th>\n",
       "      <th>GarageType_1</th>\n",
       "      <th>GarageType_2</th>\n",
       "      <th>GarageType_3</th>\n",
       "      <th>GarageType_4</th>\n",
       "    </tr>\n",
       "  </thead>\n",
       "  <tbody>\n",
       "    <tr>\n",
       "      <th>0</th>\n",
       "      <td>1710</td>\n",
       "      <td>856</td>\n",
       "      <td>2003</td>\n",
       "      <td>856</td>\n",
       "      <td>...</td>\n",
       "      <td>0.004135</td>\n",
       "      <td>-0.002253</td>\n",
       "      <td>-0.016829</td>\n",
       "      <td>-0.009186</td>\n",
       "    </tr>\n",
       "    <tr>\n",
       "      <th>1</th>\n",
       "      <td>1262</td>\n",
       "      <td>1262</td>\n",
       "      <td>1976</td>\n",
       "      <td>1262</td>\n",
       "      <td>...</td>\n",
       "      <td>0.004135</td>\n",
       "      <td>-0.002253</td>\n",
       "      <td>-0.016829</td>\n",
       "      <td>-0.009186</td>\n",
       "    </tr>\n",
       "    <tr>\n",
       "      <th>2</th>\n",
       "      <td>1786</td>\n",
       "      <td>920</td>\n",
       "      <td>2001</td>\n",
       "      <td>920</td>\n",
       "      <td>...</td>\n",
       "      <td>0.004135</td>\n",
       "      <td>-0.002253</td>\n",
       "      <td>-0.016829</td>\n",
       "      <td>-0.009186</td>\n",
       "    </tr>\n",
       "    <tr>\n",
       "      <th>3</th>\n",
       "      <td>1717</td>\n",
       "      <td>756</td>\n",
       "      <td>1915</td>\n",
       "      <td>961</td>\n",
       "      <td>...</td>\n",
       "      <td>0.045105</td>\n",
       "      <td>0.024290</td>\n",
       "      <td>0.005672</td>\n",
       "      <td>-0.027146</td>\n",
       "    </tr>\n",
       "    <tr>\n",
       "      <th>4</th>\n",
       "      <td>2198</td>\n",
       "      <td>1145</td>\n",
       "      <td>2000</td>\n",
       "      <td>1145</td>\n",
       "      <td>...</td>\n",
       "      <td>0.004135</td>\n",
       "      <td>-0.002253</td>\n",
       "      <td>-0.016829</td>\n",
       "      <td>-0.009186</td>\n",
       "    </tr>\n",
       "    <tr>\n",
       "      <th>...</th>\n",
       "      <td>...</td>\n",
       "      <td>...</td>\n",
       "      <td>...</td>\n",
       "      <td>...</td>\n",
       "      <td>...</td>\n",
       "      <td>...</td>\n",
       "      <td>...</td>\n",
       "      <td>...</td>\n",
       "      <td>...</td>\n",
       "    </tr>\n",
       "    <tr>\n",
       "      <th>1455</th>\n",
       "      <td>1647</td>\n",
       "      <td>953</td>\n",
       "      <td>1999</td>\n",
       "      <td>953</td>\n",
       "      <td>...</td>\n",
       "      <td>0.004135</td>\n",
       "      <td>-0.002253</td>\n",
       "      <td>-0.016829</td>\n",
       "      <td>-0.009186</td>\n",
       "    </tr>\n",
       "    <tr>\n",
       "      <th>1456</th>\n",
       "      <td>2073</td>\n",
       "      <td>1542</td>\n",
       "      <td>1978</td>\n",
       "      <td>2073</td>\n",
       "      <td>...</td>\n",
       "      <td>0.004135</td>\n",
       "      <td>-0.002253</td>\n",
       "      <td>-0.016829</td>\n",
       "      <td>-0.009186</td>\n",
       "    </tr>\n",
       "    <tr>\n",
       "      <th>1457</th>\n",
       "      <td>2340</td>\n",
       "      <td>1152</td>\n",
       "      <td>1941</td>\n",
       "      <td>1188</td>\n",
       "      <td>...</td>\n",
       "      <td>0.004135</td>\n",
       "      <td>-0.002253</td>\n",
       "      <td>-0.016829</td>\n",
       "      <td>-0.009186</td>\n",
       "    </tr>\n",
       "    <tr>\n",
       "      <th>1458</th>\n",
       "      <td>1078</td>\n",
       "      <td>1078</td>\n",
       "      <td>1950</td>\n",
       "      <td>1078</td>\n",
       "      <td>...</td>\n",
       "      <td>0.004135</td>\n",
       "      <td>-0.002253</td>\n",
       "      <td>-0.016829</td>\n",
       "      <td>-0.009186</td>\n",
       "    </tr>\n",
       "    <tr>\n",
       "      <th>1459</th>\n",
       "      <td>1256</td>\n",
       "      <td>1256</td>\n",
       "      <td>1965</td>\n",
       "      <td>1256</td>\n",
       "      <td>...</td>\n",
       "      <td>0.004135</td>\n",
       "      <td>-0.002253</td>\n",
       "      <td>-0.016829</td>\n",
       "      <td>-0.009186</td>\n",
       "    </tr>\n",
       "  </tbody>\n",
       "</table>\n",
       "<p>1460 rows × 56 columns</p>\n",
       "</div>"
      ],
      "text/plain": [
       "      GrLivArea  TotalBsmtSF  YearBuilt  1stFlrSF  ...  GarageType_1  \\\n",
       "0          1710          856       2003       856  ...      0.004135   \n",
       "1          1262         1262       1976      1262  ...      0.004135   \n",
       "2          1786          920       2001       920  ...      0.004135   \n",
       "3          1717          756       1915       961  ...      0.045105   \n",
       "4          2198         1145       2000      1145  ...      0.004135   \n",
       "...         ...          ...        ...       ...  ...           ...   \n",
       "1455       1647          953       1999       953  ...      0.004135   \n",
       "1456       2073         1542       1978      2073  ...      0.004135   \n",
       "1457       2340         1152       1941      1188  ...      0.004135   \n",
       "1458       1078         1078       1950      1078  ...      0.004135   \n",
       "1459       1256         1256       1965      1256  ...      0.004135   \n",
       "\n",
       "      GarageType_2  GarageType_3  GarageType_4  \n",
       "0        -0.002253     -0.016829     -0.009186  \n",
       "1        -0.002253     -0.016829     -0.009186  \n",
       "2        -0.002253     -0.016829     -0.009186  \n",
       "3         0.024290      0.005672     -0.027146  \n",
       "4        -0.002253     -0.016829     -0.009186  \n",
       "...            ...           ...           ...  \n",
       "1455     -0.002253     -0.016829     -0.009186  \n",
       "1456     -0.002253     -0.016829     -0.009186  \n",
       "1457     -0.002253     -0.016829     -0.009186  \n",
       "1458     -0.002253     -0.016829     -0.009186  \n",
       "1459     -0.002253     -0.016829     -0.009186  \n",
       "\n",
       "[1460 rows x 56 columns]"
      ]
     },
     "execution_count": 77,
     "metadata": {},
     "output_type": "execute_result"
    }
   ],
   "source": [
    "from_cat_to_emb = list(db_nn.classes.keys())\n",
    "for cat in from_cat_to_emb:\n",
    "    new_columns = []\n",
    "\n",
    "    for i in range(len(list(big_dict[cat].values())[0].split(','))):\n",
    "        new_columns.append(cat + '_' + str(i))\n",
    "    \n",
    "    \n",
    "    df_rf_emb[cat] = df_rf_emb[cat].astype(str)\n",
    "    df_rf_emb[cat] = df_rf_emb[cat].replace(big_dict[cat])\n",
    "    df_rf_emb[new_columns] = df_rf_emb[cat].str.split(',', expand=True)\n",
    "    df_rf_emb[new_columns] = df_rf_emb[new_columns].astype(float)\n",
    "    df_rf_emb.drop(columns=[cat],inplace=True)\n",
    "\n",
    "df_rf_emb"
   ]
  },
  {
   "cell_type": "code",
   "execution_count": 78,
   "metadata": {},
   "outputs": [
    {
     "data": {
      "text/html": [
       "<div>\n",
       "<style scoped>\n",
       "    .dataframe tbody tr th:only-of-type {\n",
       "        vertical-align: middle;\n",
       "    }\n",
       "\n",
       "    .dataframe tbody tr th {\n",
       "        vertical-align: top;\n",
       "    }\n",
       "\n",
       "    .dataframe thead th {\n",
       "        text-align: right;\n",
       "    }\n",
       "</style>\n",
       "<table border=\"1\" class=\"dataframe\">\n",
       "  <thead>\n",
       "    <tr style=\"text-align: right;\">\n",
       "      <th></th>\n",
       "      <th>OverallQual_0</th>\n",
       "      <th>OverallQual_1</th>\n",
       "      <th>OverallQual_2</th>\n",
       "      <th>OverallQual_3</th>\n",
       "      <th>OverallQual_4</th>\n",
       "      <th>OverallQual_5</th>\n",
       "    </tr>\n",
       "  </thead>\n",
       "  <tbody>\n",
       "    <tr>\n",
       "      <th>0</th>\n",
       "      <td>0.003093</td>\n",
       "      <td>0.034609</td>\n",
       "      <td>-0.009012</td>\n",
       "      <td>-0.017427</td>\n",
       "      <td>0.047872</td>\n",
       "      <td>0.011650</td>\n",
       "    </tr>\n",
       "    <tr>\n",
       "      <th>1</th>\n",
       "      <td>-0.011467</td>\n",
       "      <td>0.033662</td>\n",
       "      <td>-0.027330</td>\n",
       "      <td>-0.022771</td>\n",
       "      <td>0.008430</td>\n",
       "      <td>-0.020102</td>\n",
       "    </tr>\n",
       "    <tr>\n",
       "      <th>2</th>\n",
       "      <td>0.003093</td>\n",
       "      <td>0.034609</td>\n",
       "      <td>-0.009012</td>\n",
       "      <td>-0.017427</td>\n",
       "      <td>0.047872</td>\n",
       "      <td>0.011650</td>\n",
       "    </tr>\n",
       "    <tr>\n",
       "      <th>3</th>\n",
       "      <td>0.003093</td>\n",
       "      <td>0.034609</td>\n",
       "      <td>-0.009012</td>\n",
       "      <td>-0.017427</td>\n",
       "      <td>0.047872</td>\n",
       "      <td>0.011650</td>\n",
       "    </tr>\n",
       "    <tr>\n",
       "      <th>4</th>\n",
       "      <td>0.001122</td>\n",
       "      <td>0.001779</td>\n",
       "      <td>0.021632</td>\n",
       "      <td>0.009731</td>\n",
       "      <td>0.019510</td>\n",
       "      <td>-0.002629</td>\n",
       "    </tr>\n",
       "    <tr>\n",
       "      <th>...</th>\n",
       "      <td>...</td>\n",
       "      <td>...</td>\n",
       "      <td>...</td>\n",
       "      <td>...</td>\n",
       "      <td>...</td>\n",
       "      <td>...</td>\n",
       "    </tr>\n",
       "    <tr>\n",
       "      <th>1455</th>\n",
       "      <td>-0.011467</td>\n",
       "      <td>0.033662</td>\n",
       "      <td>-0.027330</td>\n",
       "      <td>-0.022771</td>\n",
       "      <td>0.008430</td>\n",
       "      <td>-0.020102</td>\n",
       "    </tr>\n",
       "    <tr>\n",
       "      <th>1456</th>\n",
       "      <td>-0.011467</td>\n",
       "      <td>0.033662</td>\n",
       "      <td>-0.027330</td>\n",
       "      <td>-0.022771</td>\n",
       "      <td>0.008430</td>\n",
       "      <td>-0.020102</td>\n",
       "    </tr>\n",
       "    <tr>\n",
       "      <th>1457</th>\n",
       "      <td>0.003093</td>\n",
       "      <td>0.034609</td>\n",
       "      <td>-0.009012</td>\n",
       "      <td>-0.017427</td>\n",
       "      <td>0.047872</td>\n",
       "      <td>0.011650</td>\n",
       "    </tr>\n",
       "    <tr>\n",
       "      <th>1458</th>\n",
       "      <td>-0.032972</td>\n",
       "      <td>-0.022129</td>\n",
       "      <td>0.003057</td>\n",
       "      <td>0.025781</td>\n",
       "      <td>-0.012731</td>\n",
       "      <td>0.014196</td>\n",
       "    </tr>\n",
       "    <tr>\n",
       "      <th>1459</th>\n",
       "      <td>-0.032972</td>\n",
       "      <td>-0.022129</td>\n",
       "      <td>0.003057</td>\n",
       "      <td>0.025781</td>\n",
       "      <td>-0.012731</td>\n",
       "      <td>0.014196</td>\n",
       "    </tr>\n",
       "  </tbody>\n",
       "</table>\n",
       "<p>1460 rows × 6 columns</p>\n",
       "</div>"
      ],
      "text/plain": [
       "      OverallQual_0  OverallQual_1  OverallQual_2  OverallQual_3  \\\n",
       "0          0.003093       0.034609      -0.009012      -0.017427   \n",
       "1         -0.011467       0.033662      -0.027330      -0.022771   \n",
       "2          0.003093       0.034609      -0.009012      -0.017427   \n",
       "3          0.003093       0.034609      -0.009012      -0.017427   \n",
       "4          0.001122       0.001779       0.021632       0.009731   \n",
       "...             ...            ...            ...            ...   \n",
       "1455      -0.011467       0.033662      -0.027330      -0.022771   \n",
       "1456      -0.011467       0.033662      -0.027330      -0.022771   \n",
       "1457       0.003093       0.034609      -0.009012      -0.017427   \n",
       "1458      -0.032972      -0.022129       0.003057       0.025781   \n",
       "1459      -0.032972      -0.022129       0.003057       0.025781   \n",
       "\n",
       "      OverallQual_4  OverallQual_5  \n",
       "0          0.047872       0.011650  \n",
       "1          0.008430      -0.020102  \n",
       "2          0.047872       0.011650  \n",
       "3          0.047872       0.011650  \n",
       "4          0.019510      -0.002629  \n",
       "...             ...            ...  \n",
       "1455       0.008430      -0.020102  \n",
       "1456       0.008430      -0.020102  \n",
       "1457       0.047872       0.011650  \n",
       "1458      -0.012731       0.014196  \n",
       "1459      -0.012731       0.014196  \n",
       "\n",
       "[1460 rows x 6 columns]"
      ]
     },
     "execution_count": 78,
     "metadata": {},
     "output_type": "execute_result"
    }
   ],
   "source": [
    "df_rf_emb[['OverallQual_0', 'OverallQual_1', 'OverallQual_2', 'OverallQual_3', 'OverallQual_4', 'OverallQual_5']]"
   ]
  },
  {
   "cell_type": "code",
   "execution_count": 79,
   "metadata": {},
   "outputs": [
    {
     "ename": "KeyError",
     "evalue": "'OverallQual'",
     "output_type": "error",
     "traceback": [
      "\u001b[0;31m---------------------------------------------------------------------------\u001b[0m",
      "\u001b[0;31mKeyError\u001b[0m                                  Traceback (most recent call last)",
      "\u001b[0;32m/opt/conda/envs/fastai/lib/python3.8/site-packages/pandas/core/indexes/base.py\u001b[0m in \u001b[0;36mget_loc\u001b[0;34m(self, key, method, tolerance)\u001b[0m\n\u001b[1;32m   2894\u001b[0m             \u001b[0;32mtry\u001b[0m\u001b[0;34m:\u001b[0m\u001b[0;34m\u001b[0m\u001b[0;34m\u001b[0m\u001b[0m\n\u001b[0;32m-> 2895\u001b[0;31m                 \u001b[0;32mreturn\u001b[0m \u001b[0mself\u001b[0m\u001b[0;34m.\u001b[0m\u001b[0m_engine\u001b[0m\u001b[0;34m.\u001b[0m\u001b[0mget_loc\u001b[0m\u001b[0;34m(\u001b[0m\u001b[0mcasted_key\u001b[0m\u001b[0;34m)\u001b[0m\u001b[0;34m\u001b[0m\u001b[0;34m\u001b[0m\u001b[0m\n\u001b[0m\u001b[1;32m   2896\u001b[0m             \u001b[0;32mexcept\u001b[0m \u001b[0mKeyError\u001b[0m \u001b[0;32mas\u001b[0m \u001b[0merr\u001b[0m\u001b[0;34m:\u001b[0m\u001b[0;34m\u001b[0m\u001b[0;34m\u001b[0m\u001b[0m\n",
      "\u001b[0;32mpandas/_libs/index.pyx\u001b[0m in \u001b[0;36mpandas._libs.index.IndexEngine.get_loc\u001b[0;34m()\u001b[0m\n",
      "\u001b[0;32mpandas/_libs/index.pyx\u001b[0m in \u001b[0;36mpandas._libs.index.IndexEngine.get_loc\u001b[0;34m()\u001b[0m\n",
      "\u001b[0;32mpandas/_libs/hashtable_class_helper.pxi\u001b[0m in \u001b[0;36mpandas._libs.hashtable.PyObjectHashTable.get_item\u001b[0;34m()\u001b[0m\n",
      "\u001b[0;32mpandas/_libs/hashtable_class_helper.pxi\u001b[0m in \u001b[0;36mpandas._libs.hashtable.PyObjectHashTable.get_item\u001b[0;34m()\u001b[0m\n",
      "\u001b[0;31mKeyError\u001b[0m: 'OverallQual'",
      "\nThe above exception was the direct cause of the following exception:\n",
      "\u001b[0;31mKeyError\u001b[0m                                  Traceback (most recent call last)",
      "\u001b[0;32m<ipython-input-79-f0b84896ec0e>\u001b[0m in \u001b[0;36m<module>\u001b[0;34m\u001b[0m\n\u001b[0;32m----> 1\u001b[0;31m \u001b[0mdf_rf_emb\u001b[0m\u001b[0;34m[\u001b[0m\u001b[0;34m'OverallQual'\u001b[0m\u001b[0;34m]\u001b[0m\u001b[0;34m\u001b[0m\u001b[0;34m\u001b[0m\u001b[0m\n\u001b[0m",
      "\u001b[0;32m/opt/conda/envs/fastai/lib/python3.8/site-packages/pandas/core/frame.py\u001b[0m in \u001b[0;36m__getitem__\u001b[0;34m(self, key)\u001b[0m\n\u001b[1;32m   2904\u001b[0m             \u001b[0;32mif\u001b[0m \u001b[0mself\u001b[0m\u001b[0;34m.\u001b[0m\u001b[0mcolumns\u001b[0m\u001b[0;34m.\u001b[0m\u001b[0mnlevels\u001b[0m \u001b[0;34m>\u001b[0m \u001b[0;36m1\u001b[0m\u001b[0;34m:\u001b[0m\u001b[0;34m\u001b[0m\u001b[0;34m\u001b[0m\u001b[0m\n\u001b[1;32m   2905\u001b[0m                 \u001b[0;32mreturn\u001b[0m \u001b[0mself\u001b[0m\u001b[0;34m.\u001b[0m\u001b[0m_getitem_multilevel\u001b[0m\u001b[0;34m(\u001b[0m\u001b[0mkey\u001b[0m\u001b[0;34m)\u001b[0m\u001b[0;34m\u001b[0m\u001b[0;34m\u001b[0m\u001b[0m\n\u001b[0;32m-> 2906\u001b[0;31m             \u001b[0mindexer\u001b[0m \u001b[0;34m=\u001b[0m \u001b[0mself\u001b[0m\u001b[0;34m.\u001b[0m\u001b[0mcolumns\u001b[0m\u001b[0;34m.\u001b[0m\u001b[0mget_loc\u001b[0m\u001b[0;34m(\u001b[0m\u001b[0mkey\u001b[0m\u001b[0;34m)\u001b[0m\u001b[0;34m\u001b[0m\u001b[0;34m\u001b[0m\u001b[0m\n\u001b[0m\u001b[1;32m   2907\u001b[0m             \u001b[0;32mif\u001b[0m \u001b[0mis_integer\u001b[0m\u001b[0;34m(\u001b[0m\u001b[0mindexer\u001b[0m\u001b[0;34m)\u001b[0m\u001b[0;34m:\u001b[0m\u001b[0;34m\u001b[0m\u001b[0;34m\u001b[0m\u001b[0m\n\u001b[1;32m   2908\u001b[0m                 \u001b[0mindexer\u001b[0m \u001b[0;34m=\u001b[0m \u001b[0;34m[\u001b[0m\u001b[0mindexer\u001b[0m\u001b[0;34m]\u001b[0m\u001b[0;34m\u001b[0m\u001b[0;34m\u001b[0m\u001b[0m\n",
      "\u001b[0;32m/opt/conda/envs/fastai/lib/python3.8/site-packages/pandas/core/indexes/base.py\u001b[0m in \u001b[0;36mget_loc\u001b[0;34m(self, key, method, tolerance)\u001b[0m\n\u001b[1;32m   2895\u001b[0m                 \u001b[0;32mreturn\u001b[0m \u001b[0mself\u001b[0m\u001b[0;34m.\u001b[0m\u001b[0m_engine\u001b[0m\u001b[0;34m.\u001b[0m\u001b[0mget_loc\u001b[0m\u001b[0;34m(\u001b[0m\u001b[0mcasted_key\u001b[0m\u001b[0;34m)\u001b[0m\u001b[0;34m\u001b[0m\u001b[0;34m\u001b[0m\u001b[0m\n\u001b[1;32m   2896\u001b[0m             \u001b[0;32mexcept\u001b[0m \u001b[0mKeyError\u001b[0m \u001b[0;32mas\u001b[0m \u001b[0merr\u001b[0m\u001b[0;34m:\u001b[0m\u001b[0;34m\u001b[0m\u001b[0;34m\u001b[0m\u001b[0m\n\u001b[0;32m-> 2897\u001b[0;31m                 \u001b[0;32mraise\u001b[0m \u001b[0mKeyError\u001b[0m\u001b[0;34m(\u001b[0m\u001b[0mkey\u001b[0m\u001b[0;34m)\u001b[0m \u001b[0;32mfrom\u001b[0m \u001b[0merr\u001b[0m\u001b[0;34m\u001b[0m\u001b[0;34m\u001b[0m\u001b[0m\n\u001b[0m\u001b[1;32m   2898\u001b[0m \u001b[0;34m\u001b[0m\u001b[0m\n\u001b[1;32m   2899\u001b[0m         \u001b[0;32mif\u001b[0m \u001b[0mtolerance\u001b[0m \u001b[0;32mis\u001b[0m \u001b[0;32mnot\u001b[0m \u001b[0;32mNone\u001b[0m\u001b[0;34m:\u001b[0m\u001b[0;34m\u001b[0m\u001b[0;34m\u001b[0m\u001b[0m\n",
      "\u001b[0;31mKeyError\u001b[0m: 'OverallQual'"
     ]
    }
   ],
   "source": [
    "df_rf_emb['OverallQual']"
   ]
  },
  {
   "cell_type": "markdown",
   "metadata": {},
   "source": [
    "great insted of one coulmn categorial feature we have the embbeding"
   ]
  },
  {
   "cell_type": "code",
   "execution_count": 80,
   "metadata": {},
   "outputs": [],
   "source": [
    "procs = [Categorify, FillMissing]"
   ]
  },
  {
   "cell_type": "code",
   "execution_count": 81,
   "metadata": {},
   "outputs": [
    {
     "data": {
      "text/plain": [
       "(55, 0)"
      ]
     },
     "execution_count": 81,
     "metadata": {},
     "output_type": "execute_result"
    }
   ],
   "source": [
    "cont,cat = cont_cat_split(df_rf_emb, 1, dep_var=dep_var)\n",
    "len(cont), len(cat)"
   ]
  },
  {
   "cell_type": "code",
   "execution_count": 82,
   "metadata": {},
   "outputs": [],
   "source": [
    "to = TabularPandas(df_rf_emb, procs, cat, cont, y_names=dep_var, splits=f(df_rf_emb))"
   ]
  },
  {
   "cell_type": "code",
   "execution_count": 83,
   "metadata": {},
   "outputs": [],
   "source": [
    "xs,y = to.train.xs,to.train.y\n",
    "valid_xs,valid_y = to.valid.xs,to.valid.y"
   ]
  },
  {
   "cell_type": "code",
   "execution_count": 84,
   "metadata": {},
   "outputs": [
    {
     "data": {
      "text/plain": [
       "(0.130199, 0.134588)"
      ]
     },
     "execution_count": 84,
     "metadata": {},
     "output_type": "execute_result"
    }
   ],
   "source": [
    "m = rf(xs, y)\n",
    "m_rmse(m, xs, y), m_rmse(m, valid_xs, valid_y)"
   ]
  },
  {
   "cell_type": "markdown",
   "metadata": {},
   "source": [
    "The results relative to the previous rf have improved slightly (13.6 to 13.4)"
   ]
  },
  {
   "cell_type": "code",
   "execution_count": 85,
   "metadata": {},
   "outputs": [
    {
     "data": {
      "image/png": "[encoded data removed]",
      "text/plain": [
       "<Figure size 864x504 with 1 Axes>"
      ]
     },
     "metadata": {
      "needs_background": "light"
     },
     "output_type": "display_data"
    }
   ],
   "source": [
    "fi = rf_feat_importance(m, xs)\n",
    "plot_fi(fi[:20]);"
   ]
  }
 ],
 "metadata": {
  "kernelspec": {
   "display_name": "Python 3",
   "language": "python",
   "name": "python3"
  },
  "language_info": {
   "codemirror_mode": {
    "name": "ipython",
    "version": 3
   },
   "file_extension": ".py",
   "mimetype": "text/x-python",
   "name": "python",
   "nbconvert_exporter": "python",
   "pygments_lexer": "ipython3",
   "version": "3.8.6"
  }
 },
 "nbformat": 4,
 "nbformat_minor": 4
}
