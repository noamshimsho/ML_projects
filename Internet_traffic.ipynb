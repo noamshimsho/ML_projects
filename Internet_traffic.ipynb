{
 "cells": [
  {
   "cell_type": "markdown",
   "metadata": {},
   "source": [
    "\n",
    "# Traffic Source quality analysis\n",
    "The problem - estimation of internet traffic from a small sample of users (traffic source). In this assignment, you are asked to evaluate the quality of three potential such sources.\n",
    "\n",
    "Provided input\n",
    "\n",
    "Attached are two data files: Learning set contains actual traffic measurements for each site, Sources contain traffic measurement from a sample of internet users.\n",
    "-\tSourceID - Identifies the source which sample the row belongs\n",
    "-\tSite - the domain name of the site (for example google.com). \n",
    "-\tNumber of Visits - an Internet traffic metric representing the number of visits to each site for that source. \n"
   ]
  },
  {
   "cell_type": "code",
   "execution_count": 1,
   "metadata": {},
   "outputs": [],
   "source": [
    "import pandas as pd\n",
    "import matplotlib.pyplot as plt\n",
    "import numpy as np\n",
    "import seaborn as sns\n",
    "pd.set_option('display.float_format', '{:.3f}'.format)"
   ]
  },
  {
   "cell_type": "markdown",
   "metadata": {},
   "source": [
    "## Explore The Learning Set \n",
    "\n",
    "contains actual traffic measurements for each site"
   ]
  },
  {
   "cell_type": "code",
   "execution_count": 2,
   "metadata": {},
   "outputs": [
    {
     "name": "stdout",
     "output_type": "stream",
     "text": [
      "The learning set has 9699 rows and 2 columns\n"
     ]
    },
    {
     "data": {
      "text/html": [
       "<div>\n",
       "<style scoped>\n",
       "    .dataframe tbody tr th:only-of-type {\n",
       "        vertical-align: middle;\n",
       "    }\n",
       "\n",
       "    .dataframe tbody tr th {\n",
       "        vertical-align: top;\n",
       "    }\n",
       "\n",
       "    .dataframe thead th {\n",
       "        text-align: right;\n",
       "    }\n",
       "</style>\n",
       "<table border=\"1\" class=\"dataframe\">\n",
       "  <thead>\n",
       "    <tr style=\"text-align: right;\">\n",
       "      <th></th>\n",
       "      <th>Site</th>\n",
       "      <th>Visits</th>\n",
       "    </tr>\n",
       "  </thead>\n",
       "  <tbody>\n",
       "    <tr>\n",
       "      <th>0</th>\n",
       "      <td>06880danwoog.com*</td>\n",
       "      <td>36280</td>\n",
       "    </tr>\n",
       "    <tr>\n",
       "      <th>1</th>\n",
       "      <td>0800-horoscope.com*</td>\n",
       "      <td>120690</td>\n",
       "    </tr>\n",
       "    <tr>\n",
       "      <th>2</th>\n",
       "      <td>10000boatnames.com*</td>\n",
       "      <td>6858</td>\n",
       "    </tr>\n",
       "    <tr>\n",
       "      <th>3</th>\n",
       "      <td>100bestvacations.com*</td>\n",
       "      <td>12891</td>\n",
       "    </tr>\n",
       "    <tr>\n",
       "      <th>4</th>\n",
       "      <td>100stuartstreet.com*</td>\n",
       "      <td>9758</td>\n",
       "    </tr>\n",
       "    <tr>\n",
       "      <th>5</th>\n",
       "      <td>1013.com*</td>\n",
       "      <td>77314</td>\n",
       "    </tr>\n",
       "    <tr>\n",
       "      <th>6</th>\n",
       "      <td>1015store.com*</td>\n",
       "      <td>285488</td>\n",
       "    </tr>\n",
       "    <tr>\n",
       "      <th>7</th>\n",
       "      <td>101kgb.com*</td>\n",
       "      <td>76934</td>\n",
       "    </tr>\n",
       "  </tbody>\n",
       "</table>\n",
       "</div>"
      ],
      "text/plain": [
       "                    Site  Visits\n",
       "0      06880danwoog.com*   36280\n",
       "1    0800-horoscope.com*  120690\n",
       "2    10000boatnames.com*    6858\n",
       "3  100bestvacations.com*   12891\n",
       "4   100stuartstreet.com*    9758\n",
       "5              1013.com*   77314\n",
       "6         1015store.com*  285488\n",
       "7            101kgb.com*   76934"
      ]
     },
     "execution_count": 2,
     "metadata": {},
     "output_type": "execute_result"
    }
   ],
   "source": [
    "# Load the data \n",
    "LSet_df = pd.read_csv(\"LearningSet.csv\", sep=\"\\t\")\n",
    "rows, columns = LSet_df.shape\n",
    "print(f\"The learning set has {rows} rows and {columns} columns\")\n",
    "LSet_df.head(8)"
   ]
  },
  {
   "cell_type": "code",
   "execution_count": 3,
   "metadata": {},
   "outputs": [
    {
     "data": {
      "text/html": [
       "<div>\n",
       "<style scoped>\n",
       "    .dataframe tbody tr th:only-of-type {\n",
       "        vertical-align: middle;\n",
       "    }\n",
       "\n",
       "    .dataframe tbody tr th {\n",
       "        vertical-align: top;\n",
       "    }\n",
       "\n",
       "    .dataframe thead th {\n",
       "        text-align: right;\n",
       "    }\n",
       "</style>\n",
       "<table border=\"1\" class=\"dataframe\">\n",
       "  <thead>\n",
       "    <tr style=\"text-align: right;\">\n",
       "      <th></th>\n",
       "      <th>Site</th>\n",
       "      <th>Visits</th>\n",
       "    </tr>\n",
       "  </thead>\n",
       "  <tbody>\n",
       "    <tr>\n",
       "      <th>8738</th>\n",
       "      <td>tumblr.com*</td>\n",
       "      <td>261974470</td>\n",
       "    </tr>\n",
       "    <tr>\n",
       "      <th>4284</th>\n",
       "      <td>huffingtonpost.com*</td>\n",
       "      <td>245887198</td>\n",
       "    </tr>\n",
       "    <tr>\n",
       "      <th>5115</th>\n",
       "      <td>linkedin.com*</td>\n",
       "      <td>232618922</td>\n",
       "    </tr>\n",
       "    <tr>\n",
       "      <th>9435</th>\n",
       "      <td>wordpress.com*</td>\n",
       "      <td>105976942</td>\n",
       "    </tr>\n",
       "    <tr>\n",
       "      <th>2517</th>\n",
       "      <td>drudgereport.com*</td>\n",
       "      <td>97594902</td>\n",
       "    </tr>\n",
       "    <tr>\n",
       "      <th>9318</th>\n",
       "      <td>wikia.com*</td>\n",
       "      <td>76239916</td>\n",
       "    </tr>\n",
       "    <tr>\n",
       "      <th>6953</th>\n",
       "      <td>recipecorner.com*</td>\n",
       "      <td>73906493</td>\n",
       "    </tr>\n",
       "    <tr>\n",
       "      <th>7158</th>\n",
       "      <td>rss2search.com*</td>\n",
       "      <td>73083711</td>\n",
       "    </tr>\n",
       "    <tr>\n",
       "      <th>1325</th>\n",
       "      <td>buzzfeed.com*</td>\n",
       "      <td>71304869</td>\n",
       "    </tr>\n",
       "    <tr>\n",
       "      <th>9589</th>\n",
       "      <td>yelp.com*</td>\n",
       "      <td>69826928</td>\n",
       "    </tr>\n",
       "  </tbody>\n",
       "</table>\n",
       "</div>"
      ],
      "text/plain": [
       "                     Site     Visits\n",
       "8738          tumblr.com*  261974470\n",
       "4284  huffingtonpost.com*  245887198\n",
       "5115        linkedin.com*  232618922\n",
       "9435       wordpress.com*  105976942\n",
       "2517    drudgereport.com*   97594902\n",
       "9318           wikia.com*   76239916\n",
       "6953    recipecorner.com*   73906493\n",
       "7158      rss2search.com*   73083711\n",
       "1325        buzzfeed.com*   71304869\n",
       "9589            yelp.com*   69826928"
      ]
     },
     "execution_count": 3,
     "metadata": {},
     "output_type": "execute_result"
    }
   ],
   "source": [
    "# Look at the top sites \n",
    "LSet_df.nlargest(10, 'Visits')"
   ]
  },
  {
   "cell_type": "code",
   "execution_count": 4,
   "metadata": {},
   "outputs": [
    {
     "data": {
      "text/html": [
       "<div>\n",
       "<style scoped>\n",
       "    .dataframe tbody tr th:only-of-type {\n",
       "        vertical-align: middle;\n",
       "    }\n",
       "\n",
       "    .dataframe tbody tr th {\n",
       "        vertical-align: top;\n",
       "    }\n",
       "\n",
       "    .dataframe thead th {\n",
       "        text-align: right;\n",
       "    }\n",
       "</style>\n",
       "<table border=\"1\" class=\"dataframe\">\n",
       "  <thead>\n",
       "    <tr style=\"text-align: right;\">\n",
       "      <th></th>\n",
       "      <th>Site</th>\n",
       "      <th>Visits</th>\n",
       "    </tr>\n",
       "  </thead>\n",
       "  <tbody>\n",
       "    <tr>\n",
       "      <th>5095</th>\n",
       "      <td>liferemix.net*</td>\n",
       "      <td>5001</td>\n",
       "    </tr>\n",
       "    <tr>\n",
       "      <th>2898</th>\n",
       "      <td>ey.jobs*</td>\n",
       "      <td>5002</td>\n",
       "    </tr>\n",
       "    <tr>\n",
       "      <th>2973</th>\n",
       "      <td>farmtalknewspaper.com*</td>\n",
       "      <td>5002</td>\n",
       "    </tr>\n",
       "    <tr>\n",
       "      <th>4799</th>\n",
       "      <td>kidventurous.com*</td>\n",
       "      <td>5002</td>\n",
       "    </tr>\n",
       "    <tr>\n",
       "      <th>3577</th>\n",
       "      <td>gethrassistantjobs.com*</td>\n",
       "      <td>5005</td>\n",
       "    </tr>\n",
       "    <tr>\n",
       "      <th>9233</th>\n",
       "      <td>westfargopioneer.com*</td>\n",
       "      <td>5006</td>\n",
       "    </tr>\n",
       "    <tr>\n",
       "      <th>1041</th>\n",
       "      <td>blackweb20.com*</td>\n",
       "      <td>5020</td>\n",
       "    </tr>\n",
       "    <tr>\n",
       "      <th>6806</th>\n",
       "      <td>pups-seeking-homes.com*</td>\n",
       "      <td>5020</td>\n",
       "    </tr>\n",
       "    <tr>\n",
       "      <th>1161</th>\n",
       "      <td>bountyfishing.com*</td>\n",
       "      <td>5021</td>\n",
       "    </tr>\n",
       "    <tr>\n",
       "      <th>5141</th>\n",
       "      <td>live4ever.uk.com*</td>\n",
       "      <td>5022</td>\n",
       "    </tr>\n",
       "  </tbody>\n",
       "</table>\n",
       "</div>"
      ],
      "text/plain": [
       "                         Site  Visits\n",
       "5095           liferemix.net*    5001\n",
       "2898                 ey.jobs*    5002\n",
       "2973   farmtalknewspaper.com*    5002\n",
       "4799        kidventurous.com*    5002\n",
       "3577  gethrassistantjobs.com*    5005\n",
       "9233    westfargopioneer.com*    5006\n",
       "1041          blackweb20.com*    5020\n",
       "6806  pups-seeking-homes.com*    5020\n",
       "1161       bountyfishing.com*    5021\n",
       "5141        live4ever.uk.com*    5022"
      ]
     },
     "execution_count": 4,
     "metadata": {},
     "output_type": "execute_result"
    }
   ],
   "source": [
    "# and the weak sites..\n",
    "LSet_df.nsmallest(10, 'Visits')"
   ]
  },
  {
   "cell_type": "markdown",
   "metadata": {},
   "source": [
    "### Descriptive statistics"
   ]
  },
  {
   "cell_type": "code",
   "execution_count": 5,
   "metadata": {},
   "outputs": [
    {
     "data": {
      "text/html": [
       "<div>\n",
       "<style scoped>\n",
       "    .dataframe tbody tr th:only-of-type {\n",
       "        vertical-align: middle;\n",
       "    }\n",
       "\n",
       "    .dataframe tbody tr th {\n",
       "        vertical-align: top;\n",
       "    }\n",
       "\n",
       "    .dataframe thead th {\n",
       "        text-align: right;\n",
       "    }\n",
       "</style>\n",
       "<table border=\"1\" class=\"dataframe\">\n",
       "  <thead>\n",
       "    <tr style=\"text-align: right;\">\n",
       "      <th></th>\n",
       "      <th>Visits</th>\n",
       "    </tr>\n",
       "  </thead>\n",
       "  <tbody>\n",
       "    <tr>\n",
       "      <th>count</th>\n",
       "      <td>9699.000</td>\n",
       "    </tr>\n",
       "    <tr>\n",
       "      <th>mean</th>\n",
       "      <td>649315.583</td>\n",
       "    </tr>\n",
       "    <tr>\n",
       "      <th>std</th>\n",
       "      <td>5558450.522</td>\n",
       "    </tr>\n",
       "    <tr>\n",
       "      <th>min</th>\n",
       "      <td>5001.000</td>\n",
       "    </tr>\n",
       "    <tr>\n",
       "      <th>25%</th>\n",
       "      <td>14244.500</td>\n",
       "    </tr>\n",
       "    <tr>\n",
       "      <th>50%</th>\n",
       "      <td>41195.000</td>\n",
       "    </tr>\n",
       "    <tr>\n",
       "      <th>75%</th>\n",
       "      <td>173195.500</td>\n",
       "    </tr>\n",
       "    <tr>\n",
       "      <th>max</th>\n",
       "      <td>261974470.000</td>\n",
       "    </tr>\n",
       "  </tbody>\n",
       "</table>\n",
       "</div>"
      ],
      "text/plain": [
       "             Visits\n",
       "count      9699.000\n",
       "mean     649315.583\n",
       "std     5558450.522\n",
       "min        5001.000\n",
       "25%       14244.500\n",
       "50%       41195.000\n",
       "75%      173195.500\n",
       "max   261974470.000"
      ]
     },
     "execution_count": 5,
     "metadata": {},
     "output_type": "execute_result"
    }
   ],
   "source": [
    "LSet_df.describe()"
   ]
  },
  {
   "cell_type": "markdown",
   "metadata": {},
   "source": [
    "- There are 9699 sites.\n",
    "- The range of visits is between 5,001 - 261,974,470 (very wide)\n",
    "- The mean (649,315) is much larger than the median (41,195)"
   ]
  },
  {
   "cell_type": "markdown",
   "metadata": {},
   "source": [
    "### Data Distribution"
   ]
  },
  {
   "cell_type": "code",
   "execution_count": 6,
   "metadata": {},
   "outputs": [
    {
     "data": {
      "text/plain": [
       "739297.8000000006"
      ]
     },
     "execution_count": 6,
     "metadata": {},
     "output_type": "execute_result"
    }
   ],
   "source": [
    "LSet_df['Visits'].quantile(0.9)"
   ]
  },
  {
   "cell_type": "code",
   "execution_count": 7,
   "metadata": {},
   "outputs": [
    {
     "data": {
      "image/png": "[encoded data removed]",
      "text/plain": [
       "<Figure size 360x360 with 1 Axes>"
      ]
     },
     "metadata": {
      "needs_background": "light"
     },
     "output_type": "display_data"
    }
   ],
   "source": [
    "# Because the wide range of 'visits', the plot shows up to the 90th percentile\n",
    "flt = LSet_df['Visits'] < LSet_df['Visits'].quantile(0.9)\n",
    "g = sns.displot(LSet_df.loc[flt]['Visits'])\n",
    "g = plt.title(\"Visits Histogram\")"
   ]
  },
  {
   "cell_type": "code",
   "execution_count": 8,
   "metadata": {},
   "outputs": [
    {
     "data": {
      "text/plain": [
       "0.100        7650.400\n",
       "0.200       11404.400\n",
       "0.300       17648.200\n",
       "0.400       27018.600\n",
       "0.500       41195.000\n",
       "0.600       66966.600\n",
       "0.700      120437.200\n",
       "0.800      254711.200\n",
       "0.900      739297.800\n",
       "1.000   261974470.000\n",
       "Name: Visits, dtype: float64"
      ]
     },
     "execution_count": 8,
     "metadata": {},
     "output_type": "execute_result"
    }
   ],
   "source": [
    "# the border of each percentile\n",
    "percentile_border = LSet_df['Visits'].quantile(np.linspace(0.1,1,10))\n",
    "percentile_border"
   ]
  },
  {
   "cell_type": "code",
   "execution_count": 9,
   "metadata": {},
   "outputs": [
    {
     "data": {
      "text/html": [
       "<div>\n",
       "<style scoped>\n",
       "    .dataframe tbody tr th:only-of-type {\n",
       "        vertical-align: middle;\n",
       "    }\n",
       "\n",
       "    .dataframe tbody tr th {\n",
       "        vertical-align: top;\n",
       "    }\n",
       "\n",
       "    .dataframe thead th {\n",
       "        text-align: right;\n",
       "    }\n",
       "</style>\n",
       "<table border=\"1\" class=\"dataframe\">\n",
       "  <thead>\n",
       "    <tr style=\"text-align: right;\">\n",
       "      <th></th>\n",
       "      <th>Site</th>\n",
       "      <th>Visits</th>\n",
       "      <th>percentile</th>\n",
       "    </tr>\n",
       "  </thead>\n",
       "  <tbody>\n",
       "    <tr>\n",
       "      <th>0</th>\n",
       "      <td>06880danwoog.com*</td>\n",
       "      <td>36280</td>\n",
       "      <td>p50</td>\n",
       "    </tr>\n",
       "    <tr>\n",
       "      <th>1</th>\n",
       "      <td>0800-horoscope.com*</td>\n",
       "      <td>120690</td>\n",
       "      <td>p80</td>\n",
       "    </tr>\n",
       "    <tr>\n",
       "      <th>2</th>\n",
       "      <td>10000boatnames.com*</td>\n",
       "      <td>6858</td>\n",
       "      <td>p10</td>\n",
       "    </tr>\n",
       "    <tr>\n",
       "      <th>3</th>\n",
       "      <td>100bestvacations.com*</td>\n",
       "      <td>12891</td>\n",
       "      <td>p30</td>\n",
       "    </tr>\n",
       "    <tr>\n",
       "      <th>4</th>\n",
       "      <td>100stuartstreet.com*</td>\n",
       "      <td>9758</td>\n",
       "      <td>p20</td>\n",
       "    </tr>\n",
       "    <tr>\n",
       "      <th>...</th>\n",
       "      <td>...</td>\n",
       "      <td>...</td>\n",
       "      <td>...</td>\n",
       "    </tr>\n",
       "    <tr>\n",
       "      <th>9694</th>\n",
       "      <td>zurinstitute.com*</td>\n",
       "      <td>28788</td>\n",
       "      <td>p50</td>\n",
       "    </tr>\n",
       "    <tr>\n",
       "      <th>9695</th>\n",
       "      <td>zvents.com*</td>\n",
       "      <td>740008</td>\n",
       "      <td>p100</td>\n",
       "    </tr>\n",
       "    <tr>\n",
       "      <th>9696</th>\n",
       "      <td>zx6r.com*</td>\n",
       "      <td>57444</td>\n",
       "      <td>p60</td>\n",
       "    </tr>\n",
       "    <tr>\n",
       "      <th>9697</th>\n",
       "      <td>zybez.net*</td>\n",
       "      <td>1237033</td>\n",
       "      <td>p100</td>\n",
       "    </tr>\n",
       "    <tr>\n",
       "      <th>9698</th>\n",
       "      <td>zzinsider.com*</td>\n",
       "      <td>32145</td>\n",
       "      <td>p50</td>\n",
       "    </tr>\n",
       "  </tbody>\n",
       "</table>\n",
       "<p>9699 rows × 3 columns</p>\n",
       "</div>"
      ],
      "text/plain": [
       "                       Site   Visits percentile\n",
       "0         06880danwoog.com*    36280        p50\n",
       "1       0800-horoscope.com*   120690        p80\n",
       "2       10000boatnames.com*     6858        p10\n",
       "3     100bestvacations.com*    12891        p30\n",
       "4      100stuartstreet.com*     9758        p20\n",
       "...                     ...      ...        ...\n",
       "9694      zurinstitute.com*    28788        p50\n",
       "9695            zvents.com*   740008       p100\n",
       "9696              zx6r.com*    57444        p60\n",
       "9697             zybez.net*  1237033       p100\n",
       "9698         zzinsider.com*    32145        p50\n",
       "\n",
       "[9699 rows x 3 columns]"
      ]
     },
     "execution_count": 9,
     "metadata": {},
     "output_type": "execute_result"
    }
   ],
   "source": [
    "# add the percentile to each row\n",
    "\n",
    "percentile_border = percentile_border.to_list()\n",
    "percentile_names = ['p10','p20','p30','p40','p50','p60','p70','p80','p90','p100']\n",
    "\n",
    "def percentile(x, percentile_border, percentile_names):\n",
    "    for i in range(len(percentile_names)):\n",
    "        if x <= percentile_border[i]:\n",
    "            return percentile_names[i]\n",
    "    \n",
    "LSet_df['percentile'] = LSet_df['Visits'].apply(percentile, args=(percentile_border,percentile_names))\n",
    "LSet_df"
   ]
  },
  {
   "cell_type": "code",
   "execution_count": 10,
   "metadata": {},
   "outputs": [
    {
     "data": {
      "text/plain": [
       "[2649, 3754, 6244, 9370, 14176, 25772, 53471, 134274, 484587, 261235172]"
      ]
     },
     "execution_count": 10,
     "metadata": {},
     "output_type": "execute_result"
    }
   ],
   "source": [
    "# the range of each percentile\n",
    "xdiff = list(np.diff(percentile_border))\n",
    "xdiff.insert(0, percentile_border[0] - LSet_df['Visits'].min())\n",
    "xdiff = list(map(round,xdiff))\n",
    "xdiff"
   ]
  },
  {
   "cell_type": "code",
   "execution_count": 11,
   "metadata": {},
   "outputs": [
    {
     "data": {
      "image/png": "[encoded data removed]",
      "text/plain": [
       "<Figure size 432x288 with 1 Axes>"
      ]
     },
     "metadata": {
      "needs_background": "light"
     },
     "output_type": "display_data"
    }
   ],
   "source": [
    "bar = plt.bar(x = percentile_names[:-1], height=xdiff[:-1])\n",
    "for rect in bar:\n",
    "    height = rect.get_height()\n",
    "    plt.text(rect.get_x() + rect.get_width()/2.0, height, int(height), ha='center', va='bottom',fontweight='bold', size=10,color='black')\n",
    "bar = plt.title('Range of each percentile')\n",
    "bar = plt.xlabel('Percentile')\n",
    "bar = plt.ylabel('Range')"
   ]
  },
  {
   "cell_type": "markdown",
   "metadata": {},
   "source": [
    "### Log Scale\n",
    "to handle the wide range more easily, we use log scale"
   ]
  },
  {
   "cell_type": "code",
   "execution_count": 12,
   "metadata": {},
   "outputs": [],
   "source": [
    "LSet_df['log_visit'] = np.log(LSet_df['Visits'])"
   ]
  },
  {
   "cell_type": "code",
   "execution_count": 13,
   "metadata": {},
   "outputs": [
    {
     "data": {
      "text/plain": [
       "count   9699.000\n",
       "mean      10.982\n",
       "std        1.794\n",
       "min        8.517\n",
       "25%        9.564\n",
       "50%       10.626\n",
       "75%       12.062\n",
       "max       19.384\n",
       "Name: log_visit, dtype: float64"
      ]
     },
     "execution_count": 13,
     "metadata": {},
     "output_type": "execute_result"
    }
   ],
   "source": [
    "LSet_df['log_visit'].describe()"
   ]
  },
  {
   "cell_type": "code",
   "execution_count": 14,
   "metadata": {},
   "outputs": [
    {
     "data": {
      "image/png": "[encoded data removed]",
      "text/plain": [
       "<Figure size 360x360 with 1 Axes>"
      ]
     },
     "metadata": {
      "needs_background": "light"
     },
     "output_type": "display_data"
    }
   ],
   "source": [
    "g = sns.displot(LSet_df['log_visit'])"
   ]
  },
  {
   "cell_type": "code",
   "execution_count": 15,
   "metadata": {},
   "outputs": [
    {
     "data": {
      "image/png": "[encoded data removed]",
      "text/plain": [
       "<Figure size 360x360 with 1 Axes>"
      ]
     },
     "metadata": {
      "needs_background": "light"
     },
     "output_type": "display_data"
    }
   ],
   "source": [
    "box_plot = sns.catplot(y = 'log_visit', data=LSet_df, kind='box' )\n",
    "ax = box_plot.ax\n",
    "lines = ax.get_lines()\n",
    "# 0 -> p25 1 -> p75 2 -> lower whisker 3 -> upper whisker 4 -> p50 5 -> upper extreme value\n",
    "p25 = round(lines[0].get_ydata()[0],2)\n",
    "p75 = round(lines[1].get_ydata()[0],2)\n",
    "p50 = round(lines[4].get_ydata()[0],2)\n",
    "t = ax.text(0, p25, f'{p25} (p25)', ha='center', va='center', fontweight='bold', size=10,color='black')\n",
    "t = ax.text(0, p75, f'{p75} (p75)', ha='center', va='center', fontweight='bold', size=10,color='black')\n",
    "t = ax.text(0, p50, f'{p50} (p50)', ha='center', va='center', fontweight='bold', size=10,color='black')\n"
   ]
  },
  {
   "cell_type": "markdown",
   "metadata": {},
   "source": [
    "### conclusion \n",
    "- 'visits' have wide range of values (5,000 - 261,974,470)\n",
    "- Most sites have a small number of visits, and as the number of visits increases, the number of those sites decreases \n",
    "- Log scaling reduce this range to (8.517 - 19.384) and enables us to plot all the dots."
   ]
  },
  {
   "cell_type": "markdown",
   "metadata": {},
   "source": [
    "## Explore The Sources Data\n",
    "Sources contain traffic measurement from 3 internet users"
   ]
  },
  {
   "cell_type": "code",
   "execution_count": 16,
   "metadata": {},
   "outputs": [
    {
     "name": "stdout",
     "output_type": "stream",
     "text": [
      "(18652, 3)\n"
     ]
    },
    {
     "data": {
      "text/html": [
       "<div>\n",
       "<style scoped>\n",
       "    .dataframe tbody tr th:only-of-type {\n",
       "        vertical-align: middle;\n",
       "    }\n",
       "\n",
       "    .dataframe tbody tr th {\n",
       "        vertical-align: top;\n",
       "    }\n",
       "\n",
       "    .dataframe thead th {\n",
       "        text-align: right;\n",
       "    }\n",
       "</style>\n",
       "<table border=\"1\" class=\"dataframe\">\n",
       "  <thead>\n",
       "    <tr style=\"text-align: right;\">\n",
       "      <th></th>\n",
       "      <th>SourceID</th>\n",
       "      <th>Site</th>\n",
       "      <th>Visits</th>\n",
       "    </tr>\n",
       "  </thead>\n",
       "  <tbody>\n",
       "    <tr>\n",
       "      <th>0</th>\n",
       "      <td>1</td>\n",
       "      <td>06880danwoog.com*</td>\n",
       "      <td>745</td>\n",
       "    </tr>\n",
       "    <tr>\n",
       "      <th>1</th>\n",
       "      <td>1</td>\n",
       "      <td>0800-horoscope.com*</td>\n",
       "      <td>885</td>\n",
       "    </tr>\n",
       "    <tr>\n",
       "      <th>2</th>\n",
       "      <td>1</td>\n",
       "      <td>10000boatnames.com*</td>\n",
       "      <td>74</td>\n",
       "    </tr>\n",
       "    <tr>\n",
       "      <th>3</th>\n",
       "      <td>1</td>\n",
       "      <td>100bestvacations.com*</td>\n",
       "      <td>105</td>\n",
       "    </tr>\n",
       "    <tr>\n",
       "      <th>4</th>\n",
       "      <td>1</td>\n",
       "      <td>100stuartstreet.com*</td>\n",
       "      <td>187</td>\n",
       "    </tr>\n",
       "  </tbody>\n",
       "</table>\n",
       "</div>"
      ],
      "text/plain": [
       "   SourceID                   Site  Visits\n",
       "0         1      06880danwoog.com*     745\n",
       "1         1    0800-horoscope.com*     885\n",
       "2         1    10000boatnames.com*      74\n",
       "3         1  100bestvacations.com*     105\n",
       "4         1   100stuartstreet.com*     187"
      ]
     },
     "execution_count": 16,
     "metadata": {},
     "output_type": "execute_result"
    }
   ],
   "source": [
    "sources_df = pd.read_csv(\"Sources.csv\", sep=\"\\t\")\n",
    "print(sources_df.shape)\n",
    "sources_df.head()"
   ]
  },
  {
   "cell_type": "code",
   "execution_count": 17,
   "metadata": {},
   "outputs": [
    {
     "data": {
      "image/png": "[encoded data removed]",
      "text/plain": [
       "<Figure size 360x360 with 1 Axes>"
      ]
     },
     "metadata": {
      "needs_background": "light"
     },
     "output_type": "display_data"
    }
   ],
   "source": [
    "# how many sites each source visit \n",
    "total_sites = LSet_df.shape[0]\n",
    "g = sns.catplot(x='SourceID', data = sources_df, kind='count')\n",
    "\n",
    "for rect in g.ax.patches:\n",
    "    height = rect.get_height()\n",
    "    percentage = round(height/total_sites * 100.0,3)\n",
    "    x = rect.get_x() + rect.get_width()/2.0\n",
    "    plt.text(x, height, f'{percentage}%', ha='center', va='bottom',fontweight='bold', size=10,color='black')\n",
    "\n",
    "g = plt.title('Number of sites')"
   ]
  },
  {
   "cell_type": "code",
   "execution_count": 18,
   "metadata": {},
   "outputs": [
    {
     "data": {
      "image/png": "[encoded data removed]",
      "text/plain": [
       "<Figure size 432x288 with 1 Axes>"
      ]
     },
     "metadata": {
      "needs_background": "light"
     },
     "output_type": "display_data"
    }
   ],
   "source": [
    "# how many visits each source has\n",
    "source_visit_sum = sources_df.groupby(['SourceID'])['Visits'].sum().to_dict()\n",
    "\n",
    "bar = plt.bar(x = list(map(str,source_visit_sum.keys())), height=source_visit_sum.values(),color = ['blue','orange','green'])\n",
    "for rect in bar:\n",
    "    height = rect.get_height()\n",
    "    plt.text(rect.get_x() + rect.get_width()/2.0, height, int(height), ha='center', va='bottom',fontweight='bold', size=10,color='black')\n",
    "bar = plt.title('Number of visits')\n",
    "bar = plt.xlabel('SourceID')\n",
    "bar = plt.ylabel('Sum visits')"
   ]
  },
  {
   "cell_type": "markdown",
   "metadata": {},
   "source": [
    "- user 1 visit most internet sites (87%), although his total traffic is not the highest.\n",
    "- user 3 has the most traffic but visit only (35%) of sites.\n",
    "- user 2 has the least traffic, but he visits (69%) of sites."
   ]
  },
  {
   "cell_type": "markdown",
   "metadata": {},
   "source": [
    "###  Descriptive statistics"
   ]
  },
  {
   "cell_type": "code",
   "execution_count": 19,
   "metadata": {},
   "outputs": [
    {
     "data": {
      "text/html": [
       "<div>\n",
       "<style scoped>\n",
       "    .dataframe tbody tr th:only-of-type {\n",
       "        vertical-align: middle;\n",
       "    }\n",
       "\n",
       "    .dataframe tbody tr th {\n",
       "        vertical-align: top;\n",
       "    }\n",
       "\n",
       "    .dataframe thead th {\n",
       "        text-align: right;\n",
       "    }\n",
       "</style>\n",
       "<table border=\"1\" class=\"dataframe\">\n",
       "  <thead>\n",
       "    <tr style=\"text-align: right;\">\n",
       "      <th></th>\n",
       "      <th>SourceID_1</th>\n",
       "      <th>SourceID_2</th>\n",
       "      <th>SourceID_3</th>\n",
       "    </tr>\n",
       "    <tr>\n",
       "      <th>Site</th>\n",
       "      <th></th>\n",
       "      <th></th>\n",
       "      <th></th>\n",
       "    </tr>\n",
       "  </thead>\n",
       "  <tbody>\n",
       "    <tr>\n",
       "      <th>06880danwoog.com*</th>\n",
       "      <td>745.000</td>\n",
       "      <td>516.000</td>\n",
       "      <td>nan</td>\n",
       "    </tr>\n",
       "    <tr>\n",
       "      <th>0800-horoscope.com*</th>\n",
       "      <td>885.000</td>\n",
       "      <td>1149.000</td>\n",
       "      <td>930.000</td>\n",
       "    </tr>\n",
       "    <tr>\n",
       "      <th>10000boatnames.com*</th>\n",
       "      <td>74.000</td>\n",
       "      <td>nan</td>\n",
       "      <td>nan</td>\n",
       "    </tr>\n",
       "    <tr>\n",
       "      <th>100bestvacations.com*</th>\n",
       "      <td>105.000</td>\n",
       "      <td>nan</td>\n",
       "      <td>nan</td>\n",
       "    </tr>\n",
       "    <tr>\n",
       "      <th>100stuartstreet.com*</th>\n",
       "      <td>187.000</td>\n",
       "      <td>nan</td>\n",
       "      <td>nan</td>\n",
       "    </tr>\n",
       "    <tr>\n",
       "      <th>1013.com*</th>\n",
       "      <td>1251.000</td>\n",
       "      <td>nan</td>\n",
       "      <td>nan</td>\n",
       "    </tr>\n",
       "    <tr>\n",
       "      <th>1015store.com*</th>\n",
       "      <td>3134.000</td>\n",
       "      <td>2404.000</td>\n",
       "      <td>1615.000</td>\n",
       "    </tr>\n",
       "    <tr>\n",
       "      <th>101kgb.com*</th>\n",
       "      <td>1449.000</td>\n",
       "      <td>858.000</td>\n",
       "      <td>1374.000</td>\n",
       "    </tr>\n",
       "  </tbody>\n",
       "</table>\n",
       "</div>"
      ],
      "text/plain": [
       "                       SourceID_1  SourceID_2  SourceID_3\n",
       "Site                                                     \n",
       "06880danwoog.com*         745.000     516.000         nan\n",
       "0800-horoscope.com*       885.000    1149.000     930.000\n",
       "10000boatnames.com*        74.000         nan         nan\n",
       "100bestvacations.com*     105.000         nan         nan\n",
       "100stuartstreet.com*      187.000         nan         nan\n",
       "1013.com*                1251.000         nan         nan\n",
       "1015store.com*           3134.000    2404.000    1615.000\n",
       "101kgb.com*              1449.000     858.000    1374.000"
      ]
     },
     "execution_count": 19,
     "metadata": {},
     "output_type": "execute_result"
    }
   ],
   "source": [
    "pivot = sources_df.pivot_table(index=['Site'],columns=['SourceID'], values='Visits')\n",
    "pivot.columns = ['SourceID_1','SourceID_2','SourceID_3']\n",
    "pivot.head(8)"
   ]
  },
  {
   "cell_type": "code",
   "execution_count": 20,
   "metadata": {},
   "outputs": [
    {
     "data": {
      "text/html": [
       "<div>\n",
       "<style scoped>\n",
       "    .dataframe tbody tr th:only-of-type {\n",
       "        vertical-align: middle;\n",
       "    }\n",
       "\n",
       "    .dataframe tbody tr th {\n",
       "        vertical-align: top;\n",
       "    }\n",
       "\n",
       "    .dataframe thead th {\n",
       "        text-align: right;\n",
       "    }\n",
       "</style>\n",
       "<table border=\"1\" class=\"dataframe\">\n",
       "  <thead>\n",
       "    <tr style=\"text-align: right;\">\n",
       "      <th></th>\n",
       "      <th>SourceID_1</th>\n",
       "      <th>SourceID_2</th>\n",
       "      <th>SourceID_3</th>\n",
       "    </tr>\n",
       "  </thead>\n",
       "  <tbody>\n",
       "    <tr>\n",
       "      <th>count</th>\n",
       "      <td>8502.000</td>\n",
       "      <td>6736.000</td>\n",
       "      <td>3414.000</td>\n",
       "    </tr>\n",
       "    <tr>\n",
       "      <th>mean</th>\n",
       "      <td>8054.234</td>\n",
       "      <td>9060.259</td>\n",
       "      <td>47274.525</td>\n",
       "    </tr>\n",
       "    <tr>\n",
       "      <th>std</th>\n",
       "      <td>75771.271</td>\n",
       "      <td>44879.284</td>\n",
       "      <td>1201798.796</td>\n",
       "    </tr>\n",
       "    <tr>\n",
       "      <th>min</th>\n",
       "      <td>10.000</td>\n",
       "      <td>21.000</td>\n",
       "      <td>23.000</td>\n",
       "    </tr>\n",
       "    <tr>\n",
       "      <th>25%</th>\n",
       "      <td>171.000</td>\n",
       "      <td>301.000</td>\n",
       "      <td>449.000</td>\n",
       "    </tr>\n",
       "    <tr>\n",
       "      <th>50%</th>\n",
       "      <td>520.000</td>\n",
       "      <td>949.000</td>\n",
       "      <td>1945.000</td>\n",
       "    </tr>\n",
       "    <tr>\n",
       "      <th>75%</th>\n",
       "      <td>2008.000</td>\n",
       "      <td>3541.000</td>\n",
       "      <td>7794.500</td>\n",
       "    </tr>\n",
       "    <tr>\n",
       "      <th>max</th>\n",
       "      <td>3713883.000</td>\n",
       "      <td>1341459.000</td>\n",
       "      <td>60908912.000</td>\n",
       "    </tr>\n",
       "  </tbody>\n",
       "</table>\n",
       "</div>"
      ],
      "text/plain": [
       "       SourceID_1  SourceID_2   SourceID_3\n",
       "count    8502.000    6736.000     3414.000\n",
       "mean     8054.234    9060.259    47274.525\n",
       "std     75771.271   44879.284  1201798.796\n",
       "min        10.000      21.000       23.000\n",
       "25%       171.000     301.000      449.000\n",
       "50%       520.000     949.000     1945.000\n",
       "75%      2008.000    3541.000     7794.500\n",
       "max   3713883.000 1341459.000 60908912.000"
      ]
     },
     "execution_count": 20,
     "metadata": {},
     "output_type": "execute_result"
    }
   ],
   "source": [
    "pivot.describe()"
   ]
  },
  {
   "cell_type": "markdown",
   "metadata": {},
   "source": [
    "## Data Distribution"
   ]
  },
  {
   "cell_type": "code",
   "execution_count": 21,
   "metadata": {},
   "outputs": [
    {
     "data": {
      "image/png": "[encoded data removed]",
      "text/plain": [
       "<Figure size 360x360 with 1 Axes>"
      ]
     },
     "metadata": {
      "needs_background": "light"
     },
     "output_type": "display_data"
    },
    {
     "data": {
      "image/png": "[encoded data removed]",
      "text/plain": [
       "<Figure size 360x360 with 1 Axes>"
      ]
     },
     "metadata": {
      "needs_background": "light"
     },
     "output_type": "display_data"
    },
    {
     "data": {
      "image/png": "[encoded data removed]",
      "text/plain": [
       "<Figure size 360x360 with 1 Axes>"
      ]
     },
     "metadata": {
      "needs_background": "light"
     },
     "output_type": "display_data"
    }
   ],
   "source": [
    "for i, column in enumerate(pivot.columns):\n",
    "    flt = pivot[column] < pivot[column].mean() \n",
    "    sns.displot(pivot.loc[flt][column])"
   ]
  },
  {
   "cell_type": "markdown",
   "metadata": {},
   "source": [
    "## Log scale"
   ]
  },
  {
   "cell_type": "code",
   "execution_count": 22,
   "metadata": {},
   "outputs": [],
   "source": [
    "sources_df['log_Visits'] = np.log(sources_df['Visits'])"
   ]
  },
  {
   "cell_type": "code",
   "execution_count": 23,
   "metadata": {},
   "outputs": [
    {
     "data": {
      "image/png": "[encoded data removed]",
      "text/plain": [
       "<Figure size 412.75x360 with 1 Axes>"
      ]
     },
     "metadata": {
      "needs_background": "light"
     },
     "output_type": "display_data"
    }
   ],
   "source": [
    "g = sns.displot(data=sources_df, x=\"log_Visits\", hue=\"SourceID\", palette=['r','g','b'], kind = 'kde')"
   ]
  },
  {
   "cell_type": "code",
   "execution_count": 24,
   "metadata": {},
   "outputs": [
    {
     "data": {
      "image/png": "[encoded data removed]",
      "text/plain": [
       "<Figure size 1782x396 with 3 Axes>"
      ]
     },
     "metadata": {
      "needs_background": "light"
     },
     "output_type": "display_data"
    }
   ],
   "source": [
    "g = sns.FacetGrid(data=sources_df, col='SourceID', height=5.5, aspect=1.5, sharex=False)\n",
    "g = g.map(sns.histplot, 'log_Visits')"
   ]
  },
  {
   "cell_type": "markdown",
   "metadata": {},
   "source": [
    "## Correlation "
   ]
  },
  {
   "cell_type": "markdown",
   "metadata": {},
   "source": [
    "**Linear Correlation - Pearson**"
   ]
  },
  {
   "cell_type": "code",
   "execution_count": 25,
   "metadata": {},
   "outputs": [
    {
     "data": {
      "text/html": [
       "<div>\n",
       "<style scoped>\n",
       "    .dataframe tbody tr th:only-of-type {\n",
       "        vertical-align: middle;\n",
       "    }\n",
       "\n",
       "    .dataframe tbody tr th {\n",
       "        vertical-align: top;\n",
       "    }\n",
       "\n",
       "    .dataframe thead th {\n",
       "        text-align: right;\n",
       "    }\n",
       "</style>\n",
       "<table border=\"1\" class=\"dataframe\">\n",
       "  <thead>\n",
       "    <tr style=\"text-align: right;\">\n",
       "      <th></th>\n",
       "      <th>Site</th>\n",
       "      <th>Visits</th>\n",
       "      <th>percentile</th>\n",
       "      <th>SourceID_1</th>\n",
       "      <th>SourceID_2</th>\n",
       "      <th>SourceID_3</th>\n",
       "    </tr>\n",
       "  </thead>\n",
       "  <tbody>\n",
       "    <tr>\n",
       "      <th>0</th>\n",
       "      <td>06880danwoog.com*</td>\n",
       "      <td>36280</td>\n",
       "      <td>p50</td>\n",
       "      <td>745.000</td>\n",
       "      <td>516.000</td>\n",
       "      <td>nan</td>\n",
       "    </tr>\n",
       "    <tr>\n",
       "      <th>1</th>\n",
       "      <td>0800-horoscope.com*</td>\n",
       "      <td>120690</td>\n",
       "      <td>p80</td>\n",
       "      <td>885.000</td>\n",
       "      <td>1149.000</td>\n",
       "      <td>930.000</td>\n",
       "    </tr>\n",
       "    <tr>\n",
       "      <th>2</th>\n",
       "      <td>10000boatnames.com*</td>\n",
       "      <td>6858</td>\n",
       "      <td>p10</td>\n",
       "      <td>74.000</td>\n",
       "      <td>nan</td>\n",
       "      <td>nan</td>\n",
       "    </tr>\n",
       "    <tr>\n",
       "      <th>3</th>\n",
       "      <td>100bestvacations.com*</td>\n",
       "      <td>12891</td>\n",
       "      <td>p30</td>\n",
       "      <td>105.000</td>\n",
       "      <td>nan</td>\n",
       "      <td>nan</td>\n",
       "    </tr>\n",
       "    <tr>\n",
       "      <th>4</th>\n",
       "      <td>100stuartstreet.com*</td>\n",
       "      <td>9758</td>\n",
       "      <td>p20</td>\n",
       "      <td>187.000</td>\n",
       "      <td>nan</td>\n",
       "      <td>nan</td>\n",
       "    </tr>\n",
       "  </tbody>\n",
       "</table>\n",
       "</div>"
      ],
      "text/plain": [
       "                    Site  Visits percentile  SourceID_1  SourceID_2  \\\n",
       "0      06880danwoog.com*   36280        p50     745.000     516.000   \n",
       "1    0800-horoscope.com*  120690        p80     885.000    1149.000   \n",
       "2    10000boatnames.com*    6858        p10      74.000         nan   \n",
       "3  100bestvacations.com*   12891        p30     105.000         nan   \n",
       "4   100stuartstreet.com*    9758        p20     187.000         nan   \n",
       "\n",
       "   SourceID_3  \n",
       "0         nan  \n",
       "1     930.000  \n",
       "2         nan  \n",
       "3         nan  \n",
       "4         nan  "
      ]
     },
     "execution_count": 25,
     "metadata": {},
     "output_type": "execute_result"
    }
   ],
   "source": [
    "mergedDf = LSet_df.merge(pivot, left_on='Site' ,right_index=True)\n",
    "mergedDf = mergedDf.drop(columns = ['log_visit'])\n",
    "mergedDf.head()"
   ]
  },
  {
   "cell_type": "code",
   "execution_count": 26,
   "metadata": {},
   "outputs": [
    {
     "data": {
      "text/html": [
       "<div>\n",
       "<style scoped>\n",
       "    .dataframe tbody tr th:only-of-type {\n",
       "        vertical-align: middle;\n",
       "    }\n",
       "\n",
       "    .dataframe tbody tr th {\n",
       "        vertical-align: top;\n",
       "    }\n",
       "\n",
       "    .dataframe thead th {\n",
       "        text-align: right;\n",
       "    }\n",
       "</style>\n",
       "<table border=\"1\" class=\"dataframe\">\n",
       "  <thead>\n",
       "    <tr style=\"text-align: right;\">\n",
       "      <th></th>\n",
       "      <th>Visits</th>\n",
       "    </tr>\n",
       "  </thead>\n",
       "  <tbody>\n",
       "    <tr>\n",
       "      <th>Visits</th>\n",
       "      <td>1.000</td>\n",
       "    </tr>\n",
       "    <tr>\n",
       "      <th>SourceID_1</th>\n",
       "      <td>0.939</td>\n",
       "    </tr>\n",
       "    <tr>\n",
       "      <th>SourceID_2</th>\n",
       "      <td>0.906</td>\n",
       "    </tr>\n",
       "    <tr>\n",
       "      <th>SourceID_3</th>\n",
       "      <td>0.248</td>\n",
       "    </tr>\n",
       "  </tbody>\n",
       "</table>\n",
       "</div>"
      ],
      "text/plain": [
       "            Visits\n",
       "Visits       1.000\n",
       "SourceID_1   0.939\n",
       "SourceID_2   0.906\n",
       "SourceID_3   0.248"
      ]
     },
     "execution_count": 26,
     "metadata": {},
     "output_type": "execute_result"
    }
   ],
   "source": [
    "mergedDf.corr(method='pearson')[['Visits']]"
   ]
  },
  {
   "cell_type": "code",
   "execution_count": 27,
   "metadata": {},
   "outputs": [
    {
     "data": {
      "text/html": [
       "<div>\n",
       "<style scoped>\n",
       "    .dataframe tbody tr th:only-of-type {\n",
       "        vertical-align: middle;\n",
       "    }\n",
       "\n",
       "    .dataframe tbody tr th {\n",
       "        vertical-align: top;\n",
       "    }\n",
       "\n",
       "    .dataframe thead th {\n",
       "        text-align: right;\n",
       "    }\n",
       "</style>\n",
       "<table border=\"1\" class=\"dataframe\">\n",
       "  <thead>\n",
       "    <tr style=\"text-align: right;\">\n",
       "      <th></th>\n",
       "      <th>Site</th>\n",
       "      <th>Visits</th>\n",
       "      <th>percentile</th>\n",
       "      <th>SourceID_1</th>\n",
       "      <th>SourceID_2</th>\n",
       "      <th>SourceID_3</th>\n",
       "    </tr>\n",
       "  </thead>\n",
       "  <tbody>\n",
       "    <tr>\n",
       "      <th>0</th>\n",
       "      <td>06880danwoog.com*</td>\n",
       "      <td>10.499</td>\n",
       "      <td>p50</td>\n",
       "      <td>6.613</td>\n",
       "      <td>6.246</td>\n",
       "      <td>nan</td>\n",
       "    </tr>\n",
       "    <tr>\n",
       "      <th>1</th>\n",
       "      <td>0800-horoscope.com*</td>\n",
       "      <td>11.701</td>\n",
       "      <td>p80</td>\n",
       "      <td>6.786</td>\n",
       "      <td>7.047</td>\n",
       "      <td>6.835</td>\n",
       "    </tr>\n",
       "    <tr>\n",
       "      <th>2</th>\n",
       "      <td>10000boatnames.com*</td>\n",
       "      <td>8.833</td>\n",
       "      <td>p10</td>\n",
       "      <td>4.304</td>\n",
       "      <td>nan</td>\n",
       "      <td>nan</td>\n",
       "    </tr>\n",
       "    <tr>\n",
       "      <th>3</th>\n",
       "      <td>100bestvacations.com*</td>\n",
       "      <td>9.464</td>\n",
       "      <td>p30</td>\n",
       "      <td>4.654</td>\n",
       "      <td>nan</td>\n",
       "      <td>nan</td>\n",
       "    </tr>\n",
       "    <tr>\n",
       "      <th>4</th>\n",
       "      <td>100stuartstreet.com*</td>\n",
       "      <td>9.186</td>\n",
       "      <td>p20</td>\n",
       "      <td>5.231</td>\n",
       "      <td>nan</td>\n",
       "      <td>nan</td>\n",
       "    </tr>\n",
       "  </tbody>\n",
       "</table>\n",
       "</div>"
      ],
      "text/plain": [
       "                    Site  Visits percentile  SourceID_1  SourceID_2  \\\n",
       "0      06880danwoog.com*  10.499        p50       6.613       6.246   \n",
       "1    0800-horoscope.com*  11.701        p80       6.786       7.047   \n",
       "2    10000boatnames.com*   8.833        p10       4.304         nan   \n",
       "3  100bestvacations.com*   9.464        p30       4.654         nan   \n",
       "4   100stuartstreet.com*   9.186        p20       5.231         nan   \n",
       "\n",
       "   SourceID_3  \n",
       "0         nan  \n",
       "1       6.835  \n",
       "2         nan  \n",
       "3         nan  \n",
       "4         nan  "
      ]
     },
     "execution_count": 27,
     "metadata": {},
     "output_type": "execute_result"
    }
   ],
   "source": [
    "mergedDf_log = mergedDf.copy()\n",
    "mergedDf_log['Visits'] = np.log(mergedDf_log['Visits'])\n",
    "mergedDf_log['SourceID_1'] = np.log(mergedDf_log['SourceID_1'])\n",
    "mergedDf_log['SourceID_2'] = np.log(mergedDf_log['SourceID_2'])\n",
    "mergedDf_log['SourceID_3'] = np.log(mergedDf_log['SourceID_3'])\n",
    "mergedDf_log.head()"
   ]
  },
  {
   "cell_type": "code",
   "execution_count": 28,
   "metadata": {},
   "outputs": [
    {
     "data": {
      "text/html": [
       "<div>\n",
       "<style scoped>\n",
       "    .dataframe tbody tr th:only-of-type {\n",
       "        vertical-align: middle;\n",
       "    }\n",
       "\n",
       "    .dataframe tbody tr th {\n",
       "        vertical-align: top;\n",
       "    }\n",
       "\n",
       "    .dataframe thead th {\n",
       "        text-align: right;\n",
       "    }\n",
       "</style>\n",
       "<table border=\"1\" class=\"dataframe\">\n",
       "  <thead>\n",
       "    <tr style=\"text-align: right;\">\n",
       "      <th></th>\n",
       "      <th>Visits</th>\n",
       "    </tr>\n",
       "  </thead>\n",
       "  <tbody>\n",
       "    <tr>\n",
       "      <th>Visits</th>\n",
       "      <td>1.000</td>\n",
       "    </tr>\n",
       "    <tr>\n",
       "      <th>SourceID_1</th>\n",
       "      <td>0.947</td>\n",
       "    </tr>\n",
       "    <tr>\n",
       "      <th>SourceID_2</th>\n",
       "      <td>0.967</td>\n",
       "    </tr>\n",
       "    <tr>\n",
       "      <th>SourceID_3</th>\n",
       "      <td>0.982</td>\n",
       "    </tr>\n",
       "  </tbody>\n",
       "</table>\n",
       "</div>"
      ],
      "text/plain": [
       "            Visits\n",
       "Visits       1.000\n",
       "SourceID_1   0.947\n",
       "SourceID_2   0.967\n",
       "SourceID_3   0.982"
      ]
     },
     "execution_count": 28,
     "metadata": {},
     "output_type": "execute_result"
    }
   ],
   "source": [
    "# Pearson correlation after log scale the data.\n",
    "mergedDf_log.corr(method='pearson')[['Visits']]"
   ]
  },
  {
   "cell_type": "code",
   "execution_count": 29,
   "metadata": {},
   "outputs": [
    {
     "data": {
      "image/png": "[encoded data removed]",
      "text/plain": [
       "<Figure size 1440x432 with 3 Axes>"
      ]
     },
     "metadata": {
      "needs_background": "light"
     },
     "output_type": "display_data"
    }
   ],
   "source": [
    "fig, axes = plt.subplots(nrows=1, ncols=3, figsize=(20, 6))\n",
    "for i, column in enumerate(['SourceID_1', 'SourceID_2', 'SourceID_3']):\n",
    "    sns.scatterplot(data=mergedDf_log, x=column, y='Visits', edgecolors='white', s = 40 , ax=axes[i])"
   ]
  },
  {
   "cell_type": "markdown",
   "metadata": {},
   "source": [
    "**Rank Correlation - Spearman and Kendall**"
   ]
  },
  {
   "cell_type": "code",
   "execution_count": 30,
   "metadata": {},
   "outputs": [
    {
     "data": {
      "text/html": [
       "<div>\n",
       "<style scoped>\n",
       "    .dataframe tbody tr th:only-of-type {\n",
       "        vertical-align: middle;\n",
       "    }\n",
       "\n",
       "    .dataframe tbody tr th {\n",
       "        vertical-align: top;\n",
       "    }\n",
       "\n",
       "    .dataframe thead th {\n",
       "        text-align: right;\n",
       "    }\n",
       "</style>\n",
       "<table border=\"1\" class=\"dataframe\">\n",
       "  <thead>\n",
       "    <tr style=\"text-align: right;\">\n",
       "      <th></th>\n",
       "      <th>Visits</th>\n",
       "    </tr>\n",
       "  </thead>\n",
       "  <tbody>\n",
       "    <tr>\n",
       "      <th>Visits</th>\n",
       "      <td>1.000</td>\n",
       "    </tr>\n",
       "    <tr>\n",
       "      <th>SourceID_1</th>\n",
       "      <td>0.935</td>\n",
       "    </tr>\n",
       "    <tr>\n",
       "      <th>SourceID_2</th>\n",
       "      <td>0.963</td>\n",
       "    </tr>\n",
       "    <tr>\n",
       "      <th>SourceID_3</th>\n",
       "      <td>0.983</td>\n",
       "    </tr>\n",
       "  </tbody>\n",
       "</table>\n",
       "</div>"
      ],
      "text/plain": [
       "            Visits\n",
       "Visits       1.000\n",
       "SourceID_1   0.935\n",
       "SourceID_2   0.963\n",
       "SourceID_3   0.983"
      ]
     },
     "execution_count": 30,
     "metadata": {},
     "output_type": "execute_result"
    }
   ],
   "source": [
    "mergedDf.corr(method='spearman')[['Visits']]"
   ]
  },
  {
   "cell_type": "code",
   "execution_count": 31,
   "metadata": {},
   "outputs": [
    {
     "data": {
      "text/html": [
       "<div>\n",
       "<style scoped>\n",
       "    .dataframe tbody tr th:only-of-type {\n",
       "        vertical-align: middle;\n",
       "    }\n",
       "\n",
       "    .dataframe tbody tr th {\n",
       "        vertical-align: top;\n",
       "    }\n",
       "\n",
       "    .dataframe thead th {\n",
       "        text-align: right;\n",
       "    }\n",
       "</style>\n",
       "<table border=\"1\" class=\"dataframe\">\n",
       "  <thead>\n",
       "    <tr style=\"text-align: right;\">\n",
       "      <th></th>\n",
       "      <th>Visits</th>\n",
       "    </tr>\n",
       "  </thead>\n",
       "  <tbody>\n",
       "    <tr>\n",
       "      <th>Visits</th>\n",
       "      <td>1.000</td>\n",
       "    </tr>\n",
       "    <tr>\n",
       "      <th>SourceID_1</th>\n",
       "      <td>0.781</td>\n",
       "    </tr>\n",
       "    <tr>\n",
       "      <th>SourceID_2</th>\n",
       "      <td>0.832</td>\n",
       "    </tr>\n",
       "    <tr>\n",
       "      <th>SourceID_3</th>\n",
       "      <td>0.884</td>\n",
       "    </tr>\n",
       "  </tbody>\n",
       "</table>\n",
       "</div>"
      ],
      "text/plain": [
       "            Visits\n",
       "Visits       1.000\n",
       "SourceID_1   0.781\n",
       "SourceID_2   0.832\n",
       "SourceID_3   0.884"
      ]
     },
     "execution_count": 31,
     "metadata": {},
     "output_type": "execute_result"
    }
   ],
   "source": [
    "mergedDf.corr(method='kendall')[['Visits']]"
   ]
  },
  {
   "cell_type": "markdown",
   "metadata": {},
   "source": [
    "### conclusion \n",
    "There are similarities and differences between the users.\n",
    "\n",
    "Differences:\n",
    "\n",
    "- The amount of traffic.\n",
    "- The range of sites.\n",
    "\n",
    "Similarities:\n",
    "\n",
    "- The distribution of their visits.\n",
    "- The hige correletion to the learning set\n"
   ]
  },
  {
   "cell_type": "markdown",
   "metadata": {},
   "source": [
    "## Estimate the learning set, Linear regression"
   ]
  },
  {
   "cell_type": "code",
   "execution_count": 32,
   "metadata": {},
   "outputs": [],
   "source": [
    "from sklearn import linear_model\n",
    "from sklearn.metrics import r2_score\n",
    "\n",
    "# build linear regression for each user\n",
    "regres = {}\n",
    "for source in ['SourceID_1','SourceID_2','SourceID_3']:\n",
    "    source_Learning = mergedDf_log.loc[:,['Site','Visits',source]].dropna()\n",
    "    X = source_Learning[[source]]\n",
    "    Y = source_Learning['Visits']\n",
    "    regr = linear_model.LinearRegression()\n",
    "    regr.fit(X, Y)\n",
    "    \n",
    "    regres[source] = [regr, X, Y]"
   ]
  },
  {
   "cell_type": "code",
   "execution_count": 33,
   "metadata": {},
   "outputs": [
    {
     "data": {
      "text/html": [
       "<div>\n",
       "<style scoped>\n",
       "    .dataframe tbody tr th:only-of-type {\n",
       "        vertical-align: middle;\n",
       "    }\n",
       "\n",
       "    .dataframe tbody tr th {\n",
       "        vertical-align: top;\n",
       "    }\n",
       "\n",
       "    .dataframe thead th {\n",
       "        text-align: right;\n",
       "    }\n",
       "</style>\n",
       "<table border=\"1\" class=\"dataframe\">\n",
       "  <thead>\n",
       "    <tr style=\"text-align: right;\">\n",
       "      <th></th>\n",
       "      <th>Y</th>\n",
       "      <th>Y_pred</th>\n",
       "    </tr>\n",
       "  </thead>\n",
       "  <tbody>\n",
       "    <tr>\n",
       "      <th>4130</th>\n",
       "      <td>11.460</td>\n",
       "      <td>10.825</td>\n",
       "    </tr>\n",
       "    <tr>\n",
       "      <th>2917</th>\n",
       "      <td>13.422</td>\n",
       "      <td>13.748</td>\n",
       "    </tr>\n",
       "    <tr>\n",
       "      <th>2337</th>\n",
       "      <td>8.722</td>\n",
       "      <td>8.335</td>\n",
       "    </tr>\n",
       "    <tr>\n",
       "      <th>2846</th>\n",
       "      <td>13.706</td>\n",
       "      <td>14.009</td>\n",
       "    </tr>\n",
       "    <tr>\n",
       "      <th>4647</th>\n",
       "      <td>9.969</td>\n",
       "      <td>9.836</td>\n",
       "    </tr>\n",
       "    <tr>\n",
       "      <th>7852</th>\n",
       "      <td>13.838</td>\n",
       "      <td>14.016</td>\n",
       "    </tr>\n",
       "    <tr>\n",
       "      <th>9631</th>\n",
       "      <td>12.226</td>\n",
       "      <td>12.542</td>\n",
       "    </tr>\n",
       "    <tr>\n",
       "      <th>2910</th>\n",
       "      <td>11.485</td>\n",
       "      <td>11.348</td>\n",
       "    </tr>\n",
       "    <tr>\n",
       "      <th>5429</th>\n",
       "      <td>12.269</td>\n",
       "      <td>12.590</td>\n",
       "    </tr>\n",
       "    <tr>\n",
       "      <th>7021</th>\n",
       "      <td>10.886</td>\n",
       "      <td>11.377</td>\n",
       "    </tr>\n",
       "  </tbody>\n",
       "</table>\n",
       "</div>"
      ],
      "text/plain": [
       "          Y  Y_pred\n",
       "4130 11.460  10.825\n",
       "2917 13.422  13.748\n",
       "2337  8.722   8.335\n",
       "2846 13.706  14.009\n",
       "4647  9.969   9.836\n",
       "7852 13.838  14.016\n",
       "9631 12.226  12.542\n",
       "2910 11.485  11.348\n",
       "5429 12.269  12.590\n",
       "7021 10.886  11.377"
      ]
     },
     "execution_count": 33,
     "metadata": {},
     "output_type": "execute_result"
    }
   ],
   "source": [
    "# show predictions of a Linear regression model\n",
    "def show_results(regr, x, y, n_sample=10, indexes=None):\n",
    "    if indexes:\n",
    "        pass\n",
    "    else:\n",
    "        indexes = np.random.choice(x.index.to_list(), n_sample)\n",
    "    x_sample = x.loc[indexes].to_numpy()\n",
    "    y_sample = y.loc[indexes]\n",
    "    y_hat = (x_sample * regr.coef_).sum(axis=1) + regr.intercept_\n",
    "    res = {'Y': y_sample, 'Y_pred': y_hat.squeeze()}\n",
    "    return pd.DataFrame.from_dict(res)\n",
    "\n",
    "show_results(*regres['SourceID_3'])"
   ]
  },
  {
   "cell_type": "code",
   "execution_count": 34,
   "metadata": {},
   "outputs": [
    {
     "data": {
      "text/html": [
       "<div>\n",
       "<style scoped>\n",
       "    .dataframe tbody tr th:only-of-type {\n",
       "        vertical-align: middle;\n",
       "    }\n",
       "\n",
       "    .dataframe tbody tr th {\n",
       "        vertical-align: top;\n",
       "    }\n",
       "\n",
       "    .dataframe thead th {\n",
       "        text-align: right;\n",
       "    }\n",
       "</style>\n",
       "<table border=\"1\" class=\"dataframe\">\n",
       "  <thead>\n",
       "    <tr style=\"text-align: right;\">\n",
       "      <th></th>\n",
       "      <th>Source</th>\n",
       "      <th>coef</th>\n",
       "      <th>intercept</th>\n",
       "      <th>r2_score</th>\n",
       "      <th>mse</th>\n",
       "      <th># sites</th>\n",
       "    </tr>\n",
       "  </thead>\n",
       "  <tbody>\n",
       "    <tr>\n",
       "      <th>0</th>\n",
       "      <td>SourceID_1</td>\n",
       "      <td>0.905</td>\n",
       "      <td>5.308</td>\n",
       "      <td>0.897</td>\n",
       "      <td>0.327</td>\n",
       "      <td>8502</td>\n",
       "    </tr>\n",
       "    <tr>\n",
       "      <th>1</th>\n",
       "      <td>SourceID_2</td>\n",
       "      <td>0.944</td>\n",
       "      <td>4.832</td>\n",
       "      <td>0.936</td>\n",
       "      <td>0.202</td>\n",
       "      <td>6736</td>\n",
       "    </tr>\n",
       "    <tr>\n",
       "      <th>2</th>\n",
       "      <td>SourceID_3</td>\n",
       "      <td>0.968</td>\n",
       "      <td>4.789</td>\n",
       "      <td>0.965</td>\n",
       "      <td>0.139</td>\n",
       "      <td>3414</td>\n",
       "    </tr>\n",
       "  </tbody>\n",
       "</table>\n",
       "</div>"
      ],
      "text/plain": [
       "       Source  coef  intercept  r2_score   mse  # sites\n",
       "0  SourceID_1 0.905      5.308     0.897 0.327     8502\n",
       "1  SourceID_2 0.944      4.832     0.936 0.202     6736\n",
       "2  SourceID_3 0.968      4.789     0.965 0.139     3414"
      ]
     },
     "execution_count": 34,
     "metadata": {},
     "output_type": "execute_result"
    }
   ],
   "source": [
    "# comparison between the models using metrics of MSE and R^2.\n",
    "\n",
    "data = {'Source':[], 'coef':[],'intercept':[] ,'r2_score':[], 'mse':[], '# sites':[]}\n",
    "\n",
    "for source, (regr,x,y) in regres.items():\n",
    "    \n",
    "    y_pred = regr.predict(x)\n",
    "    r2 = round(r2_score(y, y_pred),3)\n",
    "    mse = round(((y_pred - y)**2).mean(),3)\n",
    "    \n",
    "    data['Source'].append(source)\n",
    "    data['coef'].append(round(regr.coef_[0],3))\n",
    "    data['intercept'].append(round(regr.intercept_,3))\n",
    "    data['r2_score'].append(r2)\n",
    "    data['mse'].append(mse)\n",
    "    data['# sites'].append(x.shape[0])\n",
    "    \n",
    "scores_Regression = pd.DataFrame.from_dict(data)\n",
    "scores_Regression"
   ]
  },
  {
   "cell_type": "code",
   "execution_count": 35,
   "metadata": {},
   "outputs": [
    {
     "data": {
      "text/plain": [
       "<matplotlib.legend.Legend at 0x17eb840af40>"
      ]
     },
     "execution_count": 35,
     "metadata": {},
     "output_type": "execute_result"
    },
    {
     "data": {
      "image/png": "[encoded data removed]",
      "text/plain": [
       "<Figure size 432x288 with 1 Axes>"
      ]
     },
     "metadata": {
      "needs_background": "light"
     },
     "output_type": "display_data"
    }
   ],
   "source": [
    "# show the linear regression line\n",
    "regr,x,y = regres['SourceID_2']\n",
    "plt.scatter(x, y, edgecolors='white', s = 40)\n",
    "plt.plot(x, regr.predict(x), color='red', label= f'{round(regr.coef_[0],3)} * X + {round(regr.intercept_,3)}')\n",
    "plt.xlabel('SourceID_2')\n",
    "plt.ylabel('Visits')\n",
    "plt.legend()"
   ]
  },
  {
   "cell_type": "markdown",
   "metadata": {},
   "source": [
    "## polynomial regression"
   ]
  },
  {
   "cell_type": "code",
   "execution_count": 36,
   "metadata": {},
   "outputs": [
    {
     "name": "stdout",
     "output_type": "stream",
     "text": [
      "SourceID_1 order_1 0.897 0.327\n",
      "SourceID_1 order_2 0.902 0.312\n",
      "SourceID_1 order_3 0.906 0.3\n",
      "SourceID_1 order_4 0.907 0.296\n",
      "SourceID_1 order_5 0.907 0.296\n",
      "||||||||||||||||||||||||||||||||||||||\n",
      "SourceID_2 order_1 0.936 0.202\n",
      "SourceID_2 order_2 0.937 0.199\n",
      "SourceID_2 order_3 0.938 0.196\n",
      "SourceID_2 order_4 0.938 0.194\n",
      "SourceID_2 order_5 0.939 0.194\n",
      "||||||||||||||||||||||||||||||||||||||\n",
      "SourceID_3 order_1 0.965 0.139\n",
      "SourceID_3 order_2 0.965 0.137\n",
      "SourceID_3 order_3 0.967 0.131\n",
      "SourceID_3 order_4 0.967 0.131\n",
      "SourceID_3 order_5 0.968 0.128\n",
      "||||||||||||||||||||||||||||||||||||||\n"
     ]
    }
   ],
   "source": [
    "# for each source build polynomial regression model\n",
    "for source in ['SourceID_1','SourceID_2','SourceID_3']: \n",
    "    _, x, y = regres[source]\n",
    "    x = x.squeeze()\n",
    "    for i in range(1,6):\n",
    "        p_order = np.poly1d(np.polyfit(x, y,i))\n",
    "        y_pred =  p_order(x)\n",
    "        r2 = round(r2_score(y, y_pred),3)\n",
    "        mse = round(((y_pred - y)**2).mean(),3)\n",
    "        print(source,'order_'+str(i),r2,mse)\n",
    "    print(\"||||||||||||||||||||||||||||||||||||||\")"
   ]
  },
  {
   "cell_type": "markdown",
   "metadata": {},
   "source": [
    "### conclusion \n",
    "\n",
    "- All 3 users can be used to estimate the learning set with good results, r^2 score above 0.89.\n",
    "\n",
    "- User 3 has the best r^2 score (0.965) and the least mse score (0.139), so he the best estimator. But he visit the least number of sites, and can be used only for those sites.\n",
    "- User 1 on the other hand can be used to estimate 90% of the sites but his result are not the best.\n",
    "- A polynomial regression model showed no improvement, as can be expected, from the plot of the dots that shows Linear relations"
   ]
  },
  {
   "cell_type": "markdown",
   "metadata": {},
   "source": [
    "## Use all three sources - Multiple Regression"
   ]
  },
  {
   "cell_type": "code",
   "execution_count": 37,
   "metadata": {},
   "outputs": [
    {
     "data": {
      "text/plain": [
       "(2932, 6)"
      ]
     },
     "execution_count": 37,
     "metadata": {},
     "output_type": "execute_result"
    }
   ],
   "source": [
    "df_clean = mergedDf_log.dropna()\n",
    "df_clean.shape"
   ]
  },
  {
   "cell_type": "code",
   "execution_count": 38,
   "metadata": {},
   "outputs": [
    {
     "data": {
      "text/html": [
       "<div>\n",
       "<style scoped>\n",
       "    .dataframe tbody tr th:only-of-type {\n",
       "        vertical-align: middle;\n",
       "    }\n",
       "\n",
       "    .dataframe tbody tr th {\n",
       "        vertical-align: top;\n",
       "    }\n",
       "\n",
       "    .dataframe thead th {\n",
       "        text-align: right;\n",
       "    }\n",
       "</style>\n",
       "<table border=\"1\" class=\"dataframe\">\n",
       "  <thead>\n",
       "    <tr style=\"text-align: right;\">\n",
       "      <th></th>\n",
       "      <th>Y</th>\n",
       "      <th>Y_pred</th>\n",
       "    </tr>\n",
       "  </thead>\n",
       "  <tbody>\n",
       "    <tr>\n",
       "      <th>1738</th>\n",
       "      <td>11.682</td>\n",
       "      <td>11.724</td>\n",
       "    </tr>\n",
       "    <tr>\n",
       "      <th>179</th>\n",
       "      <td>14.157</td>\n",
       "      <td>13.889</td>\n",
       "    </tr>\n",
       "    <tr>\n",
       "      <th>4400</th>\n",
       "      <td>9.942</td>\n",
       "      <td>9.864</td>\n",
       "    </tr>\n",
       "    <tr>\n",
       "      <th>4234</th>\n",
       "      <td>10.176</td>\n",
       "      <td>10.299</td>\n",
       "    </tr>\n",
       "    <tr>\n",
       "      <th>481</th>\n",
       "      <td>11.110</td>\n",
       "      <td>11.298</td>\n",
       "    </tr>\n",
       "    <tr>\n",
       "      <th>447</th>\n",
       "      <td>11.228</td>\n",
       "      <td>11.782</td>\n",
       "    </tr>\n",
       "    <tr>\n",
       "      <th>3102</th>\n",
       "      <td>14.893</td>\n",
       "      <td>14.986</td>\n",
       "    </tr>\n",
       "    <tr>\n",
       "      <th>8720</th>\n",
       "      <td>12.592</td>\n",
       "      <td>12.958</td>\n",
       "    </tr>\n",
       "    <tr>\n",
       "      <th>888</th>\n",
       "      <td>10.621</td>\n",
       "      <td>10.833</td>\n",
       "    </tr>\n",
       "    <tr>\n",
       "      <th>9283</th>\n",
       "      <td>10.554</td>\n",
       "      <td>10.655</td>\n",
       "    </tr>\n",
       "  </tbody>\n",
       "</table>\n",
       "</div>"
      ],
      "text/plain": [
       "          Y  Y_pred\n",
       "1738 11.682  11.724\n",
       "179  14.157  13.889\n",
       "4400  9.942   9.864\n",
       "4234 10.176  10.299\n",
       "481  11.110  11.298\n",
       "447  11.228  11.782\n",
       "3102 14.893  14.986\n",
       "8720 12.592  12.958\n",
       "888  10.621  10.833\n",
       "9283 10.554  10.655"
      ]
     },
     "execution_count": 38,
     "metadata": {},
     "output_type": "execute_result"
    }
   ],
   "source": [
    "X = df_clean[['SourceID_1', 'SourceID_2','SourceID_3']]\n",
    "Y = df_clean['Visits']\n",
    "\n",
    "regr = linear_model.LinearRegression()\n",
    "regr.fit(X, Y)\n",
    "Y_pred = regr.predict(X) \n",
    "\n",
    "Source = 'SourceID_1_2_3'\n",
    "coef = [round(x,3)for x in regr.coef_]\n",
    "r2 = round(r2_score(Y, Y_pred),3)\n",
    "mse = round(((Y_pred - Y)**2).mean(),3)\n",
    "n_sites = X.shape[0]\n",
    "\n",
    "df = show_results(regr,X,Y,10)\n",
    "df"
   ]
  },
  {
   "cell_type": "code",
   "execution_count": 39,
   "metadata": {},
   "outputs": [
    {
     "data": {
      "text/html": [
       "<div>\n",
       "<style scoped>\n",
       "    .dataframe tbody tr th:only-of-type {\n",
       "        vertical-align: middle;\n",
       "    }\n",
       "\n",
       "    .dataframe tbody tr th {\n",
       "        vertical-align: top;\n",
       "    }\n",
       "\n",
       "    .dataframe thead th {\n",
       "        text-align: right;\n",
       "    }\n",
       "</style>\n",
       "<table border=\"1\" class=\"dataframe\">\n",
       "  <thead>\n",
       "    <tr style=\"text-align: right;\">\n",
       "      <th></th>\n",
       "      <th>Y</th>\n",
       "      <th>SourceID_1_2_3</th>\n",
       "      <th>SourceID_1</th>\n",
       "      <th>SourceID_2</th>\n",
       "      <th>SourceID_3</th>\n",
       "    </tr>\n",
       "  </thead>\n",
       "  <tbody>\n",
       "    <tr>\n",
       "      <th>1738</th>\n",
       "      <td>11.682</td>\n",
       "      <td>11.724</td>\n",
       "      <td>12.141</td>\n",
       "      <td>11.981</td>\n",
       "      <td>11.350</td>\n",
       "    </tr>\n",
       "    <tr>\n",
       "      <th>179</th>\n",
       "      <td>14.157</td>\n",
       "      <td>13.889</td>\n",
       "      <td>13.982</td>\n",
       "      <td>14.290</td>\n",
       "      <td>13.400</td>\n",
       "    </tr>\n",
       "    <tr>\n",
       "      <th>4400</th>\n",
       "      <td>9.942</td>\n",
       "      <td>9.864</td>\n",
       "      <td>9.399</td>\n",
       "      <td>9.343</td>\n",
       "      <td>10.494</td>\n",
       "    </tr>\n",
       "    <tr>\n",
       "      <th>4234</th>\n",
       "      <td>10.176</td>\n",
       "      <td>10.299</td>\n",
       "      <td>10.706</td>\n",
       "      <td>10.037</td>\n",
       "      <td>10.372</td>\n",
       "    </tr>\n",
       "    <tr>\n",
       "      <th>481</th>\n",
       "      <td>11.110</td>\n",
       "      <td>11.298</td>\n",
       "      <td>10.784</td>\n",
       "      <td>11.494</td>\n",
       "      <td>11.375</td>\n",
       "    </tr>\n",
       "    <tr>\n",
       "      <th>447</th>\n",
       "      <td>11.228</td>\n",
       "      <td>11.782</td>\n",
       "      <td>11.867</td>\n",
       "      <td>11.703</td>\n",
       "      <td>11.762</td>\n",
       "    </tr>\n",
       "    <tr>\n",
       "      <th>3102</th>\n",
       "      <td>14.893</td>\n",
       "      <td>14.986</td>\n",
       "      <td>14.425</td>\n",
       "      <td>14.429</td>\n",
       "      <td>15.319</td>\n",
       "    </tr>\n",
       "    <tr>\n",
       "      <th>8720</th>\n",
       "      <td>12.592</td>\n",
       "      <td>12.958</td>\n",
       "      <td>12.911</td>\n",
       "      <td>13.120</td>\n",
       "      <td>12.749</td>\n",
       "    </tr>\n",
       "    <tr>\n",
       "      <th>888</th>\n",
       "      <td>10.621</td>\n",
       "      <td>10.833</td>\n",
       "      <td>10.454</td>\n",
       "      <td>11.012</td>\n",
       "      <td>10.898</td>\n",
       "    </tr>\n",
       "    <tr>\n",
       "      <th>9283</th>\n",
       "      <td>10.554</td>\n",
       "      <td>10.655</td>\n",
       "      <td>11.046</td>\n",
       "      <td>10.103</td>\n",
       "      <td>10.900</td>\n",
       "    </tr>\n",
       "  </tbody>\n",
       "</table>\n",
       "</div>"
      ],
      "text/plain": [
       "          Y  SourceID_1_2_3  SourceID_1  SourceID_2  SourceID_3\n",
       "1738 11.682          11.724      12.141      11.981      11.350\n",
       "179  14.157          13.889      13.982      14.290      13.400\n",
       "4400  9.942           9.864       9.399       9.343      10.494\n",
       "4234 10.176          10.299      10.706      10.037      10.372\n",
       "481  11.110          11.298      10.784      11.494      11.375\n",
       "447  11.228          11.782      11.867      11.703      11.762\n",
       "3102 14.893          14.986      14.425      14.429      15.319\n",
       "8720 12.592          12.958      12.911      13.120      12.749\n",
       "888  10.621          10.833      10.454      11.012      10.898\n",
       "9283 10.554          10.655      11.046      10.103      10.900"
      ]
     },
     "execution_count": 39,
     "metadata": {},
     "output_type": "execute_result"
    }
   ],
   "source": [
    "# comparison between all the models prediction, and metrics.\n",
    "i = df.index.to_list()\n",
    "for s in ['SourceID_1', 'SourceID_2','SourceID_3']:\n",
    "    df[s] = show_results(*regres[s], indexes=i)['Y_pred']\n",
    "df.rename(columns={'Y_pred':'SourceID_1_2_3'})"
   ]
  },
  {
   "cell_type": "code",
   "execution_count": 40,
   "metadata": {},
   "outputs": [
    {
     "data": {
      "text/html": [
       "<div>\n",
       "<style scoped>\n",
       "    .dataframe tbody tr th:only-of-type {\n",
       "        vertical-align: middle;\n",
       "    }\n",
       "\n",
       "    .dataframe tbody tr th {\n",
       "        vertical-align: top;\n",
       "    }\n",
       "\n",
       "    .dataframe thead th {\n",
       "        text-align: right;\n",
       "    }\n",
       "</style>\n",
       "<table border=\"1\" class=\"dataframe\">\n",
       "  <thead>\n",
       "    <tr style=\"text-align: right;\">\n",
       "      <th></th>\n",
       "      <th>Source</th>\n",
       "      <th>coef</th>\n",
       "      <th>intercept</th>\n",
       "      <th>r2_score</th>\n",
       "      <th>mse</th>\n",
       "      <th># sites</th>\n",
       "    </tr>\n",
       "  </thead>\n",
       "  <tbody>\n",
       "    <tr>\n",
       "      <th>0</th>\n",
       "      <td>SourceID_1</td>\n",
       "      <td>0.905</td>\n",
       "      <td>5.308</td>\n",
       "      <td>0.897</td>\n",
       "      <td>0.327</td>\n",
       "      <td>8502</td>\n",
       "    </tr>\n",
       "    <tr>\n",
       "      <th>1</th>\n",
       "      <td>SourceID_2</td>\n",
       "      <td>0.944</td>\n",
       "      <td>4.832</td>\n",
       "      <td>0.936</td>\n",
       "      <td>0.202</td>\n",
       "      <td>6736</td>\n",
       "    </tr>\n",
       "    <tr>\n",
       "      <th>2</th>\n",
       "      <td>SourceID_3</td>\n",
       "      <td>0.968</td>\n",
       "      <td>4.789</td>\n",
       "      <td>0.965</td>\n",
       "      <td>0.139</td>\n",
       "      <td>3414</td>\n",
       "    </tr>\n",
       "    <tr>\n",
       "      <th>3</th>\n",
       "      <td>SourceID_1_2_3</td>\n",
       "      <td>[0.185, 0.312, 0.484]</td>\n",
       "      <td>4.682</td>\n",
       "      <td>0.975</td>\n",
       "      <td>0.083</td>\n",
       "      <td>2932</td>\n",
       "    </tr>\n",
       "  </tbody>\n",
       "</table>\n",
       "</div>"
      ],
      "text/plain": [
       "           Source                   coef  intercept  r2_score   mse  # sites\n",
       "0      SourceID_1                  0.905      5.308     0.897 0.327     8502\n",
       "1      SourceID_2                  0.944      4.832     0.936 0.202     6736\n",
       "2      SourceID_3                  0.968      4.789     0.965 0.139     3414\n",
       "3  SourceID_1_2_3  [0.185, 0.312, 0.484]      4.682     0.975 0.083     2932"
      ]
     },
     "execution_count": 40,
     "metadata": {},
     "output_type": "execute_result"
    }
   ],
   "source": [
    "scores_Regression = scores_Regression.append({'Source':Source, 'coef':coef,'intercept':round(regr.intercept_,3),'r2_score':r2,'mse':mse, '# sites':n_sites}, ignore_index=True)\n",
    "scores_Regression"
   ]
  },
  {
   "cell_type": "markdown",
   "metadata": {},
   "source": [
    "## The Missing Sites"
   ]
  },
  {
   "cell_type": "code",
   "execution_count": 41,
   "metadata": {},
   "outputs": [
    {
     "name": "stdout",
     "output_type": "stream",
     "text": [
      "(695, 4)\n"
     ]
    },
    {
     "data": {
      "image/png": "[encoded data removed]",
      "text/plain": [
       "<Figure size 360x360 with 1 Axes>"
      ]
     },
     "metadata": {
      "needs_background": "light"
     },
     "output_type": "display_data"
    }
   ],
   "source": [
    "users_sites = sources_df['Site'].to_list()\n",
    "flt = LSet_df['Site'].isin(users_sites)\n",
    "users_missing_sites = LSet_df.loc[~flt]\n",
    "print(users_missing_sites.shape)\n",
    "total_sites = users_missing_sites.shape[0]\n",
    "g = sns.catplot(kind='count', x='percentile', data=users_missing_sites, order=['p10','p20','p30','p40','p50','p60','p70','p80','p90','p100',])\n",
    "\n",
    "for rect in g.ax.patches:\n",
    "    height = rect.get_height()\n",
    "    percentage = round(height/total_sites * 100.0, 2)\n",
    "    x = rect.get_x() + rect.get_width()/2.0\n",
    "    plt.text(x, height, f'{percentage}%  \\n ({height})', ha='center', va='bottom',fontweight='bold', size=8,color='black')\n"
   ]
  },
  {
   "cell_type": "markdown",
   "metadata": {},
   "source": [
    "### conclusion \n",
    "\n",
    "- using all 3 users improve the estimator to: r^2 score- 0.975 and mse score- 0.083. The down side, it can be apply only on 2932 sites from total of 9699.\n",
    "\n",
    "- The missing 695 sites (No user has visited them) - most of them are sites with a low number of visits."
   ]
  }
 ],
 "metadata": {
  "kernelspec": {
   "display_name": "Python 3",
   "language": "python",
   "name": "python3"
  },
  "language_info": {
   "codemirror_mode": {
    "name": "ipython",
    "version": 3
   },
   "file_extension": ".py",
   "mimetype": "text/x-python",
   "name": "python",
   "nbconvert_exporter": "python",
   "pygments_lexer": "ipython3",
   "version": "3.8.5"
  }
 },
 "nbformat": 4,
 "nbformat_minor": 4
}
